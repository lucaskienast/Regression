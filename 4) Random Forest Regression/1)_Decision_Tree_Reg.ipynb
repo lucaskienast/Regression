{
  "nbformat": 4,
  "nbformat_minor": 0,
  "metadata": {
    "colab": {
      "name": "1) Decision Tree Reg.ipynb",
      "provenance": [],
      "collapsed_sections": []
    },
    "kernelspec": {
      "name": "python3",
      "display_name": "Python 3"
    },
    "language_info": {
      "name": "python"
    }
  },
  "cells": [
    {
      "cell_type": "markdown",
      "metadata": {
        "id": "lSgrMUOuuqV9"
      },
      "source": [
        "# Decision Tree Regression: Sklearn\n",
        "\n",
        "In this example, we will go through the implementation of Decision Tree Regression, in which we will predict the revenue of an ice cream shop based on the temperature in an area for 500 days. In this data, we have one independent variable Temperature and one independent variable Revenue which we have to predict. In this problem, we have to build a Decision Tree Regression Model which will study the correlation between the Temperature and Revenue of the Ice Cream Shop and predict the revenue for the ice cream shop based on the temperature on a particular day."
      ]
    },
    {
      "cell_type": "markdown",
      "metadata": {
        "id": "EMxaB4E5u66L"
      },
      "source": [
        "## Import libraries"
      ]
    },
    {
      "cell_type": "code",
      "metadata": {
        "id": "_0C1hzEpuqEL"
      },
      "source": [
        "import numpy as np\n",
        "import pandas as pd\n",
        "import matplotlib.pyplot as plt\n",
        "from sklearn.model_selection import train_test_split\n",
        "from sklearn.tree import DecisionTreeRegressor\n",
        "plt.style.use(\"seaborn-whitegrid\")"
      ],
      "execution_count": 1,
      "outputs": []
    },
    {
      "cell_type": "markdown",
      "metadata": {
        "id": "wHv-k8N1vsuE"
      },
      "source": [
        "## Load data"
      ]
    },
    {
      "cell_type": "code",
      "metadata": {
        "colab": {
          "base_uri": "https://localhost:8080/",
          "height": 419
        },
        "id": "zFJWGUrhogek",
        "outputId": "dea1ded4-6eb0-4de3-901a-9cb867ac2e35"
      },
      "source": [
        "# load data and store in df\n",
        "url = \"https://raw.githubusercontent.com/mk-gurucharan/Regression/master/IceCreamData.csv\"\n",
        "df = pd.read_csv(url)\n",
        "df"
      ],
      "execution_count": 2,
      "outputs": [
        {
          "output_type": "execute_result",
          "data": {
            "text/html": [
              "<div>\n",
              "<style scoped>\n",
              "    .dataframe tbody tr th:only-of-type {\n",
              "        vertical-align: middle;\n",
              "    }\n",
              "\n",
              "    .dataframe tbody tr th {\n",
              "        vertical-align: top;\n",
              "    }\n",
              "\n",
              "    .dataframe thead th {\n",
              "        text-align: right;\n",
              "    }\n",
              "</style>\n",
              "<table border=\"1\" class=\"dataframe\">\n",
              "  <thead>\n",
              "    <tr style=\"text-align: right;\">\n",
              "      <th></th>\n",
              "      <th>Temperature</th>\n",
              "      <th>Revenue</th>\n",
              "    </tr>\n",
              "  </thead>\n",
              "  <tbody>\n",
              "    <tr>\n",
              "      <th>0</th>\n",
              "      <td>24.566884</td>\n",
              "      <td>534.799028</td>\n",
              "    </tr>\n",
              "    <tr>\n",
              "      <th>1</th>\n",
              "      <td>26.005191</td>\n",
              "      <td>625.190122</td>\n",
              "    </tr>\n",
              "    <tr>\n",
              "      <th>2</th>\n",
              "      <td>27.790554</td>\n",
              "      <td>660.632289</td>\n",
              "    </tr>\n",
              "    <tr>\n",
              "      <th>3</th>\n",
              "      <td>20.595335</td>\n",
              "      <td>487.706960</td>\n",
              "    </tr>\n",
              "    <tr>\n",
              "      <th>4</th>\n",
              "      <td>11.503498</td>\n",
              "      <td>316.240194</td>\n",
              "    </tr>\n",
              "    <tr>\n",
              "      <th>...</th>\n",
              "      <td>...</td>\n",
              "      <td>...</td>\n",
              "    </tr>\n",
              "    <tr>\n",
              "      <th>495</th>\n",
              "      <td>22.274899</td>\n",
              "      <td>524.746364</td>\n",
              "    </tr>\n",
              "    <tr>\n",
              "      <th>496</th>\n",
              "      <td>32.893092</td>\n",
              "      <td>755.818399</td>\n",
              "    </tr>\n",
              "    <tr>\n",
              "      <th>497</th>\n",
              "      <td>12.588157</td>\n",
              "      <td>306.090719</td>\n",
              "    </tr>\n",
              "    <tr>\n",
              "      <th>498</th>\n",
              "      <td>22.362402</td>\n",
              "      <td>566.217304</td>\n",
              "    </tr>\n",
              "    <tr>\n",
              "      <th>499</th>\n",
              "      <td>28.957736</td>\n",
              "      <td>655.660388</td>\n",
              "    </tr>\n",
              "  </tbody>\n",
              "</table>\n",
              "<p>500 rows × 2 columns</p>\n",
              "</div>"
            ],
            "text/plain": [
              "     Temperature     Revenue\n",
              "0      24.566884  534.799028\n",
              "1      26.005191  625.190122\n",
              "2      27.790554  660.632289\n",
              "3      20.595335  487.706960\n",
              "4      11.503498  316.240194\n",
              "..           ...         ...\n",
              "495    22.274899  524.746364\n",
              "496    32.893092  755.818399\n",
              "497    12.588157  306.090719\n",
              "498    22.362402  566.217304\n",
              "499    28.957736  655.660388\n",
              "\n",
              "[500 rows x 2 columns]"
            ]
          },
          "metadata": {},
          "execution_count": 2
        }
      ]
    },
    {
      "cell_type": "markdown",
      "metadata": {
        "id": "LP1JDG1Qv-RT"
      },
      "source": [
        "## Explore data"
      ]
    },
    {
      "cell_type": "code",
      "metadata": {
        "colab": {
          "base_uri": "https://localhost:8080/",
          "height": 297
        },
        "id": "iLvQQVeJv27r",
        "outputId": "891cefdf-34e6-40eb-a094-f0042aa95df8"
      },
      "source": [
        "# show descriptive statistics\n",
        "df.describe()"
      ],
      "execution_count": 3,
      "outputs": [
        {
          "output_type": "execute_result",
          "data": {
            "text/html": [
              "<div>\n",
              "<style scoped>\n",
              "    .dataframe tbody tr th:only-of-type {\n",
              "        vertical-align: middle;\n",
              "    }\n",
              "\n",
              "    .dataframe tbody tr th {\n",
              "        vertical-align: top;\n",
              "    }\n",
              "\n",
              "    .dataframe thead th {\n",
              "        text-align: right;\n",
              "    }\n",
              "</style>\n",
              "<table border=\"1\" class=\"dataframe\">\n",
              "  <thead>\n",
              "    <tr style=\"text-align: right;\">\n",
              "      <th></th>\n",
              "      <th>Temperature</th>\n",
              "      <th>Revenue</th>\n",
              "    </tr>\n",
              "  </thead>\n",
              "  <tbody>\n",
              "    <tr>\n",
              "      <th>count</th>\n",
              "      <td>500.000000</td>\n",
              "      <td>500.000000</td>\n",
              "    </tr>\n",
              "    <tr>\n",
              "      <th>mean</th>\n",
              "      <td>22.232225</td>\n",
              "      <td>521.570777</td>\n",
              "    </tr>\n",
              "    <tr>\n",
              "      <th>std</th>\n",
              "      <td>8.096388</td>\n",
              "      <td>175.404751</td>\n",
              "    </tr>\n",
              "    <tr>\n",
              "      <th>min</th>\n",
              "      <td>0.000000</td>\n",
              "      <td>10.000000</td>\n",
              "    </tr>\n",
              "    <tr>\n",
              "      <th>25%</th>\n",
              "      <td>17.122258</td>\n",
              "      <td>405.558681</td>\n",
              "    </tr>\n",
              "    <tr>\n",
              "      <th>50%</th>\n",
              "      <td>22.392791</td>\n",
              "      <td>529.368565</td>\n",
              "    </tr>\n",
              "    <tr>\n",
              "      <th>75%</th>\n",
              "      <td>27.740674</td>\n",
              "      <td>642.257922</td>\n",
              "    </tr>\n",
              "    <tr>\n",
              "      <th>max</th>\n",
              "      <td>45.000000</td>\n",
              "      <td>1000.000000</td>\n",
              "    </tr>\n",
              "  </tbody>\n",
              "</table>\n",
              "</div>"
            ],
            "text/plain": [
              "       Temperature      Revenue\n",
              "count   500.000000   500.000000\n",
              "mean     22.232225   521.570777\n",
              "std       8.096388   175.404751\n",
              "min       0.000000    10.000000\n",
              "25%      17.122258   405.558681\n",
              "50%      22.392791   529.368565\n",
              "75%      27.740674   642.257922\n",
              "max      45.000000  1000.000000"
            ]
          },
          "metadata": {},
          "execution_count": 3
        }
      ]
    },
    {
      "cell_type": "code",
      "metadata": {
        "colab": {
          "base_uri": "https://localhost:8080/",
          "height": 443
        },
        "id": "MNbqvRvbwCvO",
        "outputId": "ad4bd345-4c55-4c1a-cbfd-8fcf047ba875"
      },
      "source": [
        "# plot temperature against revenue\n",
        "plt.figure(figsize=(14,7))\n",
        "plt.scatter(df[\"Temperature\"], df[\"Revenue\"])\n",
        "plt.xlabel(\"Temperature\", fontsize=14)\n",
        "plt.ylabel(\"Revenue\", fontsize=14)\n",
        "plt.show()"
      ],
      "execution_count": 4,
      "outputs": [
        {
          "output_type": "display_data",
          "data": {
            "image/png": "[encoded data removed]",
            "text/plain": [
              "<Figure size 1008x504 with 1 Axes>"
            ]
          },
          "metadata": {
            "needs_background": "light"
          }
        }
      ]
    },
    {
      "cell_type": "markdown",
      "metadata": {
        "id": "EbPeN_P1waCW"
      },
      "source": [
        "## Declare features and targets"
      ]
    },
    {
      "cell_type": "code",
      "metadata": {
        "id": "ZvRNojvmwOCE"
      },
      "source": [
        "# create features (X) and targets (y)\n",
        "y = df[[\"Revenue\"]].values\n",
        "X = df[[\"Temperature\"]].values"
      ],
      "execution_count": 5,
      "outputs": []
    },
    {
      "cell_type": "markdown",
      "metadata": {
        "id": "E6j5aG0zw7VR"
      },
      "source": [
        "## Train-Test Split"
      ]
    },
    {
      "cell_type": "code",
      "metadata": {
        "id": "zhMsIJtSw4x0"
      },
      "source": [
        "# 90:10 split\n",
        "X_train, X_test, y_train, y_test = train_test_split(X, y, test_size = 0.05, random_state=42)"
      ],
      "execution_count": 6,
      "outputs": []
    },
    {
      "cell_type": "markdown",
      "metadata": {
        "id": "jCJU0L44xGwq"
      },
      "source": [
        "## Train Decision Tree Model"
      ]
    },
    {
      "cell_type": "code",
      "metadata": {
        "colab": {
          "base_uri": "https://localhost:8080/"
        },
        "id": "0oUvUG2dxDXT",
        "outputId": "fee96d3e-64b8-4fc8-acf1-d4ae82721a4f"
      },
      "source": [
        "# build and train model\n",
        "regressor = DecisionTreeRegressor()\n",
        "regressor.fit(X_train, y_train)"
      ],
      "execution_count": 7,
      "outputs": [
        {
          "output_type": "execute_result",
          "data": {
            "text/plain": [
              "DecisionTreeRegressor(ccp_alpha=0.0, criterion='mse', max_depth=None,\n",
              "                      max_features=None, max_leaf_nodes=None,\n",
              "                      min_impurity_decrease=0.0, min_impurity_split=None,\n",
              "                      min_samples_leaf=1, min_samples_split=2,\n",
              "                      min_weight_fraction_leaf=0.0, presort='deprecated',\n",
              "                      random_state=None, splitter='best')"
            ]
          },
          "metadata": {},
          "execution_count": 7
        }
      ]
    },
    {
      "cell_type": "markdown",
      "metadata": {
        "id": "iELhkqpwxZ3t"
      },
      "source": [
        "## Test Decision Tree Model"
      ]
    },
    {
      "cell_type": "code",
      "metadata": {
        "id": "NXlHTz30xQId"
      },
      "source": [
        "# compute predictions\n",
        "yhat = regressor.predict(X_test)"
      ],
      "execution_count": 8,
      "outputs": []
    },
    {
      "cell_type": "code",
      "metadata": {
        "colab": {
          "base_uri": "https://localhost:8080/",
          "height": 824
        },
        "id": "Cfi3atQixnI_",
        "outputId": "4b2ac158-b466-40c1-dd56-6e5de0bf63c7"
      },
      "source": [
        "# compare predictions with actuals in table\n",
        "eval_df = pd.DataFrame({\"Actuals\": y_test.reshape(-1), \"Predictions\": yhat, \"%-Error\": np.abs(((yhat-y_test.reshape(-1))/y_test.reshape(-1))*100)})\n",
        "eval_df"
      ],
      "execution_count": 9,
      "outputs": [
        {
          "output_type": "execute_result",
          "data": {
            "text/html": [
              "<div>\n",
              "<style scoped>\n",
              "    .dataframe tbody tr th:only-of-type {\n",
              "        vertical-align: middle;\n",
              "    }\n",
              "\n",
              "    .dataframe tbody tr th {\n",
              "        vertical-align: top;\n",
              "    }\n",
              "\n",
              "    .dataframe thead th {\n",
              "        text-align: right;\n",
              "    }\n",
              "</style>\n",
              "<table border=\"1\" class=\"dataframe\">\n",
              "  <thead>\n",
              "    <tr style=\"text-align: right;\">\n",
              "      <th></th>\n",
              "      <th>Actuals</th>\n",
              "      <th>Predictions</th>\n",
              "      <th>%-Error</th>\n",
              "    </tr>\n",
              "  </thead>\n",
              "  <tbody>\n",
              "    <tr>\n",
              "      <th>0</th>\n",
              "      <td>659.873287</td>\n",
              "      <td>702.994011</td>\n",
              "      <td>6.534698</td>\n",
              "    </tr>\n",
              "    <tr>\n",
              "      <th>1</th>\n",
              "      <td>623.248701</td>\n",
              "      <td>612.803770</td>\n",
              "      <td>1.675885</td>\n",
              "    </tr>\n",
              "    <tr>\n",
              "      <th>2</th>\n",
              "      <td>559.135869</td>\n",
              "      <td>603.232942</td>\n",
              "      <td>7.886647</td>\n",
              "    </tr>\n",
              "    <tr>\n",
              "      <th>3</th>\n",
              "      <td>497.752318</td>\n",
              "      <td>493.226636</td>\n",
              "      <td>0.909224</td>\n",
              "    </tr>\n",
              "    <tr>\n",
              "      <th>4</th>\n",
              "      <td>627.901841</td>\n",
              "      <td>612.243721</td>\n",
              "      <td>2.493721</td>\n",
              "    </tr>\n",
              "    <tr>\n",
              "      <th>5</th>\n",
              "      <td>300.932273</td>\n",
              "      <td>278.418265</td>\n",
              "      <td>7.481420</td>\n",
              "    </tr>\n",
              "    <tr>\n",
              "      <th>6</th>\n",
              "      <td>278.731962</td>\n",
              "      <td>293.926393</td>\n",
              "      <td>5.451270</td>\n",
              "    </tr>\n",
              "    <tr>\n",
              "      <th>7</th>\n",
              "      <td>319.349462</td>\n",
              "      <td>306.090719</td>\n",
              "      <td>4.151798</td>\n",
              "    </tr>\n",
              "    <tr>\n",
              "      <th>8</th>\n",
              "      <td>483.489769</td>\n",
              "      <td>528.116240</td>\n",
              "      <td>9.230076</td>\n",
              "    </tr>\n",
              "    <tr>\n",
              "      <th>9</th>\n",
              "      <td>683.544781</td>\n",
              "      <td>696.640178</td>\n",
              "      <td>1.915807</td>\n",
              "    </tr>\n",
              "    <tr>\n",
              "      <th>10</th>\n",
              "      <td>737.800824</td>\n",
              "      <td>733.215828</td>\n",
              "      <td>0.621441</td>\n",
              "    </tr>\n",
              "    <tr>\n",
              "      <th>11</th>\n",
              "      <td>401.924792</td>\n",
              "      <td>414.423028</td>\n",
              "      <td>3.109596</td>\n",
              "    </tr>\n",
              "    <tr>\n",
              "      <th>12</th>\n",
              "      <td>441.002944</td>\n",
              "      <td>413.914067</td>\n",
              "      <td>6.142562</td>\n",
              "    </tr>\n",
              "    <tr>\n",
              "      <th>13</th>\n",
              "      <td>654.747461</td>\n",
              "      <td>679.317791</td>\n",
              "      <td>3.752642</td>\n",
              "    </tr>\n",
              "    <tr>\n",
              "      <th>14</th>\n",
              "      <td>32.546619</td>\n",
              "      <td>10.000000</td>\n",
              "      <td>69.274842</td>\n",
              "    </tr>\n",
              "    <tr>\n",
              "      <th>15</th>\n",
              "      <td>221.400252</td>\n",
              "      <td>216.183462</td>\n",
              "      <td>2.356271</td>\n",
              "    </tr>\n",
              "    <tr>\n",
              "      <th>16</th>\n",
              "      <td>524.746364</td>\n",
              "      <td>550.278516</td>\n",
              "      <td>4.865618</td>\n",
              "    </tr>\n",
              "    <tr>\n",
              "      <th>17</th>\n",
              "      <td>528.380417</td>\n",
              "      <td>569.618756</td>\n",
              "      <td>7.804668</td>\n",
              "    </tr>\n",
              "    <tr>\n",
              "      <th>18</th>\n",
              "      <td>587.221246</td>\n",
              "      <td>571.434257</td>\n",
              "      <td>2.688423</td>\n",
              "    </tr>\n",
              "    <tr>\n",
              "      <th>19</th>\n",
              "      <td>643.090944</td>\n",
              "      <td>702.994011</td>\n",
              "      <td>9.314867</td>\n",
              "    </tr>\n",
              "    <tr>\n",
              "      <th>20</th>\n",
              "      <td>584.399945</td>\n",
              "      <td>523.124547</td>\n",
              "      <td>10.485182</td>\n",
              "    </tr>\n",
              "    <tr>\n",
              "      <th>21</th>\n",
              "      <td>809.352520</td>\n",
              "      <td>756.962562</td>\n",
              "      <td>6.473070</td>\n",
              "    </tr>\n",
              "    <tr>\n",
              "      <th>22</th>\n",
              "      <td>607.839194</td>\n",
              "      <td>726.233771</td>\n",
              "      <td>19.477944</td>\n",
              "    </tr>\n",
              "    <tr>\n",
              "      <th>23</th>\n",
              "      <td>596.876750</td>\n",
              "      <td>526.547065</td>\n",
              "      <td>11.782949</td>\n",
              "    </tr>\n",
              "    <tr>\n",
              "      <th>24</th>\n",
              "      <td>918.391232</td>\n",
              "      <td>926.067153</td>\n",
              "      <td>0.835801</td>\n",
              "    </tr>\n",
              "  </tbody>\n",
              "</table>\n",
              "</div>"
            ],
            "text/plain": [
              "       Actuals  Predictions    %-Error\n",
              "0   659.873287   702.994011   6.534698\n",
              "1   623.248701   612.803770   1.675885\n",
              "2   559.135869   603.232942   7.886647\n",
              "3   497.752318   493.226636   0.909224\n",
              "4   627.901841   612.243721   2.493721\n",
              "5   300.932273   278.418265   7.481420\n",
              "6   278.731962   293.926393   5.451270\n",
              "7   319.349462   306.090719   4.151798\n",
              "8   483.489769   528.116240   9.230076\n",
              "9   683.544781   696.640178   1.915807\n",
              "10  737.800824   733.215828   0.621441\n",
              "11  401.924792   414.423028   3.109596\n",
              "12  441.002944   413.914067   6.142562\n",
              "13  654.747461   679.317791   3.752642\n",
              "14   32.546619    10.000000  69.274842\n",
              "15  221.400252   216.183462   2.356271\n",
              "16  524.746364   550.278516   4.865618\n",
              "17  528.380417   569.618756   7.804668\n",
              "18  587.221246   571.434257   2.688423\n",
              "19  643.090944   702.994011   9.314867\n",
              "20  584.399945   523.124547  10.485182\n",
              "21  809.352520   756.962562   6.473070\n",
              "22  607.839194   726.233771  19.477944\n",
              "23  596.876750   526.547065  11.782949\n",
              "24  918.391232   926.067153   0.835801"
            ]
          },
          "metadata": {},
          "execution_count": 9
        }
      ]
    },
    {
      "cell_type": "code",
      "metadata": {
        "colab": {
          "base_uri": "https://localhost:8080/"
        },
        "id": "47reHUetx0xS",
        "outputId": "3f4335f3-449d-41be-d232-ac34c68a5523"
      },
      "source": [
        "# compute mean percentage error\n",
        "eval_df.loc[:, \"%-Error\"].mean()"
      ],
      "execution_count": 10,
      "outputs": [
        {
          "output_type": "execute_result",
          "data": {
            "text/plain": [
              "8.268656819532357"
            ]
          },
          "metadata": {},
          "execution_count": 10
        }
      ]
    },
    {
      "cell_type": "code",
      "metadata": {
        "colab": {
          "base_uri": "https://localhost:8080/",
          "height": 334
        },
        "id": "k0nbfBAmx-qy",
        "outputId": "287c5d82-86fc-430d-891b-61c3d029bb96"
      },
      "source": [
        "# plot predictions against actuals\n",
        "fig, axes = plt.subplots(nrows=1, ncols=3, figsize=(20,5))\n",
        "\n",
        "axes[0].scatter(X_test, y_test.reshape(-1), color=\"cornflowerblue\", label=\"Actuals\")\n",
        "axes[0].scatter(X_test, yhat, color=\"darkorange\", label=\"Predictions\")\n",
        "axes[0].set_xlabel(\"Temperature\", fontsize=14)\n",
        "axes[0].set_ylabel(\"Revenue\", fontsize=14)\n",
        "axes[0].legend(fontsize=14)\n",
        "\n",
        "X_grid = np.arange(min(X), max(X), 0.1)\n",
        "X_grid = X_grid.reshape((len(X_grid), 1))\n",
        "axes[1].plot(X_grid, regressor.predict(X_grid), color = 'grey', label=\"Decision Tree Regression\")\n",
        "axes[1].set_xlabel(\"Temperature\", fontsize=14)\n",
        "axes[1].set_ylabel(\"Revenue\", fontsize=14)\n",
        "axes[1].legend(fontsize=14)\n",
        "\n",
        "axes[2].scatter(y_test.reshape(-1), yhat, color=\"red\", label=\"actual vs prediction\")\n",
        "axes[2].plot(np.arange(min(y), max(y)), np.arange(min(y), max(y)), linestyle=\"dashed\", label=\"Perfect fit line\")\n",
        "axes[2].set_xlabel(\"Actual Revenue\", fontsize=14)\n",
        "axes[2].set_ylabel(\"Predicted Revenue\", fontsize=14)\n",
        "axes[2].legend(fontsize=14)\n",
        "\n",
        "plt.show()"
      ],
      "execution_count": 11,
      "outputs": [
        {
          "output_type": "display_data",
          "data": {
            "image/png": "[encoded data removed]",
            "text/plain": [
              "<Figure size 1440x360 with 3 Axes>"
            ]
          },
          "metadata": {
            "needs_background": "light"
          }
        }
      ]
    },
    {
      "cell_type": "code",
      "metadata": {
        "id": "CpjBf0HDy2Mw"
      },
      "source": [
        ""
      ],
      "execution_count": 11,
      "outputs": []
    }
  ]
}