{
  "nbformat": 4,
  "nbformat_minor": 0,
  "metadata": {
    "colab": {
      "name": "2) Random Forest Reg.ipynb",
      "provenance": [],
      "collapsed_sections": []
    },
    "kernelspec": {
      "name": "python3",
      "display_name": "Python 3"
    },
    "language_info": {
      "name": "python"
    }
  },
  "cells": [
    {
      "cell_type": "markdown",
      "metadata": {
        "id": "gkMzyasK1S_2"
      },
      "source": [
        "# Random Forest Regression: Sklearn\n",
        "\n",
        "We have one independent variable Temperature and one independent variable Revenue which we have to predict. In this problem, we have to build a Random Forest Regression Model which will study the correlation between the Temperature and Revenue of the Ice Cream Shop and predict the revenue for the ice cream shop based on the temperature on a particular day."
      ]
    },
    {
      "cell_type": "markdown",
      "metadata": {
        "id": "qWplKmXj2nqn"
      },
      "source": [
        "## Import libraries"
      ]
    },
    {
      "cell_type": "code",
      "metadata": {
        "id": "e4ELzCRC1PFT"
      },
      "source": [
        "import numpy as np\n",
        "import pandas as pd\n",
        "import matplotlib.pyplot as plt\n",
        "from sklearn.model_selection import train_test_split\n",
        "from sklearn.ensemble import RandomForestRegressor"
      ],
      "execution_count": 1,
      "outputs": []
    },
    {
      "cell_type": "markdown",
      "metadata": {
        "id": "UbTv1Yi42ypQ"
      },
      "source": [
        "## Load data"
      ]
    },
    {
      "cell_type": "code",
      "metadata": {
        "colab": {
          "base_uri": "https://localhost:8080/",
          "height": 419
        },
        "id": "Up0Su9Vf2yKQ",
        "outputId": "005ec686-e461-4ca4-ebd8-eb366e91ec9d"
      },
      "source": [
        "url = \"https://raw.githubusercontent.com/mk-gurucharan/Regression/master/IceCreamData.csv\"\n",
        "df = pd.read_csv(url)\n",
        "df"
      ],
      "execution_count": 2,
      "outputs": [
        {
          "output_type": "execute_result",
          "data": {
            "text/html": [
              "<div>\n",
              "<style scoped>\n",
              "    .dataframe tbody tr th:only-of-type {\n",
              "        vertical-align: middle;\n",
              "    }\n",
              "\n",
              "    .dataframe tbody tr th {\n",
              "        vertical-align: top;\n",
              "    }\n",
              "\n",
              "    .dataframe thead th {\n",
              "        text-align: right;\n",
              "    }\n",
              "</style>\n",
              "<table border=\"1\" class=\"dataframe\">\n",
              "  <thead>\n",
              "    <tr style=\"text-align: right;\">\n",
              "      <th></th>\n",
              "      <th>Temperature</th>\n",
              "      <th>Revenue</th>\n",
              "    </tr>\n",
              "  </thead>\n",
              "  <tbody>\n",
              "    <tr>\n",
              "      <th>0</th>\n",
              "      <td>24.566884</td>\n",
              "      <td>534.799028</td>\n",
              "    </tr>\n",
              "    <tr>\n",
              "      <th>1</th>\n",
              "      <td>26.005191</td>\n",
              "      <td>625.190122</td>\n",
              "    </tr>\n",
              "    <tr>\n",
              "      <th>2</th>\n",
              "      <td>27.790554</td>\n",
              "      <td>660.632289</td>\n",
              "    </tr>\n",
              "    <tr>\n",
              "      <th>3</th>\n",
              "      <td>20.595335</td>\n",
              "      <td>487.706960</td>\n",
              "    </tr>\n",
              "    <tr>\n",
              "      <th>4</th>\n",
              "      <td>11.503498</td>\n",
              "      <td>316.240194</td>\n",
              "    </tr>\n",
              "    <tr>\n",
              "      <th>...</th>\n",
              "      <td>...</td>\n",
              "      <td>...</td>\n",
              "    </tr>\n",
              "    <tr>\n",
              "      <th>495</th>\n",
              "      <td>22.274899</td>\n",
              "      <td>524.746364</td>\n",
              "    </tr>\n",
              "    <tr>\n",
              "      <th>496</th>\n",
              "      <td>32.893092</td>\n",
              "      <td>755.818399</td>\n",
              "    </tr>\n",
              "    <tr>\n",
              "      <th>497</th>\n",
              "      <td>12.588157</td>\n",
              "      <td>306.090719</td>\n",
              "    </tr>\n",
              "    <tr>\n",
              "      <th>498</th>\n",
              "      <td>22.362402</td>\n",
              "      <td>566.217304</td>\n",
              "    </tr>\n",
              "    <tr>\n",
              "      <th>499</th>\n",
              "      <td>28.957736</td>\n",
              "      <td>655.660388</td>\n",
              "    </tr>\n",
              "  </tbody>\n",
              "</table>\n",
              "<p>500 rows × 2 columns</p>\n",
              "</div>"
            ],
            "text/plain": [
              "     Temperature     Revenue\n",
              "0      24.566884  534.799028\n",
              "1      26.005191  625.190122\n",
              "2      27.790554  660.632289\n",
              "3      20.595335  487.706960\n",
              "4      11.503498  316.240194\n",
              "..           ...         ...\n",
              "495    22.274899  524.746364\n",
              "496    32.893092  755.818399\n",
              "497    12.588157  306.090719\n",
              "498    22.362402  566.217304\n",
              "499    28.957736  655.660388\n",
              "\n",
              "[500 rows x 2 columns]"
            ]
          },
          "metadata": {},
          "execution_count": 2
        }
      ]
    },
    {
      "cell_type": "markdown",
      "metadata": {
        "id": "Yd_vVTKH2-JP"
      },
      "source": [
        "## Explore data"
      ]
    },
    {
      "cell_type": "code",
      "metadata": {
        "colab": {
          "base_uri": "https://localhost:8080/",
          "height": 297
        },
        "id": "H1ZQ9iQT265I",
        "outputId": "e9402c5d-3f94-480c-cb13-cca8ccb91dbc"
      },
      "source": [
        "# show descriptive statistics\n",
        "df.describe()"
      ],
      "execution_count": 3,
      "outputs": [
        {
          "output_type": "execute_result",
          "data": {
            "text/html": [
              "<div>\n",
              "<style scoped>\n",
              "    .dataframe tbody tr th:only-of-type {\n",
              "        vertical-align: middle;\n",
              "    }\n",
              "\n",
              "    .dataframe tbody tr th {\n",
              "        vertical-align: top;\n",
              "    }\n",
              "\n",
              "    .dataframe thead th {\n",
              "        text-align: right;\n",
              "    }\n",
              "</style>\n",
              "<table border=\"1\" class=\"dataframe\">\n",
              "  <thead>\n",
              "    <tr style=\"text-align: right;\">\n",
              "      <th></th>\n",
              "      <th>Temperature</th>\n",
              "      <th>Revenue</th>\n",
              "    </tr>\n",
              "  </thead>\n",
              "  <tbody>\n",
              "    <tr>\n",
              "      <th>count</th>\n",
              "      <td>500.000000</td>\n",
              "      <td>500.000000</td>\n",
              "    </tr>\n",
              "    <tr>\n",
              "      <th>mean</th>\n",
              "      <td>22.232225</td>\n",
              "      <td>521.570777</td>\n",
              "    </tr>\n",
              "    <tr>\n",
              "      <th>std</th>\n",
              "      <td>8.096388</td>\n",
              "      <td>175.404751</td>\n",
              "    </tr>\n",
              "    <tr>\n",
              "      <th>min</th>\n",
              "      <td>0.000000</td>\n",
              "      <td>10.000000</td>\n",
              "    </tr>\n",
              "    <tr>\n",
              "      <th>25%</th>\n",
              "      <td>17.122258</td>\n",
              "      <td>405.558681</td>\n",
              "    </tr>\n",
              "    <tr>\n",
              "      <th>50%</th>\n",
              "      <td>22.392791</td>\n",
              "      <td>529.368565</td>\n",
              "    </tr>\n",
              "    <tr>\n",
              "      <th>75%</th>\n",
              "      <td>27.740674</td>\n",
              "      <td>642.257922</td>\n",
              "    </tr>\n",
              "    <tr>\n",
              "      <th>max</th>\n",
              "      <td>45.000000</td>\n",
              "      <td>1000.000000</td>\n",
              "    </tr>\n",
              "  </tbody>\n",
              "</table>\n",
              "</div>"
            ],
            "text/plain": [
              "       Temperature      Revenue\n",
              "count   500.000000   500.000000\n",
              "mean     22.232225   521.570777\n",
              "std       8.096388   175.404751\n",
              "min       0.000000    10.000000\n",
              "25%      17.122258   405.558681\n",
              "50%      22.392791   529.368565\n",
              "75%      27.740674   642.257922\n",
              "max      45.000000  1000.000000"
            ]
          },
          "metadata": {},
          "execution_count": 3
        }
      ]
    },
    {
      "cell_type": "code",
      "metadata": {
        "colab": {
          "base_uri": "https://localhost:8080/",
          "height": 446
        },
        "id": "k9YtnfJd2_jp",
        "outputId": "249a18e3-3ec5-482e-9614-91b7dea99770"
      },
      "source": [
        "# plot temperature against revenue\n",
        "plt.figure(figsize=(14,7))\n",
        "plt.scatter(df[\"Temperature\"], df[\"Revenue\"])\n",
        "plt.xlabel(\"Temperature\", fontsize=14)\n",
        "plt.ylabel(\"Revenue\", fontsize=14)\n",
        "plt.show()"
      ],
      "execution_count": 4,
      "outputs": [
        {
          "output_type": "display_data",
          "data": {
            "image/png": "[encoded data removed]",
            "text/plain": [
              "<Figure size 1008x504 with 1 Axes>"
            ]
          },
          "metadata": {
            "needs_background": "light"
          }
        }
      ]
    },
    {
      "cell_type": "markdown",
      "metadata": {
        "id": "crVt1Z3f3EvV"
      },
      "source": [
        "## Declare features and targets"
      ]
    },
    {
      "cell_type": "code",
      "metadata": {
        "id": "l3EMLfmi3CJR"
      },
      "source": [
        "# create features (X) and targets (y)\n",
        "y = df[[\"Revenue\"]].values\n",
        "X = df[[\"Temperature\"]].values"
      ],
      "execution_count": 5,
      "outputs": []
    },
    {
      "cell_type": "markdown",
      "metadata": {
        "id": "R4cUVOY-3IsY"
      },
      "source": [
        "## Train-Test Split"
      ]
    },
    {
      "cell_type": "code",
      "metadata": {
        "id": "EDCsD0Kl3G2x"
      },
      "source": [
        "# 90:10 split\n",
        "X_train, X_test, y_train, y_test = train_test_split(X, y, test_size = 0.05, random_state=42)"
      ],
      "execution_count": 6,
      "outputs": []
    },
    {
      "cell_type": "markdown",
      "metadata": {
        "id": "dk1bVrc-3PnE"
      },
      "source": [
        "## Train Random Forest Model"
      ]
    },
    {
      "cell_type": "code",
      "metadata": {
        "colab": {
          "base_uri": "https://localhost:8080/"
        },
        "id": "ecTlo-L03OAL",
        "outputId": "5ac43f78-88e9-440a-f8ca-73c03d0eb527"
      },
      "source": [
        "# build and train random forest model\n",
        "regressor = RandomForestRegressor(n_estimators=10, random_state=0)\n",
        "regressor.fit(X_train, y_train.ravel())"
      ],
      "execution_count": 7,
      "outputs": [
        {
          "output_type": "execute_result",
          "data": {
            "text/plain": [
              "RandomForestRegressor(bootstrap=True, ccp_alpha=0.0, criterion='mse',\n",
              "                      max_depth=None, max_features='auto', max_leaf_nodes=None,\n",
              "                      max_samples=None, min_impurity_decrease=0.0,\n",
              "                      min_impurity_split=None, min_samples_leaf=1,\n",
              "                      min_samples_split=2, min_weight_fraction_leaf=0.0,\n",
              "                      n_estimators=10, n_jobs=None, oob_score=False,\n",
              "                      random_state=0, verbose=0, warm_start=False)"
            ]
          },
          "metadata": {},
          "execution_count": 7
        }
      ]
    },
    {
      "cell_type": "markdown",
      "metadata": {
        "id": "t0BdoTr834qH"
      },
      "source": [
        "## Test Random Forest Model"
      ]
    },
    {
      "cell_type": "code",
      "metadata": {
        "id": "5OUZT3Qt3qAc"
      },
      "source": [
        "# compute predictions\n",
        "yhat = regressor.predict(X_test)"
      ],
      "execution_count": 8,
      "outputs": []
    },
    {
      "cell_type": "code",
      "metadata": {
        "colab": {
          "base_uri": "https://localhost:8080/",
          "height": 824
        },
        "id": "rmSevLg638z3",
        "outputId": "b2fa87e2-25ba-446a-abdc-c50669626610"
      },
      "source": [
        "# compare predictions with actuals in table\n",
        "eval_df = pd.DataFrame({\"Actuals\": y_test.reshape(-1), \"Predictions\": yhat, \"%-Error\": np.abs(((yhat-y_test.reshape(-1))/y_test.reshape(-1))*100)})\n",
        "eval_df"
      ],
      "execution_count": 9,
      "outputs": [
        {
          "output_type": "execute_result",
          "data": {
            "text/html": [
              "<div>\n",
              "<style scoped>\n",
              "    .dataframe tbody tr th:only-of-type {\n",
              "        vertical-align: middle;\n",
              "    }\n",
              "\n",
              "    .dataframe tbody tr th {\n",
              "        vertical-align: top;\n",
              "    }\n",
              "\n",
              "    .dataframe thead th {\n",
              "        text-align: right;\n",
              "    }\n",
              "</style>\n",
              "<table border=\"1\" class=\"dataframe\">\n",
              "  <thead>\n",
              "    <tr style=\"text-align: right;\">\n",
              "      <th></th>\n",
              "      <th>Actuals</th>\n",
              "      <th>Predictions</th>\n",
              "      <th>%-Error</th>\n",
              "    </tr>\n",
              "  </thead>\n",
              "  <tbody>\n",
              "    <tr>\n",
              "      <th>0</th>\n",
              "      <td>659.873287</td>\n",
              "      <td>698.708383</td>\n",
              "      <td>5.885235</td>\n",
              "    </tr>\n",
              "    <tr>\n",
              "      <th>1</th>\n",
              "      <td>623.248701</td>\n",
              "      <td>613.827099</td>\n",
              "      <td>1.511692</td>\n",
              "    </tr>\n",
              "    <tr>\n",
              "      <th>2</th>\n",
              "      <td>559.135869</td>\n",
              "      <td>595.222103</td>\n",
              "      <td>6.453929</td>\n",
              "    </tr>\n",
              "    <tr>\n",
              "      <th>3</th>\n",
              "      <td>497.752318</td>\n",
              "      <td>495.198163</td>\n",
              "      <td>0.513138</td>\n",
              "    </tr>\n",
              "    <tr>\n",
              "      <th>4</th>\n",
              "      <td>627.901841</td>\n",
              "      <td>606.211022</td>\n",
              "      <td>3.454492</td>\n",
              "    </tr>\n",
              "    <tr>\n",
              "      <th>5</th>\n",
              "      <td>300.932273</td>\n",
              "      <td>299.345340</td>\n",
              "      <td>0.527339</td>\n",
              "    </tr>\n",
              "    <tr>\n",
              "      <th>6</th>\n",
              "      <td>278.731962</td>\n",
              "      <td>292.195918</td>\n",
              "      <td>4.830432</td>\n",
              "    </tr>\n",
              "    <tr>\n",
              "      <th>7</th>\n",
              "      <td>319.349462</td>\n",
              "      <td>305.619451</td>\n",
              "      <td>4.299369</td>\n",
              "    </tr>\n",
              "    <tr>\n",
              "      <th>8</th>\n",
              "      <td>483.489769</td>\n",
              "      <td>530.199474</td>\n",
              "      <td>9.660950</td>\n",
              "    </tr>\n",
              "    <tr>\n",
              "      <th>9</th>\n",
              "      <td>683.544781</td>\n",
              "      <td>696.403514</td>\n",
              "      <td>1.881184</td>\n",
              "    </tr>\n",
              "    <tr>\n",
              "      <th>10</th>\n",
              "      <td>737.800824</td>\n",
              "      <td>731.913558</td>\n",
              "      <td>0.797948</td>\n",
              "    </tr>\n",
              "    <tr>\n",
              "      <th>11</th>\n",
              "      <td>401.924792</td>\n",
              "      <td>393.684281</td>\n",
              "      <td>2.050262</td>\n",
              "    </tr>\n",
              "    <tr>\n",
              "      <th>12</th>\n",
              "      <td>441.002944</td>\n",
              "      <td>416.590443</td>\n",
              "      <td>5.535678</td>\n",
              "    </tr>\n",
              "    <tr>\n",
              "      <th>13</th>\n",
              "      <td>654.747461</td>\n",
              "      <td>682.770446</td>\n",
              "      <td>4.279969</td>\n",
              "    </tr>\n",
              "    <tr>\n",
              "      <th>14</th>\n",
              "      <td>32.546619</td>\n",
              "      <td>29.733117</td>\n",
              "      <td>8.644530</td>\n",
              "    </tr>\n",
              "    <tr>\n",
              "      <th>15</th>\n",
              "      <td>221.400252</td>\n",
              "      <td>211.198837</td>\n",
              "      <td>4.607680</td>\n",
              "    </tr>\n",
              "    <tr>\n",
              "      <th>16</th>\n",
              "      <td>524.746364</td>\n",
              "      <td>542.966369</td>\n",
              "      <td>3.472155</td>\n",
              "    </tr>\n",
              "    <tr>\n",
              "      <th>17</th>\n",
              "      <td>528.380417</td>\n",
              "      <td>568.495629</td>\n",
              "      <td>7.592108</td>\n",
              "    </tr>\n",
              "    <tr>\n",
              "      <th>18</th>\n",
              "      <td>587.221246</td>\n",
              "      <td>571.858027</td>\n",
              "      <td>2.616257</td>\n",
              "    </tr>\n",
              "    <tr>\n",
              "      <th>19</th>\n",
              "      <td>643.090944</td>\n",
              "      <td>698.708383</td>\n",
              "      <td>8.648456</td>\n",
              "    </tr>\n",
              "    <tr>\n",
              "      <th>20</th>\n",
              "      <td>584.399945</td>\n",
              "      <td>529.188695</td>\n",
              "      <td>9.447511</td>\n",
              "    </tr>\n",
              "    <tr>\n",
              "      <th>21</th>\n",
              "      <td>809.352520</td>\n",
              "      <td>761.072277</td>\n",
              "      <td>5.965292</td>\n",
              "    </tr>\n",
              "    <tr>\n",
              "      <th>22</th>\n",
              "      <td>607.839194</td>\n",
              "      <td>703.809662</td>\n",
              "      <td>15.788792</td>\n",
              "    </tr>\n",
              "    <tr>\n",
              "      <th>23</th>\n",
              "      <td>596.876750</td>\n",
              "      <td>536.174025</td>\n",
              "      <td>10.170060</td>\n",
              "    </tr>\n",
              "    <tr>\n",
              "      <th>24</th>\n",
              "      <td>918.391232</td>\n",
              "      <td>908.026639</td>\n",
              "      <td>1.128560</td>\n",
              "    </tr>\n",
              "  </tbody>\n",
              "</table>\n",
              "</div>"
            ],
            "text/plain": [
              "       Actuals  Predictions    %-Error\n",
              "0   659.873287   698.708383   5.885235\n",
              "1   623.248701   613.827099   1.511692\n",
              "2   559.135869   595.222103   6.453929\n",
              "3   497.752318   495.198163   0.513138\n",
              "4   627.901841   606.211022   3.454492\n",
              "5   300.932273   299.345340   0.527339\n",
              "6   278.731962   292.195918   4.830432\n",
              "7   319.349462   305.619451   4.299369\n",
              "8   483.489769   530.199474   9.660950\n",
              "9   683.544781   696.403514   1.881184\n",
              "10  737.800824   731.913558   0.797948\n",
              "11  401.924792   393.684281   2.050262\n",
              "12  441.002944   416.590443   5.535678\n",
              "13  654.747461   682.770446   4.279969\n",
              "14   32.546619    29.733117   8.644530\n",
              "15  221.400252   211.198837   4.607680\n",
              "16  524.746364   542.966369   3.472155\n",
              "17  528.380417   568.495629   7.592108\n",
              "18  587.221246   571.858027   2.616257\n",
              "19  643.090944   698.708383   8.648456\n",
              "20  584.399945   529.188695   9.447511\n",
              "21  809.352520   761.072277   5.965292\n",
              "22  607.839194   703.809662  15.788792\n",
              "23  596.876750   536.174025  10.170060\n",
              "24  918.391232   908.026639   1.128560"
            ]
          },
          "metadata": {},
          "execution_count": 9
        }
      ]
    },
    {
      "cell_type": "code",
      "metadata": {
        "colab": {
          "base_uri": "https://localhost:8080/"
        },
        "id": "Spo8aWau3-jP",
        "outputId": "8e9d77c4-9326-4152-d0c6-fc08b531834c"
      },
      "source": [
        "# compute mean percentage error\n",
        "eval_df.loc[:, \"%-Error\"].mean()"
      ],
      "execution_count": 10,
      "outputs": [
        {
          "output_type": "execute_result",
          "data": {
            "text/plain": [
              "5.190520699244712"
            ]
          },
          "metadata": {},
          "execution_count": 10
        }
      ]
    },
    {
      "cell_type": "code",
      "metadata": {
        "colab": {
          "base_uri": "https://localhost:8080/",
          "height": 338
        },
        "id": "SFEtEfau4BUu",
        "outputId": "980ad07d-c3c1-4086-8e95-d2f8ee2b85c7"
      },
      "source": [
        "# plot predictions against actuals\n",
        "fig, axes = plt.subplots(nrows=1, ncols=3, figsize=(20,5))\n",
        "\n",
        "axes[0].scatter(X_test, y_test.reshape(-1), color=\"cornflowerblue\", label=\"Actuals\")\n",
        "axes[0].scatter(X_test, yhat, color=\"darkorange\", label=\"Predictions\")\n",
        "axes[0].set_xlabel(\"Temperature\", fontsize=14)\n",
        "axes[0].set_ylabel(\"Revenue\", fontsize=14)\n",
        "axes[0].legend(fontsize=14)\n",
        "\n",
        "X_grid = np.arange(min(X), max(X), 0.1)\n",
        "X_grid = X_grid.reshape((len(X_grid), 1))\n",
        "axes[1].plot(X_grid, regressor.predict(X_grid), color = 'grey', label=\"Decision Tree Regression\")\n",
        "axes[1].set_xlabel(\"Temperature\", fontsize=14)\n",
        "axes[1].set_ylabel(\"Revenue\", fontsize=14)\n",
        "axes[1].legend(fontsize=14)\n",
        "\n",
        "axes[2].scatter(y_test.reshape(-1), yhat, color=\"red\", label=\"actual vs prediction\")\n",
        "axes[2].plot(np.arange(min(y), max(y)), np.arange(min(y), max(y)), linestyle=\"dashed\", label=\"Perfect fit line\")\n",
        "axes[2].set_xlabel(\"Actual Revenue\", fontsize=14)\n",
        "axes[2].set_ylabel(\"Predicted Revenue\", fontsize=14)\n",
        "axes[2].legend(fontsize=14)\n",
        "\n",
        "plt.show()"
      ],
      "execution_count": 11,
      "outputs": [
        {
          "output_type": "display_data",
          "data": {
            "image/png": "[encoded data removed]",
            "text/plain": [
              "<Figure size 1440x360 with 3 Axes>"
            ]
          },
          "metadata": {
            "needs_background": "light"
          }
        }
      ]
    },
    {
      "cell_type": "markdown",
      "metadata": {
        "id": "nBB8VZDd4KtV"
      },
      "source": [
        "From the above values, we infer that the model is able to predict the values of the y_test with a good accuracy though it can be improved by tuning the hyper-parameters such as n_estimators and max_depth."
      ]
    },
    {
      "cell_type": "code",
      "metadata": {
        "id": "-GfoqLUi4EY8"
      },
      "source": [
        ""
      ],
      "execution_count": 11,
      "outputs": []
    }
  ]
}