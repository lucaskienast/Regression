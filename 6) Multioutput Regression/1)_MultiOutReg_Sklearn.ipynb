{
  "nbformat": 4,
  "nbformat_minor": 0,
  "metadata": {
    "colab": {
      "name": "1) MultiOutReg Sklearn.ipynb",
      "provenance": [],
      "collapsed_sections": []
    },
    "kernelspec": {
      "name": "python3",
      "display_name": "Python 3"
    },
    "language_info": {
      "name": "python"
    }
  },
  "cells": [
    {
      "cell_type": "markdown",
      "metadata": {
        "id": "3Uw1G5VEs1EC"
      },
      "source": [
        "# Multioutput Regression: Sklearn\n",
        "\n",
        "Multioutput regression are regression problems that involve predicting two or more numerical values given an input example. An example might be to predict a coordinate given an input, e.g. predicting x and y values. Another example would be multi-step time series forecasting that involves predicting multiple future time series of a given variable. Many machine learning algorithms are designed for predicting a single numeric value, referred to simply as regression. Some algorithms do support multioutput regression inherently, such as linear regression and decision trees. There are also special workaround models that can be used to wrap and use those algorithms that do not natively support predicting multiple outputs.\n",
        "\n",
        "In multioutput regression, typically the outputs are dependent upon the input and upon each other. This means that often the outputs are not independent of each other and may require a model that predicts both outputs together or each output contingent upon the other outputs. Multi-step time series forecasting may be considered a type of multiple-output regression where a sequence of future values are predicted and each predicted value is dependent upon the prior values in the sequence.\n",
        "\n",
        "We will use the make_regression() function to create a test dataset for multiple-output regression. We will generate 1,000 examples with 10 input features, five of which will be redundant and five that will be informative. The problem will require the prediction of two numeric values.\n",
        "\n",
        "- Problem Input: 10 numeric variables.\n",
        "- Problem Output: 2 numeric variables."
      ]
    },
    {
      "cell_type": "markdown",
      "metadata": {
        "id": "XJwXJuMptm8Z"
      },
      "source": [
        "## Import libraries"
      ]
    },
    {
      "cell_type": "code",
      "metadata": {
        "id": "FCNWKB49sYxU"
      },
      "source": [
        "import numpy as np\n",
        "from sklearn.datasets import make_regression\n",
        "from sklearn.linear_model import LinearRegression\n",
        "from sklearn.neighbors import KNeighborsRegressor\n",
        "from sklearn.tree import DecisionTreeRegressor\n",
        "from sklearn.model_selection import cross_val_score\n",
        "from sklearn.model_selection import RepeatedKFold\n",
        "from sklearn.svm import LinearSVR\n",
        "from sklearn.multioutput import MultiOutputRegressor\n",
        "from sklearn.multioutput import RegressorChain"
      ],
      "execution_count": 1,
      "outputs": []
    },
    {
      "cell_type": "markdown",
      "metadata": {
        "id": "37VXxM3fuK9d"
      },
      "source": [
        "## Load data + declare features and targets"
      ]
    },
    {
      "cell_type": "code",
      "metadata": {
        "colab": {
          "base_uri": "https://localhost:8080/"
        },
        "id": "VcQZmIH9uKZH",
        "outputId": "6faea075-be93-4d29-c08e-0a0aaa80e4a0"
      },
      "source": [
        "# create datasets\n",
        "X, y = make_regression(n_samples=1000, n_features=10, n_informative=5, n_targets=2, random_state=1, noise=0.5)\n",
        "print(X.shape)\n",
        "print(y.shape)"
      ],
      "execution_count": 2,
      "outputs": [
        {
          "output_type": "stream",
          "text": [
            "(1000, 10)\n",
            "(1000, 2)\n"
          ],
          "name": "stdout"
        }
      ]
    },
    {
      "cell_type": "markdown",
      "metadata": {
        "id": "qlw9xmmXuqSN"
      },
      "source": [
        "Some regression machine learning algorithms support multiple outputs directly. This includes most of the popular machine learning algorithms implemented in the scikit-learn library, such as:\n",
        "\n",
        "- LinearRegression (and related)\n",
        "- KNeighborsRegressor\n",
        "- DecisionTreeRegressor\n",
        "- RandomForestRegressor (and related)"
      ]
    },
    {
      "cell_type": "markdown",
      "metadata": {
        "id": "IfaNNDnvx7Um"
      },
      "source": [
        "## Inherently Multioutput Regression Algorithms"
      ]
    },
    {
      "cell_type": "markdown",
      "metadata": {
        "id": "6gnnOKAluu7r"
      },
      "source": [
        "### Linear Regression for Multioutput Regression"
      ]
    },
    {
      "cell_type": "code",
      "metadata": {
        "id": "HGeyLldwuQ-x"
      },
      "source": [
        "# define model\n",
        "model = LinearRegression()"
      ],
      "execution_count": 3,
      "outputs": []
    },
    {
      "cell_type": "code",
      "metadata": {
        "colab": {
          "base_uri": "https://localhost:8080/"
        },
        "id": "h1rnzWZSvCO4",
        "outputId": "83a4148b-a5a3-4893-c71a-1b364e494acd"
      },
      "source": [
        "# fit model\n",
        "model.fit(X, y)"
      ],
      "execution_count": 4,
      "outputs": [
        {
          "output_type": "execute_result",
          "data": {
            "text/plain": [
              "LinearRegression(copy_X=True, fit_intercept=True, n_jobs=None, normalize=False)"
            ]
          },
          "metadata": {},
          "execution_count": 4
        }
      ]
    },
    {
      "cell_type": "code",
      "metadata": {
        "id": "X5Qx1k8LvEzN"
      },
      "source": [
        "# make a prediction\n",
        "row = [0.21947749, 0.32948997, 0.81560036, 0.440956, -0.0606303, -0.29257894, -0.2820059, -0.00290545, 0.96402263, 0.04992249]\n",
        "yhat = model.predict([row])"
      ],
      "execution_count": 5,
      "outputs": []
    },
    {
      "cell_type": "code",
      "metadata": {
        "colab": {
          "base_uri": "https://localhost:8080/"
        },
        "id": "mF4AZZJ1vEE8",
        "outputId": "96e302a4-5a40-4d06-979d-293efb0eb33a"
      },
      "source": [
        "# summarize prediction\n",
        "print(yhat[0])"
      ],
      "execution_count": 6,
      "outputs": [
        {
          "output_type": "stream",
          "text": [
            "[50.06781717 64.564973  ]\n"
          ],
          "name": "stdout"
        }
      ]
    },
    {
      "cell_type": "markdown",
      "metadata": {
        "id": "KXZ4wVksvVPK"
      },
      "source": [
        "Running the example fits the model and then makes a prediction for one input, confirming that the model predicted two required values."
      ]
    },
    {
      "cell_type": "markdown",
      "metadata": {
        "id": "QNzAlQdevXO6"
      },
      "source": [
        "### k-Nearest Neighbors for Multoutput Regression"
      ]
    },
    {
      "cell_type": "code",
      "metadata": {
        "id": "eg1oLgyAvMol"
      },
      "source": [
        "# define model\n",
        "model = KNeighborsRegressor()"
      ],
      "execution_count": 7,
      "outputs": []
    },
    {
      "cell_type": "code",
      "metadata": {
        "colab": {
          "base_uri": "https://localhost:8080/"
        },
        "id": "dfghR3hvvg8z",
        "outputId": "c44f7af7-107a-4bcc-8e55-986fc3bac3d9"
      },
      "source": [
        "# fit model\n",
        "model.fit(X, y)"
      ],
      "execution_count": 8,
      "outputs": [
        {
          "output_type": "execute_result",
          "data": {
            "text/plain": [
              "KNeighborsRegressor(algorithm='auto', leaf_size=30, metric='minkowski',\n",
              "                    metric_params=None, n_jobs=None, n_neighbors=5, p=2,\n",
              "                    weights='uniform')"
            ]
          },
          "metadata": {},
          "execution_count": 8
        }
      ]
    },
    {
      "cell_type": "code",
      "metadata": {
        "id": "X1sStY15vjP2"
      },
      "source": [
        "# make a prediction\n",
        "row = [0.21947749, 0.32948997, 0.81560036, 0.440956, -0.0606303, -0.29257894, -0.2820059, -0.00290545, 0.96402263, 0.04992249]\n",
        "yhat = model.predict([row])"
      ],
      "execution_count": 9,
      "outputs": []
    },
    {
      "cell_type": "code",
      "metadata": {
        "colab": {
          "base_uri": "https://localhost:8080/"
        },
        "id": "lmbrHurHvk89",
        "outputId": "6a3eec8b-a0a2-4d96-b044-d1da20561469"
      },
      "source": [
        "# summarize prediction\n",
        "print(yhat[0])"
      ],
      "execution_count": 10,
      "outputs": [
        {
          "output_type": "stream",
          "text": [
            "[-11.73511093  52.78406297]\n"
          ],
          "name": "stdout"
        }
      ]
    },
    {
      "cell_type": "markdown",
      "metadata": {
        "id": "KwQ0OCG-vuIC"
      },
      "source": [
        "Running the example fits the model and then makes a prediction for one input, confirming that the model predicted two required values."
      ]
    },
    {
      "cell_type": "markdown",
      "metadata": {
        "id": "u7Ph8wE-vvGW"
      },
      "source": [
        "### Decision Tree for Multioutput Regression"
      ]
    },
    {
      "cell_type": "code",
      "metadata": {
        "id": "XHtTAnpTvldc"
      },
      "source": [
        "# define model\n",
        "model = DecisionTreeRegressor()"
      ],
      "execution_count": 11,
      "outputs": []
    },
    {
      "cell_type": "code",
      "metadata": {
        "colab": {
          "base_uri": "https://localhost:8080/"
        },
        "id": "llaRosZsv3Tn",
        "outputId": "803ac0d7-ac9f-4fa7-f03a-fd087a1de45a"
      },
      "source": [
        "# fit model\n",
        "model.fit(X, y)"
      ],
      "execution_count": 12,
      "outputs": [
        {
          "output_type": "execute_result",
          "data": {
            "text/plain": [
              "DecisionTreeRegressor(ccp_alpha=0.0, criterion='mse', max_depth=None,\n",
              "                      max_features=None, max_leaf_nodes=None,\n",
              "                      min_impurity_decrease=0.0, min_impurity_split=None,\n",
              "                      min_samples_leaf=1, min_samples_split=2,\n",
              "                      min_weight_fraction_leaf=0.0, presort='deprecated',\n",
              "                      random_state=None, splitter='best')"
            ]
          },
          "metadata": {},
          "execution_count": 12
        }
      ]
    },
    {
      "cell_type": "code",
      "metadata": {
        "id": "49SV3bGpv4rO"
      },
      "source": [
        "# make a prediction\n",
        "row = [0.21947749, 0.32948997, 0.81560036, 0.440956, -0.0606303, -0.29257894, -0.2820059, -0.00290545, 0.96402263, 0.04992249]\n",
        "yhat = model.predict([row])"
      ],
      "execution_count": 13,
      "outputs": []
    },
    {
      "cell_type": "code",
      "metadata": {
        "colab": {
          "base_uri": "https://localhost:8080/"
        },
        "id": "WzZttWycv6SU",
        "outputId": "75e6fb00-39c3-418b-939b-c201a686d23d"
      },
      "source": [
        "# summarize prediction\n",
        "print(yhat[0])"
      ],
      "execution_count": 14,
      "outputs": [
        {
          "output_type": "stream",
          "text": [
            "[49.93137149 64.08484989]\n"
          ],
          "name": "stdout"
        }
      ]
    },
    {
      "cell_type": "markdown",
      "metadata": {
        "id": "QSZWcnUywDT_"
      },
      "source": [
        "Running the example fits the model and then makes a prediction for one input, confirming that the model predicted two required values."
      ]
    },
    {
      "cell_type": "markdown",
      "metadata": {
        "id": "l3WWZWpFwEOh"
      },
      "source": [
        "### Evaluate Multioutput Regression with Cross-Validation\n",
        "\n",
        "We may want to evaluate a multioutput regression using k-fold cross-validation. This can be achieved in the same way as evaluating any other machine learning model. We will fit and evaluate a DecisionTreeRegressor model on the test problem using 10-fold cross-validation with three repeats. We will use the mean absolute error (MAE) performance metric as the score."
      ]
    },
    {
      "cell_type": "code",
      "metadata": {
        "id": "GT54u8sWv6uS"
      },
      "source": [
        "# define model\n",
        "model = DecisionTreeRegressor()"
      ],
      "execution_count": 15,
      "outputs": []
    },
    {
      "cell_type": "code",
      "metadata": {
        "id": "4Q2h_fTPwrom"
      },
      "source": [
        "# define the evaluation procedure\n",
        "cv = RepeatedKFold(n_splits=10, n_repeats=3, random_state=1)"
      ],
      "execution_count": 16,
      "outputs": []
    },
    {
      "cell_type": "code",
      "metadata": {
        "id": "Fd0SAqi7wtQm"
      },
      "source": [
        "# evaluate the model and collect the scores\n",
        "n_scores = cross_val_score(model, X, y, scoring='neg_mean_absolute_error', cv=cv, n_jobs=-1)"
      ],
      "execution_count": 17,
      "outputs": []
    },
    {
      "cell_type": "code",
      "metadata": {
        "id": "uK9JmtGRwv1d"
      },
      "source": [
        "# force the scores to be positive\n",
        "n_scores = np.abs(n_scores)"
      ],
      "execution_count": 18,
      "outputs": []
    },
    {
      "cell_type": "code",
      "metadata": {
        "colab": {
          "base_uri": "https://localhost:8080/"
        },
        "id": "td-XpSqKw2Fu",
        "outputId": "2a757900-03a8-421d-d6a4-b625bd900ff0"
      },
      "source": [
        "# summarize performance\n",
        "print('MAE: %.3f (%.3f)' % (n_scores.mean(), n_scores.std()))"
      ],
      "execution_count": 19,
      "outputs": [
        {
          "output_type": "stream",
          "text": [
            "MAE: 52.010 (2.977)\n"
          ],
          "name": "stdout"
        }
      ]
    },
    {
      "cell_type": "markdown",
      "metadata": {
        "id": "dqjYZ4-DxTr1"
      },
      "source": [
        "Running the example evaluates the performance of the decision tree model for multioutput regression on the test problem. The mean and standard deviation of the MAE is reported calculated across all folds and all repeats."
      ]
    },
    {
      "cell_type": "code",
      "metadata": {
        "id": "oYEJlV7LxWbA"
      },
      "source": [
        ""
      ],
      "execution_count": 19,
      "outputs": []
    },
    {
      "cell_type": "markdown",
      "metadata": {
        "id": "SkTfYdoe67Xr"
      },
      "source": [
        "## Wrapper Multioutput Regression Algorithms"
      ]
    },
    {
      "cell_type": "markdown",
      "metadata": {
        "id": "L8lUfFqj5yLv"
      },
      "source": [
        "### Direct Multioutput Regression\n",
        "\n",
        "The direct approach to multioutput regression involves dividing the regression problem into a separate problem for each target variable to be predicted. This assumes that the outputs are independent of each other, which might not be a correct assumption. Nevertheless, this approach can provide surprisingly effective predictions on a range of problems and may be worth trying, at least as a performance baseline. For example, the outputs for your problem may, in fact, be mostly independent, if not completely independent, and this strategy can help you find out. This approach is supported by the MultiOutputRegressor class that takes a regression model as an argument. It will then create one instance of the provided model for each output in the problem.\n",
        "\n",
        "The example below demonstrates how we can first create a single-output regression model then use the MultiOutputRegressor class to wrap the regression model and add support for multioutput regression."
      ]
    },
    {
      "cell_type": "code",
      "metadata": {
        "id": "KCesfBLb6WB6"
      },
      "source": [
        "# define base model\n",
        "model = LinearSVR()"
      ],
      "execution_count": 20,
      "outputs": []
    },
    {
      "cell_type": "code",
      "metadata": {
        "id": "-rFaURtm6kG9"
      },
      "source": [
        "# define the direct multioutput wrapper model\n",
        "wrapper = MultiOutputRegressor(model)"
      ],
      "execution_count": 21,
      "outputs": []
    },
    {
      "cell_type": "code",
      "metadata": {
        "id": "_8uq6ebc61dk"
      },
      "source": [
        "# define the evaluation procedure\n",
        "cv = RepeatedKFold(n_splits=10, n_repeats=3, random_state=1)"
      ],
      "execution_count": 22,
      "outputs": []
    },
    {
      "cell_type": "code",
      "metadata": {
        "id": "jPT9EdM37ED3"
      },
      "source": [
        "# evaluate the model and collect the scores\n",
        "n_scores = cross_val_score(wrapper, X, y, scoring='neg_mean_absolute_error', cv=cv, n_jobs=-1)"
      ],
      "execution_count": 23,
      "outputs": []
    },
    {
      "cell_type": "code",
      "metadata": {
        "id": "FYefEy4-7Fev"
      },
      "source": [
        "# force the scores to be positive\n",
        "n_scores = np.abs(n_scores)"
      ],
      "execution_count": 24,
      "outputs": []
    },
    {
      "cell_type": "code",
      "metadata": {
        "colab": {
          "base_uri": "https://localhost:8080/"
        },
        "id": "2beO0OXA7HBX",
        "outputId": "8e2025e7-ec80-4755-9a57-eb57b7d329f7"
      },
      "source": [
        "# summarize performance\n",
        "print('MAE: %.3f (%.3f)' % (np.mean(n_scores), np.std(n_scores)))"
      ],
      "execution_count": 25,
      "outputs": [
        {
          "output_type": "stream",
          "text": [
            "MAE: 0.419 (0.024)\n"
          ],
          "name": "stdout"
        }
      ]
    },
    {
      "cell_type": "markdown",
      "metadata": {
        "id": "nyBlj5787WW8"
      },
      "source": [
        "We can also use the direct multioutput regression wrapper as a final model and make predictions on new data. First, the model is fit on all available data, then the predict() function can be called to make predictions on new data. The example below demonstrates this on our synthetic multioutput regression dataset."
      ]
    },
    {
      "cell_type": "code",
      "metadata": {
        "colab": {
          "base_uri": "https://localhost:8080/"
        },
        "id": "tHXI2aeu7K8N",
        "outputId": "afceca6d-903d-41ca-fdc6-1f30be975168"
      },
      "source": [
        "# fit the model on the whole dataset\n",
        "wrapper.fit(X, y)"
      ],
      "execution_count": 26,
      "outputs": [
        {
          "output_type": "execute_result",
          "data": {
            "text/plain": [
              "MultiOutputRegressor(estimator=LinearSVR(C=1.0, dual=True, epsilon=0.0,\n",
              "                                         fit_intercept=True,\n",
              "                                         intercept_scaling=1.0,\n",
              "                                         loss='epsilon_insensitive',\n",
              "                                         max_iter=1000, random_state=None,\n",
              "                                         tol=0.0001, verbose=0),\n",
              "                     n_jobs=None)"
            ]
          },
          "metadata": {},
          "execution_count": 26
        }
      ]
    },
    {
      "cell_type": "code",
      "metadata": {
        "id": "uF5L0Xp_7o6o"
      },
      "source": [
        "# make a single prediction\n",
        "row = [0.21947749, 0.32948997, 0.81560036, 0.440956, -0.0606303, -0.29257894, -0.2820059, -0.00290545, 0.96402263, 0.04992249]\n",
        "yhat = wrapper.predict([row])"
      ],
      "execution_count": 27,
      "outputs": []
    },
    {
      "cell_type": "code",
      "metadata": {
        "colab": {
          "base_uri": "https://localhost:8080/"
        },
        "id": "nefqAcnI7qT4",
        "outputId": "41944a56-36d8-4de5-a5af-b37611e939bf"
      },
      "source": [
        "# summarize the prediction\n",
        "print('Predicted: %s' % yhat[0])"
      ],
      "execution_count": 28,
      "outputs": [
        {
          "output_type": "stream",
          "text": [
            "Predicted: [50.04689821 64.49918644]\n"
          ],
          "name": "stdout"
        }
      ]
    },
    {
      "cell_type": "markdown",
      "metadata": {
        "id": "TdlxZwep7wJL"
      },
      "source": [
        "Running the example fits the direct wrapper model on the entire dataset and is then used to make a prediction on a new row of data, as we might when using the model in an application."
      ]
    },
    {
      "cell_type": "markdown",
      "metadata": {
        "id": "_Us4iRkw70cG"
      },
      "source": [
        "### Chained Multioutput Regression\n",
        "\n",
        "Another approach to using single-output regression models for multioutput regression is to create a linear sequence of models. The first model in the sequence uses the input and predicts one output; the second model uses the input and the output from the first model to make a prediction; the third model uses the input and output from the first two models to make a prediction, and so on. For example, if a multioutput regression problem required the prediction of three values y1, y2 and y3 given an input X, then this could be partitioned into three dependent single-output regression problems as follows:\n",
        "\n",
        "- Problem 1: Given X, predict y1.\n",
        "- Problem 2: Given X and yhat1, predict y2.\n",
        "- Problem 3: Given X, yhat1, and yhat2, predict y3.\n",
        "\n",
        "This can be achieved using the RegressorChain class in the scikit-learn library. The order of the models may be based on the order of the outputs in the dataset (the default) or specified via the “order” argument. For example, order=[0,1] would first predict the oth output, then the 1st output, whereas an order=[1,0] would first predict the last output variable and then the first output variable in our test problem.\n",
        "\n",
        "The example below demonstrates how we can first create a single-output regression model then use the RegressorChain class to wrap the regression model and add support for multioutput regression."
      ]
    },
    {
      "cell_type": "code",
      "metadata": {
        "id": "SWmOqYV67rQJ"
      },
      "source": [
        "# define base model\n",
        "model = LinearSVR()"
      ],
      "execution_count": 29,
      "outputs": []
    },
    {
      "cell_type": "code",
      "metadata": {
        "id": "pI-BX_OD8Vn8"
      },
      "source": [
        "# define the chained multioutput wrapper model\n",
        "wrapper = RegressorChain(model)"
      ],
      "execution_count": 30,
      "outputs": []
    },
    {
      "cell_type": "code",
      "metadata": {
        "id": "7eSVsOkV8XIc"
      },
      "source": [
        "# define the evaluation procedure\n",
        "cv = RepeatedKFold(n_splits=10, n_repeats=3, random_state=1)"
      ],
      "execution_count": 31,
      "outputs": []
    },
    {
      "cell_type": "code",
      "metadata": {
        "id": "B2Qvc0jJ8Yek"
      },
      "source": [
        "# evaluate the model and collect the scores\n",
        "n_scores = cross_val_score(wrapper, X, y, scoring='neg_mean_absolute_error', cv=cv, n_jobs=-1)"
      ],
      "execution_count": 32,
      "outputs": []
    },
    {
      "cell_type": "code",
      "metadata": {
        "id": "v_hbkyT68adE"
      },
      "source": [
        "# force the scores to be positive\n",
        "n_scores = np.abs(n_scores)"
      ],
      "execution_count": 33,
      "outputs": []
    },
    {
      "cell_type": "code",
      "metadata": {
        "colab": {
          "base_uri": "https://localhost:8080/"
        },
        "id": "1LR0n_Zx8b76",
        "outputId": "13853711-0911-48d8-ba2b-d2f5ca2621c3"
      },
      "source": [
        "# summarize performance\n",
        "print('MAE: %.3f (%.3f)' % (np.mean(n_scores), np.std(n_scores)))"
      ],
      "execution_count": 34,
      "outputs": [
        {
          "output_type": "stream",
          "text": [
            "MAE: 0.594 (0.322)\n"
          ],
          "name": "stdout"
        }
      ]
    },
    {
      "cell_type": "markdown",
      "metadata": {
        "id": "DEOGYbDm8jdz"
      },
      "source": [
        "Running the example reports the mean and standard deviation MAE of the chained wrapper model. Note that you may see a ConvergenceWarning when running the example, which can be safely ignored."
      ]
    },
    {
      "cell_type": "markdown",
      "metadata": {
        "id": "2JMzrJM_8nFo"
      },
      "source": [
        "We can also use the chained multioutput regression wrapper as a final model and make predictions on new data. First, the model is fit on all available data, then the predict() function can be called to make predictions on new data. The example below demonstrates this on our synthetic multioutput regression dataset."
      ]
    },
    {
      "cell_type": "code",
      "metadata": {
        "colab": {
          "base_uri": "https://localhost:8080/"
        },
        "id": "2RiFSDfe8fus",
        "outputId": "b80899ab-ad28-4dfc-fd82-fa26a91ade9a"
      },
      "source": [
        "# fit the model on the whole dataset\n",
        "wrapper.fit(X, y)"
      ],
      "execution_count": 35,
      "outputs": [
        {
          "output_type": "stream",
          "text": [
            "/usr/local/lib/python3.7/dist-packages/sklearn/svm/_base.py:947: ConvergenceWarning: Liblinear failed to converge, increase the number of iterations.\n",
            "  \"the number of iterations.\", ConvergenceWarning)\n"
          ],
          "name": "stderr"
        },
        {
          "output_type": "execute_result",
          "data": {
            "text/plain": [
              "RegressorChain(base_estimator=LinearSVR(C=1.0, dual=True, epsilon=0.0,\n",
              "                                        fit_intercept=True,\n",
              "                                        intercept_scaling=1.0,\n",
              "                                        loss='epsilon_insensitive',\n",
              "                                        max_iter=1000, random_state=None,\n",
              "                                        tol=0.0001, verbose=0),\n",
              "               cv=None, order=None, random_state=None)"
            ]
          },
          "metadata": {},
          "execution_count": 35
        }
      ]
    },
    {
      "cell_type": "code",
      "metadata": {
        "id": "_F5siVH18sYd"
      },
      "source": [
        "# make a single prediction\n",
        "row = [0.21947749, 0.32948997, 0.81560036, 0.440956, -0.0606303, -0.29257894, -0.2820059, -0.00290545, 0.96402263, 0.04992249]\n",
        "yhat = wrapper.predict([row])"
      ],
      "execution_count": 36,
      "outputs": []
    },
    {
      "cell_type": "code",
      "metadata": {
        "colab": {
          "base_uri": "https://localhost:8080/"
        },
        "id": "D2a4Bipz8uYl",
        "outputId": "2b1aa274-f521-41e2-ce17-e266751447f1"
      },
      "source": [
        "# summarize the prediction\n",
        "print('Predicted: %s' % yhat[0])"
      ],
      "execution_count": 37,
      "outputs": [
        {
          "output_type": "stream",
          "text": [
            "Predicted: [50.04191782 64.44116998]\n"
          ],
          "name": "stdout"
        }
      ]
    },
    {
      "cell_type": "markdown",
      "metadata": {
        "id": "MGqqWrgU8x9L"
      },
      "source": [
        "Running the example fits the chained wrapper model on the entire dataset and is then used to make a prediction on a new row of data, as we might when using the model in an application."
      ]
    },
    {
      "cell_type": "code",
      "metadata": {
        "id": "MBARNBkh8vbV"
      },
      "source": [
        ""
      ],
      "execution_count": 37,
      "outputs": []
    }
  ]
}