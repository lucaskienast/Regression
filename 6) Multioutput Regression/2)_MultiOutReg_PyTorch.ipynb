{
  "nbformat": 4,
  "nbformat_minor": 0,
  "metadata": {
    "colab": {
      "name": "2) MultiOutReg PyTorch.ipynb",
      "provenance": [],
      "collapsed_sections": []
    },
    "kernelspec": {
      "name": "python3",
      "display_name": "Python 3"
    },
    "language_info": {
      "name": "python"
    }
  },
  "cells": [
    {
      "cell_type": "markdown",
      "metadata": {
        "id": "OSoVjKKF9llZ"
      },
      "source": [
        "## Multioutput Regression: PyTorch\n",
        "\n",
        "Multioutput regression are regression problems that involve predicting two or more numerical values given an input example. An example might be to predict a coordinate given an input, e.g. predicting x and y values. Another example would be multi-step time series forecasting that involves predicting multiple future time series of a given variable. \n",
        "\n",
        "We'll create a model that predicts crop yeilds for apples and oranges (target variables) by looking at the average temperature, rainfall and humidity (input variables or features) in a region. In a linear regression model, each target variable is estimated to be a weighted sum of the input variables, offset by some constant, known as a bias :\n",
        "\n",
        "```\n",
        "yield_apple  = w11 * temp + w12 * rainfall + w13 * humidity + b1\n",
        "yield_orange = w21 * temp + w22 * rainfall + w23 * humidity + b2\n",
        "```\n",
        "\n",
        "Visually, it means that the yield of apples is a linear or planar function of the temperature, rainfall & humidity.\n",
        "\n",
        "Our objective: Find a suitable set of weights and biases using the training data, to make accurate predictions.\n",
        "\n"
      ]
    },
    {
      "cell_type": "markdown",
      "metadata": {
        "id": "iqjvLdUQ-Xjs"
      },
      "source": [
        "## Import libraries"
      ]
    },
    {
      "cell_type": "code",
      "metadata": {
        "id": "PYidFCuO87in"
      },
      "source": [
        "import numpy as np\n",
        "import torch\n",
        "from torch.utils.data import TensorDataset, DataLoader\n",
        "import torch.nn.functional as F"
      ],
      "execution_count": 1,
      "outputs": []
    },
    {
      "cell_type": "markdown",
      "metadata": {
        "id": "scJeBlpd-6dh"
      },
      "source": [
        "## Training data"
      ]
    },
    {
      "cell_type": "code",
      "metadata": {
        "id": "dKm9jXiM-eK_"
      },
      "source": [
        "# Input (temp, rainfall, humidity)\n",
        "inputs = np.array([[73, 67, 43], \n",
        "                   [91, 88, 64], \n",
        "                   [87, 134, 58], \n",
        "                   [102, 43, 37], \n",
        "                   [69, 96, 70]], dtype='float32')"
      ],
      "execution_count": 2,
      "outputs": []
    },
    {
      "cell_type": "code",
      "metadata": {
        "id": "ZfxiPC5z-_OM"
      },
      "source": [
        "# Targets (apples, oranges)\n",
        "targets = np.array([[56, 70], \n",
        "                    [81, 101], \n",
        "                    [119, 133], \n",
        "                    [22, 37], \n",
        "                    [103, 119]], dtype='float32')"
      ],
      "execution_count": 3,
      "outputs": []
    },
    {
      "cell_type": "code",
      "metadata": {
        "colab": {
          "base_uri": "https://localhost:8080/"
        },
        "id": "6jK13gu__BA2",
        "outputId": "d36d2737-59a2-417a-ea38-84b6e397e386"
      },
      "source": [
        "# Convert inputs and targets to tensors\n",
        "inputs = torch.from_numpy(inputs)\n",
        "targets = torch.from_numpy(targets)\n",
        "print(inputs)\n",
        "print(targets)"
      ],
      "execution_count": 4,
      "outputs": [
        {
          "output_type": "stream",
          "text": [
            "tensor([[ 73.,  67.,  43.],\n",
            "        [ 91.,  88.,  64.],\n",
            "        [ 87., 134.,  58.],\n",
            "        [102.,  43.,  37.],\n",
            "        [ 69.,  96.,  70.]])\n",
            "tensor([[ 56.,  70.],\n",
            "        [ 81., 101.],\n",
            "        [119., 133.],\n",
            "        [ 22.,  37.],\n",
            "        [103., 119.]])\n"
          ],
          "name": "stdout"
        }
      ]
    },
    {
      "cell_type": "markdown",
      "metadata": {
        "id": "bOHs9-G6_H8Y"
      },
      "source": [
        "## Linear Regression Model (simple)\n",
        "\n",
        "The weights and biases can also be represented as matrices, initialized with random values. The first row of w and the first element of b are use to predict the first target variable i.e. yield for apples, and similarly the second for oranges."
      ]
    },
    {
      "cell_type": "code",
      "metadata": {
        "colab": {
          "base_uri": "https://localhost:8080/"
        },
        "id": "S8MN8VMW_Edy",
        "outputId": "e8fa0abc-4166-4ac8-acdd-d1e0098a1071"
      },
      "source": [
        "# Weights and biases\n",
        "w = torch.randn(2, 3, requires_grad=True)\n",
        "b = torch.randn(2, requires_grad=True)\n",
        "print(w)\n",
        "print(b)"
      ],
      "execution_count": 5,
      "outputs": [
        {
          "output_type": "stream",
          "text": [
            "tensor([[ 0.9336, -0.8414,  1.0118],\n",
            "        [ 1.2007, -0.7262, -0.4521]], requires_grad=True)\n",
            "tensor([-1.2941,  0.3321], requires_grad=True)\n"
          ],
          "name": "stdout"
        }
      ]
    },
    {
      "cell_type": "markdown",
      "metadata": {
        "id": "3k78AU4v_p46"
      },
      "source": [
        "The model is simply a function that performs a matrix multiplication of the input x and the weights w (transposed) and adds the bias b (replicated for each observation)."
      ]
    },
    {
      "cell_type": "code",
      "metadata": {
        "id": "djACQafU_Yj4"
      },
      "source": [
        "# Define the model\n",
        "def model(X):\n",
        "    return torch.add(torch.matmul(X, w.T), b)"
      ],
      "execution_count": 6,
      "outputs": []
    },
    {
      "cell_type": "markdown",
      "metadata": {
        "id": "2cCaqCEtBl-Z"
      },
      "source": [
        "### Step 1: Forward pass"
      ]
    },
    {
      "cell_type": "code",
      "metadata": {
        "colab": {
          "base_uri": "https://localhost:8080/"
        },
        "id": "vOQaqSMMALoL",
        "outputId": "761e5525-8992-48de-ae06-55544c765e00"
      },
      "source": [
        "# Generate predictions\n",
        "preds = model(inputs)\n",
        "print(preds)"
      ],
      "execution_count": 7,
      "outputs": [
        {
          "output_type": "stream",
          "text": [
            "tensor([[ 53.9922,  19.8917],\n",
            "        [ 74.3752,  16.7616],\n",
            "        [ 25.8670, -18.7322],\n",
            "        [ 95.1887,  74.8520],\n",
            "        [ 53.1759, -18.1753]], grad_fn=<AddBackward0>)\n"
          ],
          "name": "stdout"
        }
      ]
    },
    {
      "cell_type": "code",
      "metadata": {
        "colab": {
          "base_uri": "https://localhost:8080/"
        },
        "id": "8_B8qTOlAOJM",
        "outputId": "57743a47-1ac3-4ba2-e5f4-d7a3ceb911a3"
      },
      "source": [
        "# Compare with targets\n",
        "print(targets)"
      ],
      "execution_count": 8,
      "outputs": [
        {
          "output_type": "stream",
          "text": [
            "tensor([[ 56.,  70.],\n",
            "        [ 81., 101.],\n",
            "        [119., 133.],\n",
            "        [ 22.,  37.],\n",
            "        [103., 119.]])\n"
          ],
          "name": "stdout"
        }
      ]
    },
    {
      "cell_type": "markdown",
      "metadata": {
        "id": "OwLKMiIJBUUv"
      },
      "source": [
        "Because we've started with random weights and biases, the model does not a very good job of predicting the target varaibles."
      ]
    },
    {
      "cell_type": "markdown",
      "metadata": {
        "id": "n4sE_E4xBaWd"
      },
      "source": [
        "### Step 2: Calculate loss (cost) by comparison of prediction and target\n",
        "\n"
      ]
    },
    {
      "cell_type": "code",
      "metadata": {
        "id": "d9yBdlfPBSYC"
      },
      "source": [
        "# MSE loss\n",
        "def mse(my_y_hat, my_y):\n",
        "  mse_cost = (1/(len(my_y))) * torch.sum((my_y_hat - my_y)**2)\n",
        "  return mse_cost"
      ],
      "execution_count": 9,
      "outputs": []
    },
    {
      "cell_type": "code",
      "metadata": {
        "colab": {
          "base_uri": "https://localhost:8080/"
        },
        "id": "qRGbIB8KB0NE",
        "outputId": "5649e025-aaa8-4b7c-a13e-2d1b3083ad63"
      },
      "source": [
        "# Compute loss\n",
        "loss = mse(preds, targets)\n",
        "print(loss)"
      ],
      "execution_count": 10,
      "outputs": [
        {
          "output_type": "stream",
          "text": [
            "tensor(13888.0303, grad_fn=<MulBackward0>)\n"
          ],
          "name": "stdout"
        }
      ]
    },
    {
      "cell_type": "markdown",
      "metadata": {
        "id": "eqxFrwfOB96o"
      },
      "source": [
        "The resulting number is called the loss, because it indicates how bad the model is at predicting the target variables. Lower the loss, better the model."
      ]
    },
    {
      "cell_type": "markdown",
      "metadata": {
        "id": "wNHXkbmKB_yt"
      },
      "source": [
        "### Step 3: Compute gradients of loss with respect to w and b\n",
        "\n",
        "A key insight from calculus is that the gradient indicates the rate of change of the loss, or the slope of the loss function w.r.t. the weights and biases.\n",
        "\n",
        "If a gradient element is postive,\n",
        "- increasing the element's value slightly will increase the loss.\n",
        "- decreasing the element's value slightly will decrease the loss.\n",
        "\n",
        "If a gradient element is negative,\n",
        "- increasing the element's value slightly will decrease the loss.\n",
        "- decreasing the element's value slightly will increase the loss.\n",
        "\n",
        "The increase or decrease is proportional to the value of the gradient."
      ]
    },
    {
      "cell_type": "code",
      "metadata": {
        "id": "nnTcxc0qB6-y"
      },
      "source": [
        "# Compute gradients\n",
        "loss.backward()"
      ],
      "execution_count": 11,
      "outputs": []
    },
    {
      "cell_type": "code",
      "metadata": {
        "colab": {
          "base_uri": "https://localhost:8080/"
        },
        "id": "phtVgFuECHOT",
        "outputId": "49cf4f6d-5a5d-4941-9ae8-469be05a00f7"
      },
      "source": [
        "# Gradients for weights\n",
        "print(w)\n",
        "print(w.grad)"
      ],
      "execution_count": 12,
      "outputs": [
        {
          "output_type": "stream",
          "text": [
            "tensor([[ 0.9336, -0.8414,  1.0118],\n",
            "        [ 1.2007, -0.7262, -0.4521]], requires_grad=True)\n",
            "tensor([[ -1929.8463,  -5933.3320,  -2676.6975],\n",
            "        [-12051.3965, -17057.4160,  -9819.2520]])\n"
          ],
          "name": "stdout"
        }
      ]
    },
    {
      "cell_type": "code",
      "metadata": {
        "colab": {
          "base_uri": "https://localhost:8080/"
        },
        "id": "7YXqkx7QCJti",
        "outputId": "3474db2b-197d-41d0-f3e9-f74c371364a8"
      },
      "source": [
        "# Gradients for bias\n",
        "print(b)\n",
        "print(b.grad)"
      ],
      "execution_count": 13,
      "outputs": [
        {
          "output_type": "stream",
          "text": [
            "tensor([-1.2941,  0.3321], requires_grad=True)\n",
            "tensor([ -31.3604, -154.1609])\n"
          ],
          "name": "stdout"
        }
      ]
    },
    {
      "cell_type": "markdown",
      "metadata": {
        "id": "b_J6WnDcCnoN"
      },
      "source": [
        "### Step 4: Adjust w and b with gradient descent\n",
        "\n"
      ]
    },
    {
      "cell_type": "code",
      "metadata": {
        "id": "q746UsZ1ChAc"
      },
      "source": [
        "# Adjust weights & reset gradients\n",
        "with torch.no_grad():\n",
        "    w -= w.grad * 1e-5\n",
        "    b -= b.grad * 1e-5\n",
        "    w.grad.zero_()\n",
        "    b.grad.zero_()"
      ],
      "execution_count": 14,
      "outputs": []
    },
    {
      "cell_type": "code",
      "metadata": {
        "colab": {
          "base_uri": "https://localhost:8080/"
        },
        "id": "j5lskwC1Da0q",
        "outputId": "5653e9fb-e9c6-42aa-f9ce-e3fb1090e511"
      },
      "source": [
        "print(w)\n",
        "print(b)"
      ],
      "execution_count": 15,
      "outputs": [
        {
          "output_type": "stream",
          "text": [
            "tensor([[ 0.9529, -0.7820,  1.0385],\n",
            "        [ 1.3212, -0.5556, -0.3539]], requires_grad=True)\n",
            "tensor([-1.2937,  0.3336], requires_grad=True)\n"
          ],
          "name": "stdout"
        }
      ]
    },
    {
      "cell_type": "markdown",
      "metadata": {
        "id": "b3k5D5XPDly7"
      },
      "source": [
        "With the new weights and biases, the model should have a lower loss."
      ]
    },
    {
      "cell_type": "code",
      "metadata": {
        "colab": {
          "base_uri": "https://localhost:8080/"
        },
        "id": "w4i9AX9rDmNP",
        "outputId": "e7ef7e6c-04c5-44f9-9c8f-4fb2e6e596d8"
      },
      "source": [
        "# Calculate loss\n",
        "preds = model(inputs)\n",
        "loss = mse(preds, targets)\n",
        "print(loss)"
      ],
      "execution_count": 16,
      "outputs": [
        {
          "output_type": "stream",
          "text": [
            "tensor(9111.3730, grad_fn=<MulBackward0>)\n"
          ],
          "name": "stdout"
        }
      ]
    },
    {
      "cell_type": "markdown",
      "metadata": {
        "id": "Dwfl9S2ODqmG"
      },
      "source": [
        "### Iteratively minimize loss (MSE) toward zero\n",
        "\n",
        "To reduce the loss further, we repeat the process of adjusting the weights and biases using the gradients multiple times. Each iteration is called an epoch."
      ]
    },
    {
      "cell_type": "code",
      "metadata": {
        "id": "25ZZ8xW9Dn5o"
      },
      "source": [
        "# Train for 100 epochs\n",
        "for i in range(100):\n",
        "    preds = model(inputs)\n",
        "    loss = mse(preds, targets)\n",
        "    loss.backward()\n",
        "    with torch.no_grad():\n",
        "        w -= w.grad * 1e-5\n",
        "        b -= b.grad * 1e-5\n",
        "        w.grad.zero_()\n",
        "        b.grad.zero_()"
      ],
      "execution_count": 17,
      "outputs": []
    },
    {
      "cell_type": "code",
      "metadata": {
        "colab": {
          "base_uri": "https://localhost:8080/"
        },
        "id": "KhZapBXqD4Ty",
        "outputId": "fea91899-948d-4e52-b6da-efd96e5ebd6b"
      },
      "source": [
        "# Calculate loss\n",
        "preds = model(inputs)\n",
        "loss = mse(preds, targets)\n",
        "print(loss)"
      ],
      "execution_count": 18,
      "outputs": [
        {
          "output_type": "stream",
          "text": [
            "tensor(538.9111, grad_fn=<MulBackward0>)\n"
          ],
          "name": "stdout"
        }
      ]
    },
    {
      "cell_type": "code",
      "metadata": {
        "colab": {
          "base_uri": "https://localhost:8080/"
        },
        "id": "J00iiwtLD5-x",
        "outputId": "938d7cbf-c83f-4ef2-d4a2-faf6498d5b56"
      },
      "source": [
        "# Print predictions\n",
        "preds"
      ],
      "execution_count": 19,
      "outputs": [
        {
          "output_type": "execute_result",
          "data": {
            "text/plain": [
              "tensor([[ 61.0541,  75.9017],\n",
              "        [ 89.2427,  98.6308],\n",
              "        [ 96.4353, 128.6068],\n",
              "        [ 45.3944,  68.6145],\n",
              "        [ 99.7155,  97.2147]], grad_fn=<AddBackward0>)"
            ]
          },
          "metadata": {},
          "execution_count": 19
        }
      ]
    },
    {
      "cell_type": "code",
      "metadata": {
        "colab": {
          "base_uri": "https://localhost:8080/"
        },
        "id": "KOGZFrvqD79S",
        "outputId": "b01a4425-2fd3-4add-da67-56efa0ab0c7a"
      },
      "source": [
        "# Print targets\n",
        "targets"
      ],
      "execution_count": 20,
      "outputs": [
        {
          "output_type": "execute_result",
          "data": {
            "text/plain": [
              "tensor([[ 56.,  70.],\n",
              "        [ 81., 101.],\n",
              "        [119., 133.],\n",
              "        [ 22.,  37.],\n",
              "        [103., 119.]])"
            ]
          },
          "metadata": {},
          "execution_count": 20
        }
      ]
    },
    {
      "cell_type": "markdown",
      "metadata": {
        "id": "MUutJ2i5EGQE"
      },
      "source": [
        "## Linear Regression Model (PyTorch built-ins)"
      ]
    },
    {
      "cell_type": "markdown",
      "metadata": {
        "id": "0f-Ofc27ErX2"
      },
      "source": [
        "### Load data"
      ]
    },
    {
      "cell_type": "code",
      "metadata": {
        "id": "9sMemqNvD9-a"
      },
      "source": [
        "# Input (temp, rainfall, humidity)\n",
        "inputs = np.array([[73, 67, 43], [91, 88, 64], [87, 134, 58], [102, 43, 37], [69, 96, 70], [73, 67, 43], [91, 88, 64], [87, 134, 58], [102, 43, 37], [69, 96, 70], [73, 67, 43], [91, 88, 64], [87, 134, 58], [102, 43, 37], [69, 96, 70]], dtype='float32')\n",
        "# Targets (apples, oranges)\n",
        "targets = np.array([[56, 70], [81, 101], [119, 133], [22, 37], [103, 119], \n",
        "                    [56, 70], [81, 101], [119, 133], [22, 37], [103, 119], \n",
        "                    [56, 70], [81, 101], [119, 133], [22, 37], [103, 119]], dtype='float32')"
      ],
      "execution_count": 21,
      "outputs": []
    },
    {
      "cell_type": "code",
      "metadata": {
        "id": "ZezHD_iuEjRT"
      },
      "source": [
        "# convert from numpy to torch format\n",
        "inputs = torch.from_numpy(inputs)\n",
        "targets = torch.from_numpy(targets)"
      ],
      "execution_count": 22,
      "outputs": []
    },
    {
      "cell_type": "code",
      "metadata": {
        "colab": {
          "base_uri": "https://localhost:8080/"
        },
        "id": "Z9CkdNeBEYy0",
        "outputId": "6a655e6d-603a-4ff1-c68d-064fe8d19b57"
      },
      "source": [
        "inputs.shape"
      ],
      "execution_count": 23,
      "outputs": [
        {
          "output_type": "execute_result",
          "data": {
            "text/plain": [
              "torch.Size([15, 3])"
            ]
          },
          "metadata": {},
          "execution_count": 23
        }
      ]
    },
    {
      "cell_type": "code",
      "metadata": {
        "colab": {
          "base_uri": "https://localhost:8080/"
        },
        "id": "UwEKFHzSFIq-",
        "outputId": "86276081-9dd9-4104-fee4-d571972fd3e7"
      },
      "source": [
        "inputs"
      ],
      "execution_count": 24,
      "outputs": [
        {
          "output_type": "execute_result",
          "data": {
            "text/plain": [
              "tensor([[ 73.,  67.,  43.],\n",
              "        [ 91.,  88.,  64.],\n",
              "        [ 87., 134.,  58.],\n",
              "        [102.,  43.,  37.],\n",
              "        [ 69.,  96.,  70.],\n",
              "        [ 73.,  67.,  43.],\n",
              "        [ 91.,  88.,  64.],\n",
              "        [ 87., 134.,  58.],\n",
              "        [102.,  43.,  37.],\n",
              "        [ 69.,  96.,  70.],\n",
              "        [ 73.,  67.,  43.],\n",
              "        [ 91.,  88.,  64.],\n",
              "        [ 87., 134.,  58.],\n",
              "        [102.,  43.,  37.],\n",
              "        [ 69.,  96.,  70.]])"
            ]
          },
          "metadata": {},
          "execution_count": 24
        }
      ]
    },
    {
      "cell_type": "code",
      "metadata": {
        "colab": {
          "base_uri": "https://localhost:8080/"
        },
        "id": "EtHY1F-nEgVc",
        "outputId": "f1f9dac9-6ccd-46b7-cea3-e445a764ba50"
      },
      "source": [
        "targets.shape"
      ],
      "execution_count": 25,
      "outputs": [
        {
          "output_type": "execute_result",
          "data": {
            "text/plain": [
              "torch.Size([15, 2])"
            ]
          },
          "metadata": {},
          "execution_count": 25
        }
      ]
    },
    {
      "cell_type": "code",
      "metadata": {
        "colab": {
          "base_uri": "https://localhost:8080/"
        },
        "id": "fDMA9Q1rFJ_4",
        "outputId": "cc366432-9e23-4873-bfbf-ecb78d54e088"
      },
      "source": [
        "targets"
      ],
      "execution_count": 26,
      "outputs": [
        {
          "output_type": "execute_result",
          "data": {
            "text/plain": [
              "tensor([[ 56.,  70.],\n",
              "        [ 81., 101.],\n",
              "        [119., 133.],\n",
              "        [ 22.,  37.],\n",
              "        [103., 119.],\n",
              "        [ 56.,  70.],\n",
              "        [ 81., 101.],\n",
              "        [119., 133.],\n",
              "        [ 22.,  37.],\n",
              "        [103., 119.],\n",
              "        [ 56.,  70.],\n",
              "        [ 81., 101.],\n",
              "        [119., 133.],\n",
              "        [ 22.,  37.],\n",
              "        [103., 119.]])"
            ]
          },
          "metadata": {},
          "execution_count": 26
        }
      ]
    },
    {
      "cell_type": "markdown",
      "metadata": {
        "id": "Hg1cTop5EwqN"
      },
      "source": [
        "## Dataset and DataLoader\n",
        "\n",
        "We'll create a TensorDataset, which allows access to rows from inputs and targets as tuples. We'll also create a DataLoader, to split the data into batches while training. It also provides other utilities like shuffling and sampling."
      ]
    },
    {
      "cell_type": "code",
      "metadata": {
        "colab": {
          "base_uri": "https://localhost:8080/"
        },
        "id": "dfIxpqY_EhJE",
        "outputId": "315f7286-a1df-47c7-e9e5-9e1c0c6ea235"
      },
      "source": [
        "# Define dataset\n",
        "train_ds = TensorDataset(inputs, targets)\n",
        "train_ds[0:3] # first three rows of inputs and targets"
      ],
      "execution_count": 27,
      "outputs": [
        {
          "output_type": "execute_result",
          "data": {
            "text/plain": [
              "(tensor([[ 73.,  67.,  43.],\n",
              "         [ 91.,  88.,  64.],\n",
              "         [ 87., 134.,  58.]]), tensor([[ 56.,  70.],\n",
              "         [ 81., 101.],\n",
              "         [119., 133.]]))"
            ]
          },
          "metadata": {},
          "execution_count": 27
        }
      ]
    },
    {
      "cell_type": "code",
      "metadata": {
        "colab": {
          "base_uri": "https://localhost:8080/"
        },
        "id": "rOgwV7GiFBgG",
        "outputId": "27fe68b8-e0b2-4db6-fbe7-6003f7449047"
      },
      "source": [
        "# Define data loader\n",
        "batch_size = 5 # give five rows of targets and inputs per iteration\n",
        "train_dl = DataLoader(train_ds, batch_size, shuffle=True)\n",
        "next(iter(train_dl))"
      ],
      "execution_count": 28,
      "outputs": [
        {
          "output_type": "execute_result",
          "data": {
            "text/plain": [
              "[tensor([[ 69.,  96.,  70.],\n",
              "         [ 73.,  67.,  43.],\n",
              "         [ 87., 134.,  58.],\n",
              "         [ 73.,  67.,  43.],\n",
              "         [102.,  43.,  37.]]), tensor([[103., 119.],\n",
              "         [ 56.,  70.],\n",
              "         [119., 133.],\n",
              "         [ 56.,  70.],\n",
              "         [ 22.,  37.]])]"
            ]
          },
          "metadata": {},
          "execution_count": 28
        }
      ]
    },
    {
      "cell_type": "markdown",
      "metadata": {
        "id": "O1HRY75yFfq3"
      },
      "source": [
        "### torch.nn.Linear\n",
        "\n",
        "Instead of initializing the weights & biases manually, we can define the model using nn.Linear."
      ]
    },
    {
      "cell_type": "code",
      "metadata": {
        "colab": {
          "base_uri": "https://localhost:8080/"
        },
        "id": "gRskm1WEFWlP",
        "outputId": "0996f32d-a202-4d8f-b53e-4ed7216e4ba0"
      },
      "source": [
        "# Define model\n",
        "model = torch.nn.Linear(3, 2) # 3 inputs, 2 targets\n",
        "print(model.weight)\n",
        "print(model.bias)"
      ],
      "execution_count": 29,
      "outputs": [
        {
          "output_type": "stream",
          "text": [
            "Parameter containing:\n",
            "tensor([[-0.3137,  0.4896, -0.4389],\n",
            "        [-0.1163,  0.2314, -0.0939]], requires_grad=True)\n",
            "Parameter containing:\n",
            "tensor([-0.5385,  0.3544], requires_grad=True)\n"
          ],
          "name": "stdout"
        }
      ]
    },
    {
      "cell_type": "markdown",
      "metadata": {
        "id": "-fWpmOyAFtr1"
      },
      "source": [
        "### Optimizer\n",
        "\n",
        "Instead of manually manipulating the weights & biases using gradients, we can use the optimizer optim.SGD."
      ]
    },
    {
      "cell_type": "code",
      "metadata": {
        "id": "3rdj_-7uFooR"
      },
      "source": [
        "# Define optimizer\n",
        "opt = torch.optim.SGD(model.parameters(), lr=1e-5)"
      ],
      "execution_count": 30,
      "outputs": []
    },
    {
      "cell_type": "markdown",
      "metadata": {
        "id": "ysMJbn0xF0NX"
      },
      "source": [
        "### Loss function\n",
        "\n",
        "Instead of defining a loss function manually, we can use the built-in loss function mse_loss."
      ]
    },
    {
      "cell_type": "code",
      "metadata": {
        "id": "ZAF8ImtUFzZ2"
      },
      "source": [
        "# Define loss function\n",
        "loss_fn = F.mse_loss"
      ],
      "execution_count": 31,
      "outputs": []
    },
    {
      "cell_type": "code",
      "metadata": {
        "colab": {
          "base_uri": "https://localhost:8080/"
        },
        "id": "UbppDZv-GByX",
        "outputId": "528b7c9c-85c0-4cef-d050-1d734ff7cc24"
      },
      "source": [
        "# compute loss after forward pass\n",
        "loss = loss_fn(model(inputs), targets)\n",
        "print(loss)"
      ],
      "execution_count": 32,
      "outputs": [
        {
          "output_type": "stream",
          "text": [
            "tensor(8071.2856, grad_fn=<MseLossBackward>)\n"
          ],
          "name": "stdout"
        }
      ]
    },
    {
      "cell_type": "markdown",
      "metadata": {
        "id": "AobbFK1yGPIk"
      },
      "source": [
        "### Train model\n",
        "\n",
        "We are ready to train the model now. We can define a utility function fit which trains the model for a given number of epochs."
      ]
    },
    {
      "cell_type": "code",
      "metadata": {
        "id": "anWoumigGGX2"
      },
      "source": [
        "# Define a utility function to train the model\n",
        "def fit(num_epochs, model, loss_fn, opt):\n",
        "    for epoch in range(num_epochs):\n",
        "        for xb,yb in train_dl:\n",
        "            # Step 0: reset gradients to 0\n",
        "            opt.zero_grad()\n",
        "            # Step 1: make prediction\n",
        "            pred = model(xb)\n",
        "            # Step 2: compute loss\n",
        "            loss = loss_fn(pred, yb)\n",
        "            # Step 3: compute grad of loss w.r.t. w & b\n",
        "            loss.backward()\n",
        "            # Step 4: adjust w & b via gradient descent\n",
        "            opt.step()\n",
        "    print('Training loss: ', loss_fn(model(inputs), targets))"
      ],
      "execution_count": 33,
      "outputs": []
    },
    {
      "cell_type": "code",
      "metadata": {
        "colab": {
          "base_uri": "https://localhost:8080/"
        },
        "id": "YfbgQzBnHDtC",
        "outputId": "4212559f-058a-41c6-f469-77dc1d330ee1"
      },
      "source": [
        "# Train the model for 100 epochs\n",
        "fit(100, model, loss_fn, opt)"
      ],
      "execution_count": 34,
      "outputs": [
        {
          "output_type": "stream",
          "text": [
            "Training loss:  tensor(40.8121, grad_fn=<MseLossBackward>)\n"
          ],
          "name": "stdout"
        }
      ]
    },
    {
      "cell_type": "markdown",
      "metadata": {
        "id": "1ivMN7ZyHLHA"
      },
      "source": [
        "### Make predictions"
      ]
    },
    {
      "cell_type": "code",
      "metadata": {
        "colab": {
          "base_uri": "https://localhost:8080/"
        },
        "id": "JYdTEfeSHF0C",
        "outputId": "848eeb3d-ec17-41ab-882f-4ae3ee97452b"
      },
      "source": [
        "# Generate predictions\n",
        "preds = model(inputs)\n",
        "preds"
      ],
      "execution_count": 35,
      "outputs": [
        {
          "output_type": "execute_result",
          "data": {
            "text/plain": [
              "tensor([[ 58.1122,  71.5185],\n",
              "        [ 77.9521,  97.3291],\n",
              "        [127.0259, 138.6841],\n",
              "        [ 26.4697,  43.2231],\n",
              "        [ 91.2556, 109.7681],\n",
              "        [ 58.1122,  71.5185],\n",
              "        [ 77.9521,  97.3291],\n",
              "        [127.0259, 138.6841],\n",
              "        [ 26.4697,  43.2231],\n",
              "        [ 91.2556, 109.7681],\n",
              "        [ 58.1122,  71.5185],\n",
              "        [ 77.9521,  97.3291],\n",
              "        [127.0259, 138.6841],\n",
              "        [ 26.4697,  43.2231],\n",
              "        [ 91.2556, 109.7681]], grad_fn=<AddmmBackward>)"
            ]
          },
          "metadata": {},
          "execution_count": 35
        }
      ]
    },
    {
      "cell_type": "code",
      "metadata": {
        "colab": {
          "base_uri": "https://localhost:8080/"
        },
        "id": "XfwMGXHmHOAz",
        "outputId": "e8f97b9e-353d-4e45-b5e5-e59e3e61db6f"
      },
      "source": [
        "targets"
      ],
      "execution_count": 36,
      "outputs": [
        {
          "output_type": "execute_result",
          "data": {
            "text/plain": [
              "tensor([[ 56.,  70.],\n",
              "        [ 81., 101.],\n",
              "        [119., 133.],\n",
              "        [ 22.,  37.],\n",
              "        [103., 119.],\n",
              "        [ 56.,  70.],\n",
              "        [ 81., 101.],\n",
              "        [119., 133.],\n",
              "        [ 22.,  37.],\n",
              "        [103., 119.],\n",
              "        [ 56.,  70.],\n",
              "        [ 81., 101.],\n",
              "        [119., 133.],\n",
              "        [ 22.,  37.],\n",
              "        [103., 119.]])"
            ]
          },
          "metadata": {},
          "execution_count": 36
        }
      ]
    },
    {
      "cell_type": "markdown",
      "metadata": {
        "id": "dhXKk_dkJ-dh"
      },
      "source": [
        "## Feed Forward Neural Network\n",
        "\n",
        "Conceptually, you think of feedforward neural networks as two or more linear regression models stacked on top of one another with a non-linear activation function applied between them. To use a feedforward neural network instead of linear regression, we can extend the nn.Module class from PyTorch."
      ]
    },
    {
      "cell_type": "code",
      "metadata": {
        "id": "TS-7rqN0HP6E"
      },
      "source": [
        "# create neural network\n",
        "class SimpleNet(torch.nn.Module):\n",
        "    # Initialize the layers\n",
        "    def __init__(self):\n",
        "        super().__init__()\n",
        "        self.linear1 = torch.nn.Linear(3, 3) # 3 inputs, 3 outputs\n",
        "        self.act1 = torch.nn.ReLU() # Activation function\n",
        "        self.linear2 = torch.nn.Linear(3, 2) # 3 inputs, 2 outputs\n",
        "    \n",
        "    # Perform the computation\n",
        "    def forward(self, x):\n",
        "        x = self.linear1(x) # feed into first layer\n",
        "        x = self.act1(x) # apply activation function\n",
        "        x = self.linear2(x) # feed through second layer\n",
        "        return x # output"
      ],
      "execution_count": 37,
      "outputs": []
    },
    {
      "cell_type": "markdown",
      "metadata": {
        "id": "rJe8Fo_8K2ZN"
      },
      "source": [
        "Now we can define the model, optimizer and loss function exactly as before."
      ]
    },
    {
      "cell_type": "code",
      "metadata": {
        "id": "O5b4LQ_xKxqG"
      },
      "source": [
        "# define model\n",
        "model = SimpleNet()"
      ],
      "execution_count": 38,
      "outputs": []
    },
    {
      "cell_type": "code",
      "metadata": {
        "id": "FEi4sjHTK6l_"
      },
      "source": [
        "# define optimizer\n",
        "opt = torch.optim.SGD(model.parameters(), 1e-5)"
      ],
      "execution_count": 39,
      "outputs": []
    },
    {
      "cell_type": "code",
      "metadata": {
        "id": "XwMTiuJULCge"
      },
      "source": [
        "# define loss function\n",
        "loss_fn = F.mse_loss"
      ],
      "execution_count": 40,
      "outputs": []
    },
    {
      "cell_type": "markdown",
      "metadata": {
        "id": "7yiknYxOLHpP"
      },
      "source": [
        "Finally, we can apply gradient descent to train the model using the same fit function defined earlier for linear regression."
      ]
    },
    {
      "cell_type": "code",
      "metadata": {
        "colab": {
          "base_uri": "https://localhost:8080/"
        },
        "id": "uYtqDVAQLFuo",
        "outputId": "18364390-9d34-4051-c1bf-05d656a4781a"
      },
      "source": [
        "# train model\n",
        "fit(100, model, loss_fn, opt)"
      ],
      "execution_count": 41,
      "outputs": [
        {
          "output_type": "stream",
          "text": [
            "Training loss:  tensor(34.7236, grad_fn=<MseLossBackward>)\n"
          ],
          "name": "stdout"
        }
      ]
    },
    {
      "cell_type": "code",
      "metadata": {
        "colab": {
          "base_uri": "https://localhost:8080/"
        },
        "id": "uwUZmVMLLRaR",
        "outputId": "7aa2300a-4901-4ac5-a9a7-ab01ea37ac3a"
      },
      "source": [
        "# Generate predictions\n",
        "preds = model(inputs)\n",
        "preds"
      ],
      "execution_count": 42,
      "outputs": [
        {
          "output_type": "execute_result",
          "data": {
            "text/plain": [
              "tensor([[ 59.7845,  70.2596],\n",
              "        [ 81.6336,  96.0347],\n",
              "        [120.6448, 142.0556],\n",
              "        [ 31.6014,  37.0124],\n",
              "        [ 94.5566, 111.2798],\n",
              "        [ 59.7845,  70.2596],\n",
              "        [ 81.6336,  96.0347],\n",
              "        [120.6448, 142.0556],\n",
              "        [ 31.6014,  37.0124],\n",
              "        [ 94.5566, 111.2798],\n",
              "        [ 59.7845,  70.2596],\n",
              "        [ 81.6336,  96.0347],\n",
              "        [120.6448, 142.0556],\n",
              "        [ 31.6014,  37.0124],\n",
              "        [ 94.5566, 111.2798]], grad_fn=<AddmmBackward>)"
            ]
          },
          "metadata": {},
          "execution_count": 42
        }
      ]
    },
    {
      "cell_type": "code",
      "metadata": {
        "colab": {
          "base_uri": "https://localhost:8080/"
        },
        "id": "Rg2sl-ZQLUgv",
        "outputId": "a320b958-9978-4867-cdbf-7281ad998f1a"
      },
      "source": [
        "targets"
      ],
      "execution_count": 43,
      "outputs": [
        {
          "output_type": "execute_result",
          "data": {
            "text/plain": [
              "tensor([[ 56.,  70.],\n",
              "        [ 81., 101.],\n",
              "        [119., 133.],\n",
              "        [ 22.,  37.],\n",
              "        [103., 119.],\n",
              "        [ 56.,  70.],\n",
              "        [ 81., 101.],\n",
              "        [119., 133.],\n",
              "        [ 22.,  37.],\n",
              "        [103., 119.],\n",
              "        [ 56.,  70.],\n",
              "        [ 81., 101.],\n",
              "        [119., 133.],\n",
              "        [ 22.,  37.],\n",
              "        [103., 119.]])"
            ]
          },
          "metadata": {},
          "execution_count": 43
        }
      ]
    },
    {
      "cell_type": "code",
      "metadata": {
        "id": "A2R8FqiyLWWZ"
      },
      "source": [
        ""
      ],
      "execution_count": 43,
      "outputs": []
    }
  ]
}