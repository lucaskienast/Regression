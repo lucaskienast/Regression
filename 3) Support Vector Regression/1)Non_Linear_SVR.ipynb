{
  "nbformat": 4,
  "nbformat_minor": 0,
  "metadata": {
    "colab": {
      "name": "1)Non_Linear_SVR.ipynb",
      "provenance": [],
      "collapsed_sections": []
    },
    "kernelspec": {
      "name": "python3",
      "display_name": "Python 3"
    },
    "language_info": {
      "name": "python"
    }
  },
  "cells": [
    {
      "cell_type": "markdown",
      "metadata": {
        "id": "3RMzgFojVAj3"
      },
      "source": [
        "# Support Vector Regression (SVR): Non-Linear Data with Sklearn\n",
        "\n",
        "In this example, we will go through the implementation of Support Vector Regression (SVR), in which we will predict the Marks of a student based on his or her number of hours put into study. we have one independent variable Hours of Study and one dependent variable Marks. In this problem, we have to train a SVR model with this data to understand the correlation between the Hours of Study and Marks of the student and be able to predict the student’s mark based on their number of hours dedicated to studies."
      ]
    },
    {
      "cell_type": "markdown",
      "metadata": {
        "id": "hzuUuOc7VzIY"
      },
      "source": [
        "## Import libraries"
      ]
    },
    {
      "cell_type": "code",
      "metadata": {
        "id": "Z1UrV0IcUR_t"
      },
      "source": [
        "import numpy as np\n",
        "import pandas as pd\n",
        "import matplotlib.pyplot as plt\n",
        "from sklearn.preprocessing import StandardScaler\n",
        "from sklearn.model_selection import train_test_split\n",
        "from sklearn.svm import SVR\n",
        "plt.style.use(\"seaborn-whitegrid\")"
      ],
      "execution_count": 1,
      "outputs": []
    },
    {
      "cell_type": "markdown",
      "metadata": {
        "id": "Tkod71BLWEal"
      },
      "source": [
        "## Load data"
      ]
    },
    {
      "cell_type": "code",
      "metadata": {
        "colab": {
          "base_uri": "https://localhost:8080/",
          "height": 204
        },
        "id": "42_U1i2qWDfq",
        "outputId": "c3e6091f-13b5-468d-f746-280ba53ad37e"
      },
      "source": [
        "# load data and store in df\n",
        "url = \"https://raw.githubusercontent.com/mk-gurucharan/Regression/master/SampleData.csv\"\n",
        "df = pd.read_csv(url)\n",
        "df.head()"
      ],
      "execution_count": 2,
      "outputs": [
        {
          "output_type": "execute_result",
          "data": {
            "text/html": [
              "<div>\n",
              "<style scoped>\n",
              "    .dataframe tbody tr th:only-of-type {\n",
              "        vertical-align: middle;\n",
              "    }\n",
              "\n",
              "    .dataframe tbody tr th {\n",
              "        vertical-align: top;\n",
              "    }\n",
              "\n",
              "    .dataframe thead th {\n",
              "        text-align: right;\n",
              "    }\n",
              "</style>\n",
              "<table border=\"1\" class=\"dataframe\">\n",
              "  <thead>\n",
              "    <tr style=\"text-align: right;\">\n",
              "      <th></th>\n",
              "      <th>Hours of Study</th>\n",
              "      <th>Marks</th>\n",
              "    </tr>\n",
              "  </thead>\n",
              "  <tbody>\n",
              "    <tr>\n",
              "      <th>0</th>\n",
              "      <td>32.502345</td>\n",
              "      <td>31.707006</td>\n",
              "    </tr>\n",
              "    <tr>\n",
              "      <th>1</th>\n",
              "      <td>53.426804</td>\n",
              "      <td>68.777596</td>\n",
              "    </tr>\n",
              "    <tr>\n",
              "      <th>2</th>\n",
              "      <td>61.530358</td>\n",
              "      <td>62.562382</td>\n",
              "    </tr>\n",
              "    <tr>\n",
              "      <th>3</th>\n",
              "      <td>47.475640</td>\n",
              "      <td>71.546632</td>\n",
              "    </tr>\n",
              "    <tr>\n",
              "      <th>4</th>\n",
              "      <td>59.813208</td>\n",
              "      <td>87.230925</td>\n",
              "    </tr>\n",
              "  </tbody>\n",
              "</table>\n",
              "</div>"
            ],
            "text/plain": [
              "   Hours of Study      Marks\n",
              "0       32.502345  31.707006\n",
              "1       53.426804  68.777596\n",
              "2       61.530358  62.562382\n",
              "3       47.475640  71.546632\n",
              "4       59.813208  87.230925"
            ]
          },
          "metadata": {},
          "execution_count": 2
        }
      ]
    },
    {
      "cell_type": "markdown",
      "metadata": {
        "id": "BNhEGM0rWRa9"
      },
      "source": [
        "## Explore data"
      ]
    },
    {
      "cell_type": "code",
      "metadata": {
        "colab": {
          "base_uri": "https://localhost:8080/",
          "height": 297
        },
        "id": "JbLFvlw7WNUv",
        "outputId": "3114eea5-60df-4d52-f376-ac3fe1820e32"
      },
      "source": [
        "# look at descriptive statistics\n",
        "df.describe()"
      ],
      "execution_count": 3,
      "outputs": [
        {
          "output_type": "execute_result",
          "data": {
            "text/html": [
              "<div>\n",
              "<style scoped>\n",
              "    .dataframe tbody tr th:only-of-type {\n",
              "        vertical-align: middle;\n",
              "    }\n",
              "\n",
              "    .dataframe tbody tr th {\n",
              "        vertical-align: top;\n",
              "    }\n",
              "\n",
              "    .dataframe thead th {\n",
              "        text-align: right;\n",
              "    }\n",
              "</style>\n",
              "<table border=\"1\" class=\"dataframe\">\n",
              "  <thead>\n",
              "    <tr style=\"text-align: right;\">\n",
              "      <th></th>\n",
              "      <th>Hours of Study</th>\n",
              "      <th>Marks</th>\n",
              "    </tr>\n",
              "  </thead>\n",
              "  <tbody>\n",
              "    <tr>\n",
              "      <th>count</th>\n",
              "      <td>100.000000</td>\n",
              "      <td>100.000000</td>\n",
              "    </tr>\n",
              "    <tr>\n",
              "      <th>mean</th>\n",
              "      <td>48.958341</td>\n",
              "      <td>72.035051</td>\n",
              "    </tr>\n",
              "    <tr>\n",
              "      <th>std</th>\n",
              "      <td>9.746379</td>\n",
              "      <td>15.200087</td>\n",
              "    </tr>\n",
              "    <tr>\n",
              "      <th>min</th>\n",
              "      <td>25.128485</td>\n",
              "      <td>31.707006</td>\n",
              "    </tr>\n",
              "    <tr>\n",
              "      <th>25%</th>\n",
              "      <td>41.526164</td>\n",
              "      <td>60.788586</td>\n",
              "    </tr>\n",
              "    <tr>\n",
              "      <th>50%</th>\n",
              "      <td>49.634970</td>\n",
              "      <td>72.179542</td>\n",
              "    </tr>\n",
              "    <tr>\n",
              "      <th>75%</th>\n",
              "      <td>56.762631</td>\n",
              "      <td>83.215080</td>\n",
              "    </tr>\n",
              "    <tr>\n",
              "      <th>max</th>\n",
              "      <td>70.346076</td>\n",
              "      <td>99.051415</td>\n",
              "    </tr>\n",
              "  </tbody>\n",
              "</table>\n",
              "</div>"
            ],
            "text/plain": [
              "       Hours of Study       Marks\n",
              "count      100.000000  100.000000\n",
              "mean        48.958341   72.035051\n",
              "std          9.746379   15.200087\n",
              "min         25.128485   31.707006\n",
              "25%         41.526164   60.788586\n",
              "50%         49.634970   72.179542\n",
              "75%         56.762631   83.215080\n",
              "max         70.346076   99.051415"
            ]
          },
          "metadata": {},
          "execution_count": 3
        }
      ]
    },
    {
      "cell_type": "code",
      "metadata": {
        "colab": {
          "base_uri": "https://localhost:8080/",
          "height": 447
        },
        "id": "1g5XB5e9WUzo",
        "outputId": "4f7321f1-3577-4022-a67c-a0fda6fffd01"
      },
      "source": [
        "# plot hours of study against marks\n",
        "plt.figure(figsize=(14,7))\n",
        "plt.scatter(df[\"Hours of Study\"], df[\"Marks\"])\n",
        "plt.xlabel(\"Hours of Study\", fontsize=14)\n",
        "plt.ylabel(\"Marks\", fontsize=14)\n",
        "plt.xlim(20,80)\n",
        "plt.ylim(20,120)\n",
        "plt.show()"
      ],
      "execution_count": 4,
      "outputs": [
        {
          "output_type": "display_data",
          "data": {
            "image/png": "[encoded data removed]",
            "text/plain": [
              "<Figure size 1008x504 with 1 Axes>"
            ]
          },
          "metadata": {
            "needs_background": "light"
          }
        }
      ]
    },
    {
      "cell_type": "markdown",
      "metadata": {
        "id": "yR9DKZFHW8Jy"
      },
      "source": [
        "## Declare targets and features"
      ]
    },
    {
      "cell_type": "code",
      "metadata": {
        "id": "HA73DtXdWpy7"
      },
      "source": [
        "# create target (y) and features (X) variables\n",
        "y = df[[\"Marks\"]].values\n",
        "X = df[[\"Hours of Study\"]].values"
      ],
      "execution_count": 5,
      "outputs": []
    },
    {
      "cell_type": "markdown",
      "metadata": {
        "id": "q1BcnRdbXdTr"
      },
      "source": [
        "## Feature scaling"
      ]
    },
    {
      "cell_type": "code",
      "metadata": {
        "id": "83pFftOqXLBm"
      },
      "source": [
        "# standardize features\n",
        "scaler_X = StandardScaler()\n",
        "X_scaled = scaler_X.fit_transform(X)\n",
        "# standardize targets\n",
        "scaler_y = StandardScaler()\n",
        "y_scaled = scaler_y.fit_transform(y)"
      ],
      "execution_count": 6,
      "outputs": []
    },
    {
      "cell_type": "markdown",
      "metadata": {
        "id": "oMVswRJcY2R9"
      },
      "source": [
        "## Train-Test Split"
      ]
    },
    {
      "cell_type": "code",
      "metadata": {
        "colab": {
          "base_uri": "https://localhost:8080/"
        },
        "id": "FLIWOkMTYQ0L",
        "outputId": "450b6deb-245d-4650-e0ac-86e002224ca3"
      },
      "source": [
        "# 80:20 split\n",
        "X_train, X_test, y_train, y_test = train_test_split(X_scaled, y_scaled, test_size=0.2, random_state=42)\n",
        "print(X_train.shape[0])\n",
        "print(X_test.shape[0])\n",
        "print(X_train.shape[0] / X.shape[0])"
      ],
      "execution_count": 7,
      "outputs": [
        {
          "output_type": "stream",
          "text": [
            "80\n",
            "20\n",
            "0.8\n"
          ],
          "name": "stdout"
        }
      ]
    },
    {
      "cell_type": "markdown",
      "metadata": {
        "id": "iAunpy_-ZG4v"
      },
      "source": [
        "## Train SVR Model\n",
        "RBF kernel is used to introduce a non-linearity to the SVR model. This is done because our data is non-linear."
      ]
    },
    {
      "cell_type": "code",
      "metadata": {
        "colab": {
          "base_uri": "https://localhost:8080/"
        },
        "id": "HeBMiVf3Y_EA",
        "outputId": "c307c8ba-3be7-4ff5-b7da-a73cdee3d833"
      },
      "source": [
        "# build and train SVR model\n",
        "regressor = SVR(kernel=\"rbf\")\n",
        "regressor.fit(X_train, y_train.ravel())"
      ],
      "execution_count": 8,
      "outputs": [
        {
          "output_type": "execute_result",
          "data": {
            "text/plain": [
              "SVR(C=1.0, cache_size=200, coef0=0.0, degree=3, epsilon=0.1, gamma='scale',\n",
              "    kernel='rbf', max_iter=-1, shrinking=True, tol=0.001, verbose=False)"
            ]
          },
          "metadata": {},
          "execution_count": 8
        }
      ]
    },
    {
      "cell_type": "markdown",
      "metadata": {
        "id": "rqF4rSfzcdTU"
      },
      "source": [
        "## Test SVR Model"
      ]
    },
    {
      "cell_type": "code",
      "metadata": {
        "id": "le6msr-nZi47"
      },
      "source": [
        "# compute predictions and transform them back to original scale\n",
        "yhat = regressor.predict(X_test)\n",
        "yhat = scaler_y.inverse_transform(yhat)\n",
        "yactual = scaler_y.inverse_transform(y_test).reshape(-1)"
      ],
      "execution_count": 9,
      "outputs": []
    },
    {
      "cell_type": "code",
      "metadata": {
        "colab": {
          "base_uri": "https://localhost:8080/",
          "height": 669
        },
        "id": "lLJxfIWlcvAz",
        "outputId": "a948e753-560c-45cc-d3d8-23a536bb0e13"
      },
      "source": [
        "# compare predictions with actuals in table\n",
        "eval_df = pd.DataFrame({\"Actuals\": yactual, \"Predictions\": yhat, \"%-Error\": np.abs(((yhat-yactual)/yactual)*100)})\n",
        "eval_df"
      ],
      "execution_count": 10,
      "outputs": [
        {
          "output_type": "execute_result",
          "data": {
            "text/html": [
              "<div>\n",
              "<style scoped>\n",
              "    .dataframe tbody tr th:only-of-type {\n",
              "        vertical-align: middle;\n",
              "    }\n",
              "\n",
              "    .dataframe tbody tr th {\n",
              "        vertical-align: top;\n",
              "    }\n",
              "\n",
              "    .dataframe thead th {\n",
              "        text-align: right;\n",
              "    }\n",
              "</style>\n",
              "<table border=\"1\" class=\"dataframe\">\n",
              "  <thead>\n",
              "    <tr style=\"text-align: right;\">\n",
              "      <th></th>\n",
              "      <th>Actuals</th>\n",
              "      <th>Predictions</th>\n",
              "      <th>%-Error</th>\n",
              "    </tr>\n",
              "  </thead>\n",
              "  <tbody>\n",
              "    <tr>\n",
              "      <th>0</th>\n",
              "      <td>77.634183</td>\n",
              "      <td>83.317235</td>\n",
              "      <td>7.320297</td>\n",
              "    </tr>\n",
              "    <tr>\n",
              "      <th>1</th>\n",
              "      <td>65.280887</td>\n",
              "      <td>62.465455</td>\n",
              "      <td>4.312797</td>\n",
              "    </tr>\n",
              "    <tr>\n",
              "      <th>2</th>\n",
              "      <td>50.392670</td>\n",
              "      <td>53.281953</td>\n",
              "      <td>5.733539</td>\n",
              "    </tr>\n",
              "    <tr>\n",
              "      <th>3</th>\n",
              "      <td>45.570589</td>\n",
              "      <td>53.663992</td>\n",
              "      <td>17.760145</td>\n",
              "    </tr>\n",
              "    <tr>\n",
              "      <th>4</th>\n",
              "      <td>95.244153</td>\n",
              "      <td>88.796262</td>\n",
              "      <td>6.769854</td>\n",
              "    </tr>\n",
              "    <tr>\n",
              "      <th>5</th>\n",
              "      <td>60.810247</td>\n",
              "      <td>57.141287</td>\n",
              "      <td>6.033456</td>\n",
              "    </tr>\n",
              "    <tr>\n",
              "      <th>6</th>\n",
              "      <td>57.251819</td>\n",
              "      <td>71.822129</td>\n",
              "      <td>25.449514</td>\n",
              "    </tr>\n",
              "    <tr>\n",
              "      <th>7</th>\n",
              "      <td>80.207523</td>\n",
              "      <td>81.172275</td>\n",
              "      <td>1.202820</td>\n",
              "    </tr>\n",
              "    <tr>\n",
              "      <th>8</th>\n",
              "      <td>55.165677</td>\n",
              "      <td>68.623752</td>\n",
              "      <td>24.395740</td>\n",
              "    </tr>\n",
              "    <tr>\n",
              "      <th>9</th>\n",
              "      <td>31.707006</td>\n",
              "      <td>53.596328</td>\n",
              "      <td>69.036233</td>\n",
              "    </tr>\n",
              "    <tr>\n",
              "      <th>10</th>\n",
              "      <td>48.847153</td>\n",
              "      <td>68.948933</td>\n",
              "      <td>41.152407</td>\n",
              "    </tr>\n",
              "    <tr>\n",
              "      <th>11</th>\n",
              "      <td>63.358790</td>\n",
              "      <td>77.313786</td>\n",
              "      <td>22.025351</td>\n",
              "    </tr>\n",
              "    <tr>\n",
              "      <th>12</th>\n",
              "      <td>57.812513</td>\n",
              "      <td>64.738766</td>\n",
              "      <td>11.980543</td>\n",
              "    </tr>\n",
              "    <tr>\n",
              "      <th>13</th>\n",
              "      <td>96.769566</td>\n",
              "      <td>82.363536</td>\n",
              "      <td>14.886943</td>\n",
              "    </tr>\n",
              "    <tr>\n",
              "      <th>14</th>\n",
              "      <td>67.170656</td>\n",
              "      <td>53.780670</td>\n",
              "      <td>19.934279</td>\n",
              "    </tr>\n",
              "    <tr>\n",
              "      <th>15</th>\n",
              "      <td>87.230925</td>\n",
              "      <td>84.231275</td>\n",
              "      <td>3.438746</td>\n",
              "    </tr>\n",
              "    <tr>\n",
              "      <th>16</th>\n",
              "      <td>91.486778</td>\n",
              "      <td>81.719393</td>\n",
              "      <td>10.676280</td>\n",
              "    </tr>\n",
              "    <tr>\n",
              "      <th>17</th>\n",
              "      <td>55.231661</td>\n",
              "      <td>56.426189</td>\n",
              "      <td>2.162760</td>\n",
              "    </tr>\n",
              "    <tr>\n",
              "      <th>18</th>\n",
              "      <td>62.008923</td>\n",
              "      <td>66.523819</td>\n",
              "      <td>7.281042</td>\n",
              "    </tr>\n",
              "    <tr>\n",
              "      <th>19</th>\n",
              "      <td>41.412885</td>\n",
              "      <td>55.315657</td>\n",
              "      <td>33.571126</td>\n",
              "    </tr>\n",
              "  </tbody>\n",
              "</table>\n",
              "</div>"
            ],
            "text/plain": [
              "      Actuals  Predictions    %-Error\n",
              "0   77.634183    83.317235   7.320297\n",
              "1   65.280887    62.465455   4.312797\n",
              "2   50.392670    53.281953   5.733539\n",
              "3   45.570589    53.663992  17.760145\n",
              "4   95.244153    88.796262   6.769854\n",
              "5   60.810247    57.141287   6.033456\n",
              "6   57.251819    71.822129  25.449514\n",
              "7   80.207523    81.172275   1.202820\n",
              "8   55.165677    68.623752  24.395740\n",
              "9   31.707006    53.596328  69.036233\n",
              "10  48.847153    68.948933  41.152407\n",
              "11  63.358790    77.313786  22.025351\n",
              "12  57.812513    64.738766  11.980543\n",
              "13  96.769566    82.363536  14.886943\n",
              "14  67.170656    53.780670  19.934279\n",
              "15  87.230925    84.231275   3.438746\n",
              "16  91.486778    81.719393  10.676280\n",
              "17  55.231661    56.426189   2.162760\n",
              "18  62.008923    66.523819   7.281042\n",
              "19  41.412885    55.315657  33.571126"
            ]
          },
          "metadata": {},
          "execution_count": 10
        }
      ]
    },
    {
      "cell_type": "code",
      "metadata": {
        "colab": {
          "base_uri": "https://localhost:8080/"
        },
        "id": "7C2UvVmMc9g9",
        "outputId": "130d2f0f-57c8-4ad0-be13-d07fe19d4cb3"
      },
      "source": [
        "# compute mean percentage error\n",
        "eval_df.loc[:, \"%-Error\"].mean()"
      ],
      "execution_count": 11,
      "outputs": [
        {
          "output_type": "execute_result",
          "data": {
            "text/plain": [
              "16.75619364316939"
            ]
          },
          "metadata": {},
          "execution_count": 11
        }
      ]
    },
    {
      "cell_type": "code",
      "metadata": {
        "colab": {
          "base_uri": "https://localhost:8080/",
          "height": 338
        },
        "id": "HV9Vii7OeFEp",
        "outputId": "cae7c9ce-999b-432b-cc6c-182c3f037f8e"
      },
      "source": [
        "# plot predictions against actuals\n",
        "fig, axes = plt.subplots(nrows=1, ncols=3, figsize=(20,5))\n",
        "\n",
        "\n",
        "X_test_actual = scaler_X.inverse_transform(X_test)\n",
        "axes[0].scatter(X_test_actual, yactual, color=\"cornflowerblue\", label=\"Actuals\")\n",
        "axes[0].scatter(X_test_actual, yhat, color=\"darkorange\", label=\"Predictions\")\n",
        "axes[0].set_xlabel(\"Hours of Study\", fontsize=14)\n",
        "axes[0].set_ylabel(\"Marks\", fontsize=14)\n",
        "axes[0].legend(fontsize=14)\n",
        "\n",
        "X_grid = np.arange(min(X_scaled), max(X_scaled), 0.1)\n",
        "X_grid = X_grid.reshape((len(X_grid), 1))\n",
        "axes[1].plot(X_grid, regressor.predict(X_grid), color = 'grey', label=\"SVR Line\")\n",
        "axes[1].set_xlabel(\"Position Level\", fontsize=14)\n",
        "axes[1].set_ylabel(\"Salary\", fontsize=14)\n",
        "axes[1].legend(fontsize=14)\n",
        "\n",
        "axes[2].scatter(yactual, yhat, color=\"red\", label=\"actual vs prediction\")\n",
        "axes[2].plot(np.arange(min(y), max(y)), np.arange(min(y), max(y)), linestyle=\"dashed\", label=\"Perfect fit line\")\n",
        "axes[2].set_xlabel(\"Actual Marks\", fontsize=14)\n",
        "axes[2].set_ylabel(\"Predicted Marks\", fontsize=14)\n",
        "axes[2].legend(fontsize=14)\n",
        "\n",
        "plt.show()"
      ],
      "execution_count": 12,
      "outputs": [
        {
          "output_type": "display_data",
          "data": {
            "image/png": "[encoded data removed]",
            "text/plain": [
              "<Figure size 1440x360 with 3 Axes>"
            ]
          },
          "metadata": {
            "needs_background": "light"
          }
        }
      ]
    },
    {
      "cell_type": "code",
      "metadata": {
        "id": "6zBtWZ9Zgwn4"
      },
      "source": [
        ""
      ],
      "execution_count": 12,
      "outputs": []
    }
  ]
}
