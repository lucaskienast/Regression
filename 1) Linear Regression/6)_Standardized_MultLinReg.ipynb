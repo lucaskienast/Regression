{
  "nbformat": 4,
  "nbformat_minor": 0,
  "metadata": {
    "colab": {
      "name": "6) Standardized MultLinReg.ipynb",
      "provenance": [],
      "collapsed_sections": []
    },
    "kernelspec": {
      "name": "python3",
      "display_name": "Python 3"
    },
    "language_info": {
      "name": "python"
    }
  },
  "cells": [
    {
      "cell_type": "markdown",
      "metadata": {
        "id": "Ko7YErMRAkm4"
      },
      "source": [
        "# Multiple Linear Regression with Standardized Features: Sklearn"
      ]
    },
    {
      "cell_type": "markdown",
      "metadata": {
        "id": "51d0AWJxA2Hn"
      },
      "source": [
        "## Import libraries"
      ]
    },
    {
      "cell_type": "code",
      "metadata": {
        "id": "g7Qg5lZC7esU"
      },
      "source": [
        "import numpy as np\n",
        "import pandas as pd\n",
        "import matplotlib.pyplot as plt\n",
        "plt.style.use(\"seaborn-whitegrid\")\n",
        "from sklearn.linear_model import LinearRegression\n",
        "from sklearn.model_selection import train_test_split\n",
        "from sklearn.compose import ColumnTransformer\n",
        "from sklearn.preprocessing import OneHotEncoder\n",
        "from sklearn.preprocessing import StandardScaler"
      ],
      "execution_count": 1,
      "outputs": []
    },
    {
      "cell_type": "markdown",
      "metadata": {
        "id": "uesAIJxPA9ZW"
      },
      "source": [
        "## Load data"
      ]
    },
    {
      "cell_type": "code",
      "metadata": {
        "colab": {
          "base_uri": "https://localhost:8080/",
          "height": 204
        },
        "id": "XfDuZhXzA7uY",
        "outputId": "b0c95cd7-2678-4134-c04c-ee49b0b81c98"
      },
      "source": [
        "url = \"https://raw.githubusercontent.com/mk-gurucharan/Regression/master/Startups_Data.csv\"\n",
        "df = pd.read_csv(url)\n",
        "df.head()"
      ],
      "execution_count": 2,
      "outputs": [
        {
          "output_type": "execute_result",
          "data": {
            "text/html": [
              "<div>\n",
              "<style scoped>\n",
              "    .dataframe tbody tr th:only-of-type {\n",
              "        vertical-align: middle;\n",
              "    }\n",
              "\n",
              "    .dataframe tbody tr th {\n",
              "        vertical-align: top;\n",
              "    }\n",
              "\n",
              "    .dataframe thead th {\n",
              "        text-align: right;\n",
              "    }\n",
              "</style>\n",
              "<table border=\"1\" class=\"dataframe\">\n",
              "  <thead>\n",
              "    <tr style=\"text-align: right;\">\n",
              "      <th></th>\n",
              "      <th>R&amp;D Spend</th>\n",
              "      <th>Administration</th>\n",
              "      <th>Marketing Spend</th>\n",
              "      <th>State</th>\n",
              "      <th>Profit</th>\n",
              "    </tr>\n",
              "  </thead>\n",
              "  <tbody>\n",
              "    <tr>\n",
              "      <th>0</th>\n",
              "      <td>165349.20</td>\n",
              "      <td>136897.80</td>\n",
              "      <td>471784.10</td>\n",
              "      <td>New York</td>\n",
              "      <td>192261.83</td>\n",
              "    </tr>\n",
              "    <tr>\n",
              "      <th>1</th>\n",
              "      <td>162597.70</td>\n",
              "      <td>151377.59</td>\n",
              "      <td>443898.53</td>\n",
              "      <td>California</td>\n",
              "      <td>191792.06</td>\n",
              "    </tr>\n",
              "    <tr>\n",
              "      <th>2</th>\n",
              "      <td>153441.51</td>\n",
              "      <td>101145.55</td>\n",
              "      <td>407934.54</td>\n",
              "      <td>Florida</td>\n",
              "      <td>191050.39</td>\n",
              "    </tr>\n",
              "    <tr>\n",
              "      <th>3</th>\n",
              "      <td>144372.41</td>\n",
              "      <td>118671.85</td>\n",
              "      <td>383199.62</td>\n",
              "      <td>New York</td>\n",
              "      <td>182901.99</td>\n",
              "    </tr>\n",
              "    <tr>\n",
              "      <th>4</th>\n",
              "      <td>142107.34</td>\n",
              "      <td>91391.77</td>\n",
              "      <td>366168.42</td>\n",
              "      <td>Florida</td>\n",
              "      <td>166187.94</td>\n",
              "    </tr>\n",
              "  </tbody>\n",
              "</table>\n",
              "</div>"
            ],
            "text/plain": [
              "   R&D Spend  Administration  Marketing Spend       State     Profit\n",
              "0  165349.20       136897.80        471784.10    New York  192261.83\n",
              "1  162597.70       151377.59        443898.53  California  191792.06\n",
              "2  153441.51       101145.55        407934.54     Florida  191050.39\n",
              "3  144372.41       118671.85        383199.62    New York  182901.99\n",
              "4  142107.34        91391.77        366168.42     Florida  166187.94"
            ]
          },
          "metadata": {},
          "execution_count": 2
        }
      ]
    },
    {
      "cell_type": "code",
      "metadata": {
        "colab": {
          "base_uri": "https://localhost:8080/"
        },
        "id": "s522v6bXBAZQ",
        "outputId": "7f7ebd32-9205-4a32-a557-3034473be536"
      },
      "source": [
        "df[\"State\"].unique()"
      ],
      "execution_count": 3,
      "outputs": [
        {
          "output_type": "execute_result",
          "data": {
            "text/plain": [
              "array(['New York', 'California', 'Florida'], dtype=object)"
            ]
          },
          "metadata": {},
          "execution_count": 3
        }
      ]
    },
    {
      "cell_type": "markdown",
      "metadata": {
        "id": "Mt-5B6OTBNvx"
      },
      "source": [
        "## Declare targets and features"
      ]
    },
    {
      "cell_type": "code",
      "metadata": {
        "id": "WAek3KBTBB6n"
      },
      "source": [
        "# declare features and targets\n",
        "y = df.iloc[:, -1].values\n",
        "X_conti = df.iloc[:, :-2].values\n",
        "X_categ = df.iloc[:, 3].values"
      ],
      "execution_count": 4,
      "outputs": []
    },
    {
      "cell_type": "markdown",
      "metadata": {
        "id": "3v3owRCDBSv0"
      },
      "source": [
        "## Standardize continuous features\n"
      ]
    },
    {
      "cell_type": "code",
      "metadata": {
        "colab": {
          "base_uri": "https://localhost:8080/"
        },
        "id": "OoayzwZXBoRk",
        "outputId": "2013bee2-7219-411f-cd9c-e8213253483b"
      },
      "source": [
        "# create scaler and fit to continuous features\n",
        "scaler = StandardScaler()\n",
        "scaler.fit(X_conti)"
      ],
      "execution_count": 5,
      "outputs": [
        {
          "output_type": "execute_result",
          "data": {
            "text/plain": [
              "StandardScaler(copy=True, with_mean=True, with_std=True)"
            ]
          },
          "metadata": {},
          "execution_count": 5
        }
      ]
    },
    {
      "cell_type": "code",
      "metadata": {
        "colab": {
          "base_uri": "https://localhost:8080/"
        },
        "id": "vwsd4uuKCE-_",
        "outputId": "163c5a79-febe-4b88-9c04-03be611f6c2c"
      },
      "source": [
        "# standardize continuous features\n",
        "X_scaled = scaler.transform(X_conti)\n",
        "X_scaled[:5]"
      ],
      "execution_count": 6,
      "outputs": [
        {
          "output_type": "execute_result",
          "data": {
            "text/plain": [
              "array([[ 2.01641149,  0.56075291,  2.15394309],\n",
              "       [ 1.95586034,  1.08280658,  1.9236004 ],\n",
              "       [ 1.75436374, -0.72825703,  1.62652767],\n",
              "       [ 1.55478369, -0.09636463,  1.42221024],\n",
              "       [ 1.5049372 , -1.07991935,  1.28152771]])"
            ]
          },
          "metadata": {},
          "execution_count": 6
        }
      ]
    },
    {
      "cell_type": "markdown",
      "metadata": {
        "id": "IYdyfCS5D1HL"
      },
      "source": [
        "## Column-Stack categorical and standardized continuous features"
      ]
    },
    {
      "cell_type": "code",
      "metadata": {
        "colab": {
          "base_uri": "https://localhost:8080/"
        },
        "id": "1uD5ZGxUCm6y",
        "outputId": "8351899f-d753-4e20-bfd0-fb551df65195"
      },
      "source": [
        "# add categorical feature column vector to standardized continuous features\n",
        "X = np.column_stack((X_scaled, X_categ))\n",
        "X[:5]"
      ],
      "execution_count": 7,
      "outputs": [
        {
          "output_type": "execute_result",
          "data": {
            "text/plain": [
              "array([[2.016411493158463, 0.560752914530775, 2.153943088571744,\n",
              "        'New York'],\n",
              "       [1.9558603364325031, 1.0828065830760816, 1.9236003956421444,\n",
              "        'California'],\n",
              "       [1.7543637361407838, -0.728257027688616, 1.6265276693147561,\n",
              "        'Florida'],\n",
              "       [1.5547836905426, -0.09636463069766506, 1.4222102362410112,\n",
              "        'New York'],\n",
              "       [1.5049372036935103, -1.0799193536742715, 1.2815277086174908,\n",
              "        'Florida']], dtype=object)"
            ]
          },
          "metadata": {},
          "execution_count": 7
        }
      ]
    },
    {
      "cell_type": "markdown",
      "metadata": {
        "id": "cAqFv-28Esep"
      },
      "source": [
        "## One-Hot-Encoding of categorical features\n"
        "\n",
        "(Note: you should drop the dummy variable with the most 1's to avoid multicollinearity in the model.)"
      ]
    },
    {
      "cell_type": "code",
      "metadata": {
        "colab": {
          "base_uri": "https://localhost:8080/"
        },
        "id": "zhagubT3Ekyo",
        "outputId": "2ce245d1-352d-4239-bbcf-090d3474d1f2"
      },
      "source": [
        "# one-hot-encode categorical \"State\" feature\n",
        "ct = ColumnTransformer(transformers=[(\"encoder\", OneHotEncoder(), [3])], remainder=\"passthrough\")\n",
        "X = np.array(ct.fit_transform(X))\n",
        "X[:5]"
      ],
      "execution_count": 8,
      "outputs": [
        {
          "output_type": "execute_result",
          "data": {
            "text/plain": [
              "array([[0.0, 0.0, 1.0, 2.016411493158463, 0.560752914530775,\n",
              "        2.153943088571744],\n",
              "       [1.0, 0.0, 0.0, 1.9558603364325031, 1.0828065830760816,\n",
              "        1.9236003956421444],\n",
              "       [0.0, 1.0, 0.0, 1.7543637361407838, -0.728257027688616,\n",
              "        1.6265276693147561],\n",
              "       [0.0, 0.0, 1.0, 1.5547836905426, -0.09636463069766506,\n",
              "        1.4222102362410112],\n",
              "       [0.0, 1.0, 0.0, 1.5049372036935103, -1.0799193536742715,\n",
              "        1.2815277086174908]], dtype=object)"
            ]
          },
          "metadata": {},
          "execution_count": 8
        }
      ]
    },
    {
      "cell_type": "markdown",
      "metadata": {
        "id": "cm2nadjOE8jt"
      },
      "source": [
        "## Train-Test Split"
      ]
    },
    {
      "cell_type": "code",
      "metadata": {
        "colab": {
          "base_uri": "https://localhost:8080/"
        },
        "id": "Nd04i_9YEz3a",
        "outputId": "16c52ad6-af41-4fe0-c041-a04eb5163f54"
      },
      "source": [
        "# 80:20 train-test split\n",
        "X_train, X_test, y_train, y_test = train_test_split(X, y, test_size=0.2, random_state=42)\n",
        "print(X_train.shape[0])\n",
        "print(X_test.shape[0])\n",
        "print(X_train.shape[0] / X.shape[0])"
      ],
      "execution_count": 9,
      "outputs": [
        {
          "output_type": "stream",
          "text": [
            "40\n",
            "10\n",
            "0.8\n"
          ],
          "name": "stdout"
        }
      ]
    },
    {
      "cell_type": "markdown",
      "metadata": {
        "id": "RDCaK9IKFBqA"
      },
      "source": [
        "## Build and train model"
      ]
    },
    {
      "cell_type": "code",
      "metadata": {
        "colab": {
          "base_uri": "https://localhost:8080/"
        },
        "id": "rFzVwqHoE_0D",
        "outputId": "422c9d48-10e9-436d-8820-fe41f00bc859"
      },
      "source": [
        "# create multiple linear regression model\n",
        "regressor = LinearRegression()\n",
        "regressor.fit(X_train, y_train)"
      ],
      "execution_count": 10,
      "outputs": [
        {
          "output_type": "execute_result",
          "data": {
            "text/plain": [
              "LinearRegression(copy_X=True, fit_intercept=True, n_jobs=None, normalize=False)"
            ]
          },
          "metadata": {},
          "execution_count": 10
        }
      ]
    },
    {
      "cell_type": "markdown",
      "metadata": {
        "id": "wcKsDanfFg61"
      },
      "source": [
        "## Get model parameters and statistics"
      ]
    },
    {
      "cell_type": "code",
      "metadata": {
        "colab": {
          "base_uri": "https://localhost:8080/"
        },
        "id": "gLRHWWzoFFuk",
        "outputId": "9271d1ec-3ec4-4d41-caa8-3865889d1644"
      },
      "source": [
        "# get bias, weights, R-squared, and adjusted R-squared\n",
        "bias = regressor.intercept_\n",
        "print(\"Bias: {:.2f}\".format(bias))\n",
        "\n",
        "weights = regressor.coef_\n",
        "for i in range(len(weights)):\n",
        "  print(\"Weight {}: {:.2f}\".format(i, weights[i]))\n",
        "\n",
        "R2 = regressor.score(X,y)\n",
        "print(\"R2: {:.2f}\".format(R2))\n",
        "\n",
        "adj_R2 = 1- (1-R2) * (X.shape[0] - 1) / (X.shape[0] - X.shape[1] - 1)\n",
        "print(\"Adj-R2: {:.2f}\".format(adj_R2))"
      ],
      "execution_count": 11,
      "outputs": [
        {
          "output_type": "stream",
          "text": [
            "Bias: 111688.86\n",
            "Weight 0: -315.26\n",
            "Weight 1: 623.53\n",
            "Weight 2: -308.27\n",
            "Weight 3: 36608.57\n",
            "Weight 4: -1907.92\n",
            "Weight 5: 3614.34\n",
            "R2: 0.95\n",
            "Adj-R2: 0.94\n"
          ],
          "name": "stdout"
        }
      ]
    },
    {
      "cell_type": "markdown",
      "metadata": {
        "id": "3atbCxQHFth9"
      },
      "source": [
        "## Make predictions and evaluate model"
      ]
    },
    {
      "cell_type": "code",
      "metadata": {
        "colab": {
          "base_uri": "https://localhost:8080/",
          "height": 359
        },
        "id": "PS_LXsaJFmpg",
        "outputId": "96e28834-f1ab-47be-c577-e195f3f1d711"
      },
      "source": [
        "# use model to make prediction from scaled features and compare to actuals\n",
        "yhat = regressor.predict(X_test)\n",
        "eval_df = pd.DataFrame({\"Actuals\": y_test, \"Predictions\": yhat, \"%-Error\": np.abs(((yhat-y_test)/y_test)*100)})\n",
        "eval_df"
      ],
      "execution_count": 12,
      "outputs": [
        {
          "output_type": "execute_result",
          "data": {
            "text/html": [
              "<div>\n",
              "<style scoped>\n",
              "    .dataframe tbody tr th:only-of-type {\n",
              "        vertical-align: middle;\n",
              "    }\n",
              "\n",
              "    .dataframe tbody tr th {\n",
              "        vertical-align: top;\n",
              "    }\n",
              "\n",
              "    .dataframe thead th {\n",
              "        text-align: right;\n",
              "    }\n",
              "</style>\n",
              "<table border=\"1\" class=\"dataframe\">\n",
              "  <thead>\n",
              "    <tr style=\"text-align: right;\">\n",
              "      <th></th>\n",
              "      <th>Actuals</th>\n",
              "      <th>Predictions</th>\n",
              "      <th>%-Error</th>\n",
              "    </tr>\n",
              "  </thead>\n",
              "  <tbody>\n",
              "    <tr>\n",
              "      <th>0</th>\n",
              "      <td>134307.35</td>\n",
              "      <td>126362.879083</td>\n",
              "      <td>5.915142</td>\n",
              "    </tr>\n",
              "    <tr>\n",
              "      <th>1</th>\n",
              "      <td>81005.76</td>\n",
              "      <td>84608.453836</td>\n",
              "      <td>4.447454</td>\n",
              "    </tr>\n",
              "    <tr>\n",
              "      <th>2</th>\n",
              "      <td>99937.59</td>\n",
              "      <td>99677.494252</td>\n",
              "      <td>0.260258</td>\n",
              "    </tr>\n",
              "    <tr>\n",
              "      <th>3</th>\n",
              "      <td>64926.08</td>\n",
              "      <td>46357.460686</td>\n",
              "      <td>28.599631</td>\n",
              "    </tr>\n",
              "    <tr>\n",
              "      <th>4</th>\n",
              "      <td>125370.37</td>\n",
              "      <td>128750.482885</td>\n",
              "      <td>2.696102</td>\n",
              "    </tr>\n",
              "    <tr>\n",
              "      <th>5</th>\n",
              "      <td>35673.41</td>\n",
              "      <td>50912.417419</td>\n",
              "      <td>42.718113</td>\n",
              "    </tr>\n",
              "    <tr>\n",
              "      <th>6</th>\n",
              "      <td>105733.54</td>\n",
              "      <td>109741.350327</td>\n",
              "      <td>3.790482</td>\n",
              "    </tr>\n",
              "    <tr>\n",
              "      <th>7</th>\n",
              "      <td>107404.34</td>\n",
              "      <td>100643.242816</td>\n",
              "      <td>6.294994</td>\n",
              "    </tr>\n",
              "    <tr>\n",
              "      <th>8</th>\n",
              "      <td>97427.84</td>\n",
              "      <td>97599.275746</td>\n",
              "      <td>0.175962</td>\n",
              "    </tr>\n",
              "    <tr>\n",
              "      <th>9</th>\n",
              "      <td>122776.86</td>\n",
              "      <td>113097.425244</td>\n",
              "      <td>7.883761</td>\n",
              "    </tr>\n",
              "  </tbody>\n",
              "</table>\n",
              "</div>"
            ],
            "text/plain": [
              "     Actuals    Predictions    %-Error\n",
              "0  134307.35  126362.879083   5.915142\n",
              "1   81005.76   84608.453836   4.447454\n",
              "2   99937.59   99677.494252   0.260258\n",
              "3   64926.08   46357.460686  28.599631\n",
              "4  125370.37  128750.482885   2.696102\n",
              "5   35673.41   50912.417419  42.718113\n",
              "6  105733.54  109741.350327   3.790482\n",
              "7  107404.34  100643.242816   6.294994\n",
              "8   97427.84   97599.275746   0.175962\n",
              "9  122776.86  113097.425244   7.883761"
            ]
          },
          "metadata": {},
          "execution_count": 12
        }
      ]
    },
    {
      "cell_type": "code",
      "metadata": {
        "colab": {
          "base_uri": "https://localhost:8080/"
        },
        "id": "NAFLKEujF79p",
        "outputId": "3775cf3c-e89b-4740-ad15-90953d65f3e8"
      },
      "source": [
        "# compute mean percentage error\n",
        "eval_df.loc[:, \"%-Error\"].mean()"
      ],
      "execution_count": 13,
      "outputs": [
        {
          "output_type": "execute_result",
          "data": {
            "text/plain": [
              "10.278189896425214"
            ]
          },
          "metadata": {},
          "execution_count": 13
        }
      ]
    },
    {
      "cell_type": "code",
      "metadata": {
        "id": "0mkGRr1jGDmy"
      },
      "source": [
        ""
      ],
      "execution_count": 13,
      "outputs": []
    }
  ]
}
