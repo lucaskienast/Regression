{
  "nbformat": 4,
  "nbformat_minor": 0,
  "metadata": {
    "colab": {
      "name": "8) SimpLinReg PyTorch.ipynb",
      "provenance": [],
      "collapsed_sections": []
    },
    "kernelspec": {
      "name": "python3",
      "display_name": "Python 3"
    },
    "language_info": {
      "name": "python"
    }
  },
  "cells": [
    {
      "cell_type": "markdown",
      "metadata": {
        "id": "RpOL588qCf8r"
      },
      "source": [
        "# Simple Linear Regression: PyTorch\n",
        "\n",
        "Use PyTorch's autodiff library to fit a straight line to data points."
      ]
    },
    {
      "cell_type": "code",
      "metadata": {
        "id": "NJUGmZDdCdWo"
      },
      "source": [
        "import torch\n",
        "import numpy as np\n",
        "import matplotlib.pyplot as plt"
      ],
      "execution_count": 1,
      "outputs": []
    },
    {
      "cell_type": "code",
      "metadata": {
        "colab": {
          "base_uri": "https://localhost:8080/"
        },
        "id": "Sawqv_yfCy_N",
        "outputId": "e5072d78-3ee0-4586-b7a8-f5478e54a95c"
      },
      "source": [
        "x = torch.tensor([0,1,2,3,4,5,6,7.]) # e.g. drug dosage for some disease\n",
        "x"
      ],
      "execution_count": 2,
      "outputs": [
        {
          "output_type": "execute_result",
          "data": {
            "text/plain": [
              "tensor([0., 1., 2., 3., 4., 5., 6., 7.])"
            ]
          },
          "metadata": {},
          "execution_count": 2
        }
      ]
    },
    {
      "cell_type": "code",
      "metadata": {
        "colab": {
          "base_uri": "https://localhost:8080/"
        },
        "id": "9sFpHPxCC21V",
        "outputId": "c6ab020c-1b44-45c4-e2b2-5b8c0a97dc0c"
      },
      "source": [
        "x.shape"
      ],
      "execution_count": 3,
      "outputs": [
        {
          "output_type": "execute_result",
          "data": {
            "text/plain": [
              "torch.Size([8])"
            ]
          },
          "metadata": {},
          "execution_count": 3
        }
      ]
    },
    {
      "cell_type": "markdown",
      "metadata": {
        "id": "_Gd06fppDBJj"
      },
      "source": [
        "Create some y values via linear equation ($y=mx+b$) with known model parameters ($m=-0.5$ and $b=2$) to check whether model learned these. Also add some random normally-distributed noise to simulate sampling error."
      ]
    },
    {
      "cell_type": "code",
      "metadata": {
        "colab": {
          "base_uri": "https://localhost:8080/"
        },
        "id": "TwbKKUr3C42C",
        "outputId": "e602d2ab-d233-49d1-c393-ffb495309a47"
      },
      "source": [
        "y = -0.5*x + 2 + torch.normal(mean=torch.zeros(8), std=0.2)\n",
        "y # outcome we are measuring is the patients symptome intensity"
      ],
      "execution_count": 4,
      "outputs": [
        {
          "output_type": "execute_result",
          "data": {
            "text/plain": [
              "tensor([ 2.0898,  1.7985,  0.7421,  0.3936, -0.2569, -0.8502, -0.7389, -1.6360])"
            ]
          },
          "metadata": {},
          "execution_count": 4
        }
      ]
    },
    {
      "cell_type": "code",
      "metadata": {
        "colab": {
          "base_uri": "https://localhost:8080/"
        },
        "id": "hMUO_oECFVL6",
        "outputId": "6777a792-d048-4a65-855b-9b67cd795a86"
      },
      "source": [
        "torch.zeros(8) # create array of 8 zeros for the 8 x values to have errors around zero"
      ],
      "execution_count": 5,
      "outputs": [
        {
          "output_type": "execute_result",
          "data": {
            "text/plain": [
              "tensor([0., 0., 0., 0., 0., 0., 0., 0.])"
            ]
          },
          "metadata": {},
          "execution_count": 5
        }
      ]
    },
    {
      "cell_type": "code",
      "metadata": {
        "colab": {
          "base_uri": "https://localhost:8080/"
        },
        "id": "N107z7EZFZRS",
        "outputId": "8442ef11-5f1e-477c-f625-2afc7f47652d"
      },
      "source": [
        "torch.normal(mean=torch.zeros(8), std=0.2) # std defines the amount of noise"
      ],
      "execution_count": 6,
      "outputs": [
        {
          "output_type": "execute_result",
          "data": {
            "text/plain": [
              "tensor([-0.1829, -0.1341, -0.1607,  0.0029, -0.1861, -0.2344, -0.1856, -0.0242])"
            ]
          },
          "metadata": {},
          "execution_count": 6
        }
      ]
    },
    {
      "cell_type": "code",
      "metadata": {
        "colab": {
          "base_uri": "https://localhost:8080/",
          "height": 295
        },
        "id": "4vJL7m2aFbpx",
        "outputId": "9647e831-756c-44c8-ed2e-a37e68f3c87e"
      },
      "source": [
        "fig, ax = plt.subplots()\n",
        "plt.title(\"Clinical Trial\")\n",
        "plt.xlabel(\"Drug dosage (mL)\")\n",
        "plt.ylabel(\"Symptom intensity\")\n",
        "ax.scatter(x, y)\n",
        "plt.show()"
      ],
      "execution_count": 7,
      "outputs": [
        {
          "output_type": "display_data",
          "data": {
            "image/png": "[encoded data removed]",
            "text/plain": [
              "<Figure size 432x288 with 1 Axes>"
            ]
          },
          "metadata": {
            "needs_background": "light"
          }
        }
      ]
    },
    {
      "cell_type": "markdown",
      "metadata": {
        "id": "lFBhC7RLG6yp"
      },
      "source": [
        "This could be solved using linear algebra via the Moore-Penrose Pseudoinverse, but we will use a ML approach here using calculus, which allows us to differentiate and figure out how to fit a line through the data points.\n",
        "\n",
        "We need to initialise our variables (i.e. parameters for the line) with some random near-zero values. Take $m=0.9$ and $b=0.4$ here."
      ]
    },
    {
      "cell_type": "markdown",
      "metadata": {
        "id": "Z086j80aT3Xz"
      },
      "source": [
        "\n",
        "(Note: In this simple demo, we could guess approximately-correct parameter values to start with. Or, we could use an algebraic (e.g., Moore-Penrose pseudoinverse) or statistical (e.g., ordinary-least-squares regression) to solve for the parameters quickly. This tiny machine learning demo with two parameters and eight data points scales, however, to millions of parameters and millions of data points. The other approaches -- guessing, algebra, statistics -- do not come close to scaling in this way.)"
      ]
    },
    {
      "cell_type": "code",
      "metadata": {
        "colab": {
          "base_uri": "https://localhost:8080/"
        },
        "id": "R5__bHdkGgGx",
        "outputId": "b0e15a33-4627-4bfb-c6d1-8043f712a65f"
      },
      "source": [
        "# set requires_grad to True\n",
        "# so when we use our x values and flow them through a function\n",
        "# any of the other tensors, that this \"m\" tensor comes in contact with will also track gradients\n",
        "# allows for differentiation back from our outcome y\n",
        "# enables to find the slope of y with respect to m and b\n",
        "m = torch.tensor([0.9]).requires_grad_()\n",
        "m"
      ],
      "execution_count": 8,
      "outputs": [
        {
          "output_type": "execute_result",
          "data": {
            "text/plain": [
              "tensor([0.9000], requires_grad=True)"
            ]
          },
          "metadata": {},
          "execution_count": 8
        }
      ]
    },
    {
      "cell_type": "code",
      "metadata": {
        "colab": {
          "base_uri": "https://localhost:8080/"
        },
        "id": "0TP-ptlUUCmw",
        "outputId": "24d7008a-28e8-491c-9fea-1989c034b932"
      },
      "source": [
        "b = torch.tensor([0.4]).requires_grad_()\n",
        "b"
      ],
      "execution_count": 9,
      "outputs": [
        {
          "output_type": "execute_result",
          "data": {
            "text/plain": [
              "tensor([0.4000], requires_grad=True)"
            ]
          },
          "metadata": {},
          "execution_count": 9
        }
      ]
    },
    {
      "cell_type": "code",
      "metadata": {
        "id": "Q_IjllQdUa6q"
      },
      "source": [
        "def regression(my_x, my_m, my_b):\n",
        "  return my_m * my_x + my_b"
      ],
      "execution_count": 10,
      "outputs": []
    },
    {
      "cell_type": "code",
      "metadata": {
        "id": "i9qrlhSDVnRv"
      },
      "source": [
        "def regression_plot(my_x, my_y, my_m, my_b):\n",
        "    \n",
        "    fig, ax = plt.subplots()\n",
        "\n",
        "    ax.scatter(my_x, my_y)\n",
        "    \n",
        "    x_min, x_max = ax.get_xlim()\n",
        "    y_min = regression(x_min, my_m, my_b)\n",
        "    y_max = regression(x_max, my_m, my_b)\n",
        "    \n",
        "    ax.set_xlim([x_min, x_max])\n",
        "    _ = ax.plot([x_min, x_max], [y_min, y_max])"
      ],
      "execution_count": 11,
      "outputs": []
    },
    {
      "cell_type": "code",
      "metadata": {
        "colab": {
          "base_uri": "https://localhost:8080/",
          "height": 265
        },
        "id": "wvr3e6y4V1Sp",
        "outputId": "c0a1e8c0-29f3-4810-ab00-0dde902e539d"
      },
      "source": [
        "regression_plot(x, y, m, b)"
      ],
      "execution_count": 12,
      "outputs": [
        {
          "output_type": "display_data",
          "data": {
            "image/png": "[encoded data removed]",
            "text/plain": [
              "<Figure size 432x288 with 1 Axes>"
            ]
          },
          "metadata": {
            "needs_background": "light"
          }
        }
      ]
    },
    {
      "cell_type": "markdown",
      "metadata": {
        "id": "rEZl4gKFWT4l"
      },
      "source": [
        "## Machine Learning"
      ]
    },
    {
      "cell_type": "markdown",
      "metadata": {
        "id": "M2tBg3KAQOcC"
      },
      "source": [
        "### Step 1: Forward pass\n",
        "\n",
        "- take input variables (here just one $x$)\n",
        "- flow $x$ into regression model $y=mx+b$"
      ]
    },
    {
      "cell_type": "code",
      "metadata": {
        "colab": {
          "base_uri": "https://localhost:8080/"
        },
        "id": "vsuQ84rVWBvZ",
        "outputId": "87b594ec-585a-4376-a00f-e68359eb5506"
      },
      "source": [
        "y_hat = regression(x, m, b)\n",
        "y_hat"
      ],
      "execution_count": 13,
      "outputs": [
        {
          "output_type": "execute_result",
          "data": {
            "text/plain": [
              "tensor([0.4000, 1.3000, 2.2000, 3.1000, 4.0000, 4.9000, 5.8000, 6.7000],\n",
              "       grad_fn=<AddBackward0>)"
            ]
          },
          "metadata": {},
          "execution_count": 13
        }
      ]
    },
    {
      "cell_type": "markdown",
      "metadata": {
        "id": "vo47DAA3Qcmd"
      },
      "source": [
        "### Step 2: Calculate cost $C$ by comparison of $\\hat{y}$ with true $y$\n",
        "\n",
        "Mean Squared Error (MSE): $C(MSE) = \\frac{1}{n} \\sum_{i=1}^n (\\hat{y_i}-y_i)^2 $"
      ]
    },
    {
      "cell_type": "code",
      "metadata": {
        "id": "D0D7ysjNQXPv"
      },
      "source": [
        "def mse(my_y_hat, my_y):\n",
        "  mse_cost = (1/(len(my_y))) * torch.sum((my_y_hat - my_y)**2)\n",
        "  return mse_cost"
      ],
      "execution_count": 14,
      "outputs": []
    },
    {
      "cell_type": "code",
      "metadata": {
        "colab": {
          "base_uri": "https://localhost:8080/"
        },
        "id": "CA9R_RSXRslV",
        "outputId": "8762e023-2228-40bc-f1c5-52e15e188cce"
      },
      "source": [
        "C = mse(y_hat, y)\n",
        "C"
      ],
      "execution_count": 15,
      "outputs": [
        {
          "output_type": "execute_result",
          "data": {
            "text/plain": [
              "tensor(21.9984, grad_fn=<MulBackward0>)"
            ]
          },
          "metadata": {},
          "execution_count": 15
        }
      ]
    },
    {
      "cell_type": "markdown",
      "metadata": {
        "id": "2zAZEv2pR8PA"
      },
      "source": [
        "### Step 3: Use autodiff to calculate gradient of $C$ with respect to parameters $m$ and $b$\n",
        "\n",
        "- $\\frac{dC}{dm}>0$ means reducing m will reduce C, and vice versa\n",
        "- $\\frac{dC}{db}<0$ means increasing b will reduce C"
      ]
    },
    {
      "cell_type": "code",
      "metadata": {
        "id": "i23w75znRyt7"
      },
      "source": [
        "# differentiate backwards from outermost tensor (cost)\n",
        "# over y_hat, further backwards through regression function\n",
        "# use chain rule & autodiff to calculate the slope of cost (C) with respect to weights (m) and intercept (b)\n",
        "C.backward() "
      ],
      "execution_count": 16,
      "outputs": []
    },
    {
      "cell_type": "code",
      "metadata": {
        "colab": {
          "base_uri": "https://localhost:8080/"
        },
        "id": "TFGv-JIoSMHs",
        "outputId": "05488405-9165-49ea-81f6-82859fdb75a7"
      },
      "source": [
        "m.grad # positive slope i.e. reduce m to reduce C"
      ],
      "execution_count": 17,
      "outputs": [
        {
          "output_type": "execute_result",
          "data": {
            "text/plain": [
              "tensor([38.4752])"
            ]
          },
          "metadata": {},
          "execution_count": 17
        }
      ]
    },
    {
      "cell_type": "code",
      "metadata": {
        "colab": {
          "base_uri": "https://localhost:8080/"
        },
        "id": "LjjH108hScCT",
        "outputId": "91e729bf-8b2c-4d55-e7b8-6430f2341f66"
      },
      "source": [
        "b.grad # positive slope i.e. reduce b to reduce C"
      ],
      "execution_count": 18,
      "outputs": [
        {
          "output_type": "execute_result",
          "data": {
            "text/plain": [
              "tensor([6.7145])"
            ]
          },
          "metadata": {},
          "execution_count": 18
        }
      ]
    },
    {
      "cell_type": "markdown",
      "metadata": {
        "id": "NKopswu5SeT0"
      },
      "source": [
        "### Step 4: Gradient descent"
      ]
    },
    {
      "cell_type": "code",
      "metadata": {
        "id": "GV6c2YvhScwK"
      },
      "source": [
        "optimizer = torch.optim.SGD([m, b], lr=0.01)"
      ],
      "execution_count": 19,
      "outputs": []
    },
    {
      "cell_type": "code",
      "metadata": {
        "id": "IzxgtZ39Sqpw"
      },
      "source": [
        "optimizer.step() # this adjusts m and b i.e. changes them to reduce C"
      ],
      "execution_count": 20,
      "outputs": []
    },
    {
      "cell_type": "markdown",
      "metadata": {
        "id": "FZQ8gQBOSxRi"
      },
      "source": [
        "Confirm parameters have been adjusted sensibly"
      ]
    },
    {
      "cell_type": "code",
      "metadata": {
        "colab": {
          "base_uri": "https://localhost:8080/"
        },
        "id": "YsfeWx5QSs_4",
        "outputId": "1275d46e-d93b-46e9-c8fb-6d8c3e5fd72d"
      },
      "source": [
        "m"
      ],
      "execution_count": 21,
      "outputs": [
        {
          "output_type": "execute_result",
          "data": {
            "text/plain": [
              "tensor([0.5152], requires_grad=True)"
            ]
          },
          "metadata": {},
          "execution_count": 21
        }
      ]
    },
    {
      "cell_type": "code",
      "metadata": {
        "colab": {
          "base_uri": "https://localhost:8080/"
        },
        "id": "sVX_DYHVS2_b",
        "outputId": "b654fec1-53f2-4252-cd9b-158a487fa3bf"
      },
      "source": [
        "b"
      ],
      "execution_count": 22,
      "outputs": [
        {
          "output_type": "execute_result",
          "data": {
            "text/plain": [
              "tensor([0.3329], requires_grad=True)"
            ]
          },
          "metadata": {},
          "execution_count": 22
        }
      ]
    },
    {
      "cell_type": "code",
      "metadata": {
        "colab": {
          "base_uri": "https://localhost:8080/",
          "height": 265
        },
        "id": "YeF5C8lUS7bK",
        "outputId": "403e577a-50c4-4e3d-f341-d942e0f722fc"
      },
      "source": [
        "regression_plot(x, y, m, b)"
      ],
      "execution_count": 23,
      "outputs": [
        {
          "output_type": "display_data",
          "data": {
            "image/png": "[encoded data removed]",
            "text/plain": [
              "<Figure size 432x288 with 1 Axes>"
            ]
          },
          "metadata": {
            "needs_background": "light"
          }
        }
      ]
    },
    {
      "cell_type": "markdown",
      "metadata": {
        "id": "RlPyhYKiTL7e"
      },
      "source": [
        "Repeat steps 1 & 2 to confirm cost has decreased"
      ]
    },
    {
      "cell_type": "code",
      "metadata": {
        "colab": {
          "base_uri": "https://localhost:8080/"
        },
        "id": "fIm-xfNgTC96",
        "outputId": "d4af228f-7791-4012-e388-af56cd20a2cf"
      },
      "source": [
        "C = mse(regression(x, m, b), y)\n",
        "C"
      ],
      "execution_count": 24,
      "outputs": [
        {
          "output_type": "execute_result",
          "data": {
            "text/plain": [
              "tensor(9.5200, grad_fn=<MulBackward0>)"
            ]
          },
          "metadata": {},
          "execution_count": 24
        }
      ]
    },
    {
      "cell_type": "markdown",
      "metadata": {
        "id": "wEg3hYv3TbiI"
      },
      "source": [
        "### Iteratively minimise cost (MSE) toward zero"
      ]
    },
    {
      "cell_type": "code",
      "metadata": {
        "colab": {
          "base_uri": "https://localhost:8080/"
        },
        "id": "Ap_vRlmJTYhq",
        "outputId": "34f69f94-a794-47ec-eede-85a76d831cb2"
      },
      "source": [
        "epochs = 1000 # train over entire dataset 1000 times\n",
        "\n",
        "for epoch in range(epochs):\n",
        "  optimizer.zero_grad() # reset gradients to zero, else they accumulate\n",
        "  # Step 1: calculate y_hat using our regression model\n",
        "  y_hat = regression(x, m, b)\n",
        "  # Step 2: calculate cost using y_hat and y\n",
        "  C = mse(y_hat, y) \n",
        "  # Step 3: use autodiff to calculate slope of cost w.r.t. parameters m & b\n",
        "  C.backward() \n",
        "  # Step 4: adjust model parameters m & b by small step (lr=0.01) in direction told by slopes from step 3\n",
        "  optimizer.step() \n",
        "  print(\"Epoch {}, Cost {}, m grad {}, b grad {}\".format(\n",
        "      epoch,\n",
        "      \"%.3g\" % C.item(),\n",
        "      \"%.3g\" % m.grad.item(),\n",
        "      \"%.3g\" % b.grad.item()\n",
        "  ))"
      ],
      "execution_count": 25,
      "outputs": [
        {
          "output_type": "stream",
          "text": [
            "Epoch 0, Cost 9.52, m grad 24.5, b grad 3.89\n",
            "Epoch 1, Cost 4.47, m grad 15.7, b grad 2.09\n",
            "Epoch 2, Cost 2.42, m grad 10, b grad 0.952\n",
            "Epoch 3, Cost 1.59, m grad 6.46, b grad 0.23\n",
            "Epoch 4, Cost 1.24, m grad 4.18, b grad -0.227\n",
            "Epoch 5, Cost 1.1, m grad 2.74, b grad -0.515\n",
            "Epoch 6, Cost 1.03, m grad 1.81, b grad -0.696\n",
            "Epoch 7, Cost 0.999, m grad 1.23, b grad -0.81\n",
            "Epoch 8, Cost 0.979, m grad 0.855, b grad -0.879\n",
            "Epoch 9, Cost 0.965, m grad 0.617, b grad -0.922\n",
            "Epoch 10, Cost 0.953, m grad 0.466, b grad -0.946\n",
            "Epoch 11, Cost 0.942, m grad 0.369, b grad -0.96\n",
            "Epoch 12, Cost 0.932, m grad 0.307, b grad -0.967\n",
            "Epoch 13, Cost 0.921, m grad 0.267, b grad -0.969\n",
            "Epoch 14, Cost 0.911, m grad 0.242, b grad -0.968\n",
            "Epoch 15, Cost 0.901, m grad 0.225, b grad -0.966\n",
            "Epoch 16, Cost 0.891, m grad 0.214, b grad -0.962\n",
            "Epoch 17, Cost 0.882, m grad 0.206, b grad -0.958\n",
            "Epoch 18, Cost 0.872, m grad 0.201, b grad -0.953\n",
            "Epoch 19, Cost 0.863, m grad 0.197, b grad -0.948\n",
            "Epoch 20, Cost 0.853, m grad 0.195, b grad -0.943\n",
            "Epoch 21, Cost 0.844, m grad 0.193, b grad -0.938\n",
            "Epoch 22, Cost 0.835, m grad 0.191, b grad -0.932\n",
            "Epoch 23, Cost 0.826, m grad 0.189, b grad -0.927\n",
            "Epoch 24, Cost 0.817, m grad 0.188, b grad -0.922\n",
            "Epoch 25, Cost 0.808, m grad 0.187, b grad -0.917\n",
            "Epoch 26, Cost 0.8, m grad 0.186, b grad -0.911\n",
            "Epoch 27, Cost 0.791, m grad 0.184, b grad -0.906\n",
            "Epoch 28, Cost 0.782, m grad 0.183, b grad -0.901\n",
            "Epoch 29, Cost 0.774, m grad 0.182, b grad -0.896\n",
            "Epoch 30, Cost 0.766, m grad 0.181, b grad -0.891\n",
            "Epoch 31, Cost 0.757, m grad 0.18, b grad -0.885\n",
            "Epoch 32, Cost 0.749, m grad 0.179, b grad -0.88\n",
            "Epoch 33, Cost 0.741, m grad 0.178, b grad -0.875\n",
            "Epoch 34, Cost 0.733, m grad 0.177, b grad -0.87\n",
            "Epoch 35, Cost 0.725, m grad 0.176, b grad -0.865\n",
            "Epoch 36, Cost 0.718, m grad 0.175, b grad -0.86\n",
            "Epoch 37, Cost 0.71, m grad 0.174, b grad -0.855\n",
            "Epoch 38, Cost 0.702, m grad 0.173, b grad -0.85\n",
            "Epoch 39, Cost 0.695, m grad 0.172, b grad -0.845\n",
            "Epoch 40, Cost 0.687, m grad 0.171, b grad -0.84\n",
            "Epoch 41, Cost 0.68, m grad 0.17, b grad -0.836\n",
            "Epoch 42, Cost 0.673, m grad 0.169, b grad -0.831\n",
            "Epoch 43, Cost 0.666, m grad 0.168, b grad -0.826\n",
            "Epoch 44, Cost 0.659, m grad 0.167, b grad -0.821\n",
            "Epoch 45, Cost 0.652, m grad 0.166, b grad -0.817\n",
            "Epoch 46, Cost 0.645, m grad 0.165, b grad -0.812\n",
            "Epoch 47, Cost 0.638, m grad 0.164, b grad -0.807\n",
            "Epoch 48, Cost 0.631, m grad 0.163, b grad -0.803\n",
            "Epoch 49, Cost 0.624, m grad 0.162, b grad -0.798\n",
            "Epoch 50, Cost 0.618, m grad 0.161, b grad -0.793\n",
            "Epoch 51, Cost 0.611, m grad 0.16, b grad -0.789\n",
            "Epoch 52, Cost 0.605, m grad 0.159, b grad -0.784\n",
            "Epoch 53, Cost 0.598, m grad 0.159, b grad -0.78\n",
            "Epoch 54, Cost 0.592, m grad 0.158, b grad -0.775\n",
            "Epoch 55, Cost 0.586, m grad 0.157, b grad -0.771\n",
            "Epoch 56, Cost 0.58, m grad 0.156, b grad -0.766\n",
            "Epoch 57, Cost 0.574, m grad 0.155, b grad -0.762\n",
            "Epoch 58, Cost 0.568, m grad 0.154, b grad -0.757\n",
            "Epoch 59, Cost 0.562, m grad 0.153, b grad -0.753\n",
            "Epoch 60, Cost 0.556, m grad 0.152, b grad -0.749\n",
            "Epoch 61, Cost 0.55, m grad 0.151, b grad -0.744\n",
            "Epoch 62, Cost 0.544, m grad 0.15, b grad -0.74\n",
            "Epoch 63, Cost 0.538, m grad 0.15, b grad -0.736\n",
            "Epoch 64, Cost 0.533, m grad 0.149, b grad -0.732\n",
            "Epoch 65, Cost 0.527, m grad 0.148, b grad -0.727\n",
            "Epoch 66, Cost 0.522, m grad 0.147, b grad -0.723\n",
            "Epoch 67, Cost 0.516, m grad 0.146, b grad -0.719\n",
            "Epoch 68, Cost 0.511, m grad 0.145, b grad -0.715\n",
            "Epoch 69, Cost 0.506, m grad 0.145, b grad -0.711\n",
            "Epoch 70, Cost 0.5, m grad 0.144, b grad -0.707\n",
            "Epoch 71, Cost 0.495, m grad 0.143, b grad -0.703\n",
            "Epoch 72, Cost 0.49, m grad 0.142, b grad -0.699\n",
            "Epoch 73, Cost 0.485, m grad 0.141, b grad -0.694\n",
            "Epoch 74, Cost 0.48, m grad 0.14, b grad -0.69\n",
            "Epoch 75, Cost 0.475, m grad 0.14, b grad -0.687\n",
            "Epoch 76, Cost 0.47, m grad 0.139, b grad -0.683\n",
            "Epoch 77, Cost 0.465, m grad 0.138, b grad -0.679\n",
            "Epoch 78, Cost 0.461, m grad 0.137, b grad -0.675\n",
            "Epoch 79, Cost 0.456, m grad 0.136, b grad -0.671\n",
            "Epoch 80, Cost 0.451, m grad 0.136, b grad -0.667\n",
            "Epoch 81, Cost 0.447, m grad 0.135, b grad -0.663\n",
            "Epoch 82, Cost 0.442, m grad 0.134, b grad -0.659\n",
            "Epoch 83, Cost 0.437, m grad 0.133, b grad -0.655\n",
            "Epoch 84, Cost 0.433, m grad 0.133, b grad -0.652\n",
            "Epoch 85, Cost 0.429, m grad 0.132, b grad -0.648\n",
            "Epoch 86, Cost 0.424, m grad 0.131, b grad -0.644\n",
            "Epoch 87, Cost 0.42, m grad 0.13, b grad -0.64\n",
            "Epoch 88, Cost 0.416, m grad 0.129, b grad -0.637\n",
            "Epoch 89, Cost 0.411, m grad 0.129, b grad -0.633\n",
            "Epoch 90, Cost 0.407, m grad 0.128, b grad -0.629\n",
            "Epoch 91, Cost 0.403, m grad 0.127, b grad -0.626\n",
            "Epoch 92, Cost 0.399, m grad 0.127, b grad -0.622\n",
            "Epoch 93, Cost 0.395, m grad 0.126, b grad -0.619\n",
            "Epoch 94, Cost 0.391, m grad 0.125, b grad -0.615\n",
            "Epoch 95, Cost 0.387, m grad 0.124, b grad -0.612\n",
            "Epoch 96, Cost 0.383, m grad 0.124, b grad -0.608\n",
            "Epoch 97, Cost 0.379, m grad 0.123, b grad -0.605\n",
            "Epoch 98, Cost 0.376, m grad 0.122, b grad -0.601\n",
            "Epoch 99, Cost 0.372, m grad 0.122, b grad -0.598\n",
            "Epoch 100, Cost 0.368, m grad 0.121, b grad -0.594\n",
            "Epoch 101, Cost 0.365, m grad 0.12, b grad -0.591\n",
            "Epoch 102, Cost 0.361, m grad 0.119, b grad -0.587\n",
            "Epoch 103, Cost 0.357, m grad 0.119, b grad -0.584\n",
            "Epoch 104, Cost 0.354, m grad 0.118, b grad -0.581\n",
            "Epoch 105, Cost 0.35, m grad 0.117, b grad -0.577\n",
            "Epoch 106, Cost 0.347, m grad 0.117, b grad -0.574\n",
            "Epoch 107, Cost 0.343, m grad 0.116, b grad -0.571\n",
            "Epoch 108, Cost 0.34, m grad 0.115, b grad -0.567\n",
            "Epoch 109, Cost 0.337, m grad 0.115, b grad -0.564\n",
            "Epoch 110, Cost 0.333, m grad 0.114, b grad -0.561\n",
            "Epoch 111, Cost 0.33, m grad 0.113, b grad -0.557\n",
            "Epoch 112, Cost 0.327, m grad 0.113, b grad -0.554\n",
            "Epoch 113, Cost 0.324, m grad 0.112, b grad -0.551\n",
            "Epoch 114, Cost 0.321, m grad 0.111, b grad -0.548\n",
            "Epoch 115, Cost 0.317, m grad 0.111, b grad -0.545\n",
            "Epoch 116, Cost 0.314, m grad 0.11, b grad -0.542\n",
            "Epoch 117, Cost 0.311, m grad 0.11, b grad -0.538\n",
            "Epoch 118, Cost 0.308, m grad 0.109, b grad -0.535\n",
            "Epoch 119, Cost 0.305, m grad 0.108, b grad -0.532\n",
            "Epoch 120, Cost 0.302, m grad 0.108, b grad -0.529\n",
            "Epoch 121, Cost 0.299, m grad 0.107, b grad -0.526\n",
            "Epoch 122, Cost 0.297, m grad 0.106, b grad -0.523\n",
            "Epoch 123, Cost 0.294, m grad 0.106, b grad -0.52\n",
            "Epoch 124, Cost 0.291, m grad 0.105, b grad -0.517\n",
            "Epoch 125, Cost 0.288, m grad 0.105, b grad -0.514\n",
            "Epoch 126, Cost 0.285, m grad 0.104, b grad -0.511\n",
            "Epoch 127, Cost 0.283, m grad 0.103, b grad -0.508\n",
            "Epoch 128, Cost 0.28, m grad 0.103, b grad -0.505\n",
            "Epoch 129, Cost 0.277, m grad 0.102, b grad -0.502\n",
            "Epoch 130, Cost 0.275, m grad 0.102, b grad -0.499\n",
            "Epoch 131, Cost 0.272, m grad 0.101, b grad -0.497\n",
            "Epoch 132, Cost 0.27, m grad 0.1, b grad -0.494\n",
            "Epoch 133, Cost 0.267, m grad 0.0998, b grad -0.491\n",
            "Epoch 134, Cost 0.265, m grad 0.0992, b grad -0.488\n",
            "Epoch 135, Cost 0.262, m grad 0.0987, b grad -0.485\n",
            "Epoch 136, Cost 0.26, m grad 0.0981, b grad -0.482\n",
            "Epoch 137, Cost 0.257, m grad 0.0975, b grad -0.48\n",
            "Epoch 138, Cost 0.255, m grad 0.097, b grad -0.477\n",
            "Epoch 139, Cost 0.252, m grad 0.0964, b grad -0.474\n",
            "Epoch 140, Cost 0.25, m grad 0.0959, b grad -0.471\n",
            "Epoch 141, Cost 0.248, m grad 0.0953, b grad -0.469\n",
            "Epoch 142, Cost 0.246, m grad 0.0948, b grad -0.466\n",
            "Epoch 143, Cost 0.243, m grad 0.0942, b grad -0.463\n",
            "Epoch 144, Cost 0.241, m grad 0.0937, b grad -0.461\n",
            "Epoch 145, Cost 0.239, m grad 0.0931, b grad -0.458\n",
            "Epoch 146, Cost 0.237, m grad 0.0926, b grad -0.455\n",
            "Epoch 147, Cost 0.235, m grad 0.0921, b grad -0.453\n",
            "Epoch 148, Cost 0.232, m grad 0.0915, b grad -0.45\n",
            "Epoch 149, Cost 0.23, m grad 0.091, b grad -0.448\n",
            "Epoch 150, Cost 0.228, m grad 0.0905, b grad -0.445\n",
            "Epoch 151, Cost 0.226, m grad 0.09, b grad -0.442\n",
            "Epoch 152, Cost 0.224, m grad 0.0894, b grad -0.44\n",
            "Epoch 153, Cost 0.222, m grad 0.0889, b grad -0.437\n",
            "Epoch 154, Cost 0.22, m grad 0.0884, b grad -0.435\n",
            "Epoch 155, Cost 0.218, m grad 0.0879, b grad -0.432\n",
            "Epoch 156, Cost 0.216, m grad 0.0874, b grad -0.43\n",
            "Epoch 157, Cost 0.214, m grad 0.0869, b grad -0.427\n",
            "Epoch 158, Cost 0.212, m grad 0.0864, b grad -0.425\n",
            "Epoch 159, Cost 0.211, m grad 0.0859, b grad -0.422\n",
            "Epoch 160, Cost 0.209, m grad 0.0854, b grad -0.42\n",
            "Epoch 161, Cost 0.207, m grad 0.0849, b grad -0.418\n",
            "Epoch 162, Cost 0.205, m grad 0.0844, b grad -0.415\n",
            "Epoch 163, Cost 0.203, m grad 0.0839, b grad -0.413\n",
            "Epoch 164, Cost 0.201, m grad 0.0834, b grad -0.41\n",
            "Epoch 165, Cost 0.2, m grad 0.083, b grad -0.408\n",
            "Epoch 166, Cost 0.198, m grad 0.0825, b grad -0.406\n",
            "Epoch 167, Cost 0.196, m grad 0.082, b grad -0.403\n",
            "Epoch 168, Cost 0.195, m grad 0.0815, b grad -0.401\n",
            "Epoch 169, Cost 0.193, m grad 0.0811, b grad -0.399\n",
            "Epoch 170, Cost 0.191, m grad 0.0806, b grad -0.396\n",
            "Epoch 171, Cost 0.19, m grad 0.0801, b grad -0.394\n",
            "Epoch 172, Cost 0.188, m grad 0.0797, b grad -0.392\n",
            "Epoch 173, Cost 0.186, m grad 0.0792, b grad -0.39\n",
            "Epoch 174, Cost 0.185, m grad 0.0788, b grad -0.387\n",
            "Epoch 175, Cost 0.183, m grad 0.0783, b grad -0.385\n",
            "Epoch 176, Cost 0.182, m grad 0.0779, b grad -0.383\n",
            "Epoch 177, Cost 0.18, m grad 0.0774, b grad -0.381\n",
            "Epoch 178, Cost 0.179, m grad 0.077, b grad -0.378\n",
            "Epoch 179, Cost 0.177, m grad 0.0765, b grad -0.376\n",
            "Epoch 180, Cost 0.176, m grad 0.0761, b grad -0.374\n",
            "Epoch 181, Cost 0.174, m grad 0.0756, b grad -0.372\n",
            "Epoch 182, Cost 0.173, m grad 0.0752, b grad -0.37\n",
            "Epoch 183, Cost 0.171, m grad 0.0748, b grad -0.368\n",
            "Epoch 184, Cost 0.17, m grad 0.0743, b grad -0.366\n",
            "Epoch 185, Cost 0.169, m grad 0.0739, b grad -0.363\n",
            "Epoch 186, Cost 0.167, m grad 0.0735, b grad -0.361\n",
            "Epoch 187, Cost 0.166, m grad 0.0731, b grad -0.359\n",
            "Epoch 188, Cost 0.165, m grad 0.0726, b grad -0.357\n",
            "Epoch 189, Cost 0.163, m grad 0.0722, b grad -0.355\n",
            "Epoch 190, Cost 0.162, m grad 0.0718, b grad -0.353\n",
            "Epoch 191, Cost 0.161, m grad 0.0714, b grad -0.351\n",
            "Epoch 192, Cost 0.159, m grad 0.071, b grad -0.349\n",
            "Epoch 193, Cost 0.158, m grad 0.0706, b grad -0.347\n",
            "Epoch 194, Cost 0.157, m grad 0.0702, b grad -0.345\n",
            "Epoch 195, Cost 0.156, m grad 0.0698, b grad -0.343\n",
            "Epoch 196, Cost 0.154, m grad 0.0693, b grad -0.341\n",
            "Epoch 197, Cost 0.153, m grad 0.0689, b grad -0.339\n",
            "Epoch 198, Cost 0.152, m grad 0.0686, b grad -0.337\n",
            "Epoch 199, Cost 0.151, m grad 0.0682, b grad -0.335\n",
            "Epoch 200, Cost 0.15, m grad 0.0678, b grad -0.333\n",
            "Epoch 201, Cost 0.149, m grad 0.0674, b grad -0.331\n",
            "Epoch 202, Cost 0.147, m grad 0.067, b grad -0.329\n",
            "Epoch 203, Cost 0.146, m grad 0.0666, b grad -0.328\n",
            "Epoch 204, Cost 0.145, m grad 0.0662, b grad -0.326\n",
            "Epoch 205, Cost 0.144, m grad 0.0658, b grad -0.324\n",
            "Epoch 206, Cost 0.143, m grad 0.0655, b grad -0.322\n",
            "Epoch 207, Cost 0.142, m grad 0.0651, b grad -0.32\n",
            "Epoch 208, Cost 0.141, m grad 0.0647, b grad -0.318\n",
            "Epoch 209, Cost 0.14, m grad 0.0643, b grad -0.316\n",
            "Epoch 210, Cost 0.139, m grad 0.064, b grad -0.315\n",
            "Epoch 211, Cost 0.138, m grad 0.0636, b grad -0.313\n",
            "Epoch 212, Cost 0.137, m grad 0.0632, b grad -0.311\n",
            "Epoch 213, Cost 0.136, m grad 0.0629, b grad -0.309\n",
            "Epoch 214, Cost 0.135, m grad 0.0625, b grad -0.307\n",
            "Epoch 215, Cost 0.134, m grad 0.0621, b grad -0.306\n",
            "Epoch 216, Cost 0.133, m grad 0.0618, b grad -0.304\n",
            "Epoch 217, Cost 0.132, m grad 0.0614, b grad -0.302\n",
            "Epoch 218, Cost 0.131, m grad 0.0611, b grad -0.3\n",
            "Epoch 219, Cost 0.13, m grad 0.0607, b grad -0.299\n",
            "Epoch 220, Cost 0.129, m grad 0.0604, b grad -0.297\n",
            "Epoch 221, Cost 0.128, m grad 0.06, b grad -0.295\n",
            "Epoch 222, Cost 0.127, m grad 0.0597, b grad -0.293\n",
            "Epoch 223, Cost 0.126, m grad 0.0593, b grad -0.292\n",
            "Epoch 224, Cost 0.125, m grad 0.059, b grad -0.29\n",
            "Epoch 225, Cost 0.125, m grad 0.0586, b grad -0.288\n",
            "Epoch 226, Cost 0.124, m grad 0.0583, b grad -0.287\n",
            "Epoch 227, Cost 0.123, m grad 0.058, b grad -0.285\n",
            "Epoch 228, Cost 0.122, m grad 0.0576, b grad -0.283\n",
            "Epoch 229, Cost 0.121, m grad 0.0573, b grad -0.282\n",
            "Epoch 230, Cost 0.12, m grad 0.057, b grad -0.28\n",
            "Epoch 231, Cost 0.119, m grad 0.0566, b grad -0.279\n",
            "Epoch 232, Cost 0.119, m grad 0.0563, b grad -0.277\n",
            "Epoch 233, Cost 0.118, m grad 0.056, b grad -0.275\n",
            "Epoch 234, Cost 0.117, m grad 0.0557, b grad -0.274\n",
            "Epoch 235, Cost 0.116, m grad 0.0553, b grad -0.272\n",
            "Epoch 236, Cost 0.116, m grad 0.055, b grad -0.271\n",
            "Epoch 237, Cost 0.115, m grad 0.0547, b grad -0.269\n",
            "Epoch 238, Cost 0.114, m grad 0.0544, b grad -0.267\n",
            "Epoch 239, Cost 0.113, m grad 0.0541, b grad -0.266\n",
            "Epoch 240, Cost 0.113, m grad 0.0538, b grad -0.264\n",
            "Epoch 241, Cost 0.112, m grad 0.0535, b grad -0.263\n",
            "Epoch 242, Cost 0.111, m grad 0.0532, b grad -0.261\n",
            "Epoch 243, Cost 0.11, m grad 0.0528, b grad -0.26\n",
            "Epoch 244, Cost 0.11, m grad 0.0525, b grad -0.258\n",
            "Epoch 245, Cost 0.109, m grad 0.0522, b grad -0.257\n",
            "Epoch 246, Cost 0.108, m grad 0.0519, b grad -0.255\n",
            "Epoch 247, Cost 0.108, m grad 0.0516, b grad -0.254\n",
            "Epoch 248, Cost 0.107, m grad 0.0513, b grad -0.252\n",
            "Epoch 249, Cost 0.106, m grad 0.051, b grad -0.251\n",
            "Epoch 250, Cost 0.106, m grad 0.0507, b grad -0.25\n",
            "Epoch 251, Cost 0.105, m grad 0.0505, b grad -0.248\n",
            "Epoch 252, Cost 0.104, m grad 0.0502, b grad -0.247\n",
            "Epoch 253, Cost 0.104, m grad 0.0499, b grad -0.245\n",
            "Epoch 254, Cost 0.103, m grad 0.0496, b grad -0.244\n",
            "Epoch 255, Cost 0.103, m grad 0.0493, b grad -0.242\n",
            "Epoch 256, Cost 0.102, m grad 0.049, b grad -0.241\n",
            "Epoch 257, Cost 0.101, m grad 0.0487, b grad -0.24\n",
            "Epoch 258, Cost 0.101, m grad 0.0485, b grad -0.238\n",
            "Epoch 259, Cost 0.1, m grad 0.0482, b grad -0.237\n",
            "Epoch 260, Cost 0.0995, m grad 0.0479, b grad -0.236\n",
            "Epoch 261, Cost 0.099, m grad 0.0476, b grad -0.234\n",
            "Epoch 262, Cost 0.0984, m grad 0.0473, b grad -0.233\n",
            "Epoch 263, Cost 0.0978, m grad 0.0471, b grad -0.231\n",
            "Epoch 264, Cost 0.0973, m grad 0.0468, b grad -0.23\n",
            "Epoch 265, Cost 0.0967, m grad 0.0465, b grad -0.229\n",
            "Epoch 266, Cost 0.0962, m grad 0.0463, b grad -0.228\n",
            "Epoch 267, Cost 0.0956, m grad 0.046, b grad -0.226\n",
            "Epoch 268, Cost 0.0951, m grad 0.0457, b grad -0.225\n",
            "Epoch 269, Cost 0.0946, m grad 0.0455, b grad -0.224\n",
            "Epoch 270, Cost 0.0941, m grad 0.0452, b grad -0.222\n",
            "Epoch 271, Cost 0.0936, m grad 0.0449, b grad -0.221\n",
            "Epoch 272, Cost 0.093, m grad 0.0447, b grad -0.22\n",
            "Epoch 273, Cost 0.0925, m grad 0.0444, b grad -0.218\n",
            "Epoch 274, Cost 0.092, m grad 0.0442, b grad -0.217\n",
            "Epoch 275, Cost 0.0916, m grad 0.0439, b grad -0.216\n",
            "Epoch 276, Cost 0.0911, m grad 0.0437, b grad -0.215\n",
            "Epoch 277, Cost 0.0906, m grad 0.0434, b grad -0.213\n",
            "Epoch 278, Cost 0.0901, m grad 0.0432, b grad -0.212\n",
            "Epoch 279, Cost 0.0897, m grad 0.0429, b grad -0.211\n",
            "Epoch 280, Cost 0.0892, m grad 0.0427, b grad -0.21\n",
            "Epoch 281, Cost 0.0887, m grad 0.0424, b grad -0.209\n",
            "Epoch 282, Cost 0.0883, m grad 0.0422, b grad -0.207\n",
            "Epoch 283, Cost 0.0878, m grad 0.0419, b grad -0.206\n",
            "Epoch 284, Cost 0.0874, m grad 0.0417, b grad -0.205\n",
            "Epoch 285, Cost 0.087, m grad 0.0415, b grad -0.204\n",
            "Epoch 286, Cost 0.0865, m grad 0.0412, b grad -0.203\n",
            "Epoch 287, Cost 0.0861, m grad 0.041, b grad -0.202\n",
            "Epoch 288, Cost 0.0857, m grad 0.0407, b grad -0.2\n",
            "Epoch 289, Cost 0.0853, m grad 0.0405, b grad -0.199\n",
            "Epoch 290, Cost 0.0848, m grad 0.0403, b grad -0.198\n",
            "Epoch 291, Cost 0.0844, m grad 0.04, b grad -0.197\n",
            "Epoch 292, Cost 0.084, m grad 0.0398, b grad -0.196\n",
            "Epoch 293, Cost 0.0836, m grad 0.0396, b grad -0.195\n",
            "Epoch 294, Cost 0.0832, m grad 0.0393, b grad -0.194\n",
            "Epoch 295, Cost 0.0829, m grad 0.0391, b grad -0.192\n",
            "Epoch 296, Cost 0.0825, m grad 0.0389, b grad -0.191\n",
            "Epoch 297, Cost 0.0821, m grad 0.0387, b grad -0.19\n",
            "Epoch 298, Cost 0.0817, m grad 0.0384, b grad -0.189\n",
            "Epoch 299, Cost 0.0813, m grad 0.0382, b grad -0.188\n",
            "Epoch 300, Cost 0.081, m grad 0.038, b grad -0.187\n",
            "Epoch 301, Cost 0.0806, m grad 0.0378, b grad -0.186\n",
            "Epoch 302, Cost 0.0803, m grad 0.0376, b grad -0.185\n",
            "Epoch 303, Cost 0.0799, m grad 0.0374, b grad -0.184\n",
            "Epoch 304, Cost 0.0796, m grad 0.0371, b grad -0.183\n",
            "Epoch 305, Cost 0.0792, m grad 0.0369, b grad -0.182\n",
            "Epoch 306, Cost 0.0789, m grad 0.0367, b grad -0.181\n",
            "Epoch 307, Cost 0.0785, m grad 0.0365, b grad -0.179\n",
            "Epoch 308, Cost 0.0782, m grad 0.0363, b grad -0.178\n",
            "Epoch 309, Cost 0.0779, m grad 0.0361, b grad -0.177\n",
            "Epoch 310, Cost 0.0775, m grad 0.0359, b grad -0.176\n",
            "Epoch 311, Cost 0.0772, m grad 0.0357, b grad -0.175\n",
            "Epoch 312, Cost 0.0769, m grad 0.0355, b grad -0.174\n",
            "Epoch 313, Cost 0.0766, m grad 0.0353, b grad -0.173\n",
            "Epoch 314, Cost 0.0763, m grad 0.0351, b grad -0.172\n",
            "Epoch 315, Cost 0.076, m grad 0.0348, b grad -0.171\n",
            "Epoch 316, Cost 0.0756, m grad 0.0346, b grad -0.17\n",
            "Epoch 317, Cost 0.0753, m grad 0.0345, b grad -0.169\n",
            "Epoch 318, Cost 0.0751, m grad 0.0343, b grad -0.168\n",
            "Epoch 319, Cost 0.0748, m grad 0.0341, b grad -0.167\n",
            "Epoch 320, Cost 0.0745, m grad 0.0339, b grad -0.166\n",
            "Epoch 321, Cost 0.0742, m grad 0.0337, b grad -0.166\n",
            "Epoch 322, Cost 0.0739, m grad 0.0335, b grad -0.165\n",
            "Epoch 323, Cost 0.0736, m grad 0.0333, b grad -0.164\n",
            "Epoch 324, Cost 0.0733, m grad 0.0331, b grad -0.163\n",
            "Epoch 325, Cost 0.0731, m grad 0.0329, b grad -0.162\n",
            "Epoch 326, Cost 0.0728, m grad 0.0327, b grad -0.161\n",
            "Epoch 327, Cost 0.0725, m grad 0.0325, b grad -0.16\n",
            "Epoch 328, Cost 0.0723, m grad 0.0323, b grad -0.159\n",
            "Epoch 329, Cost 0.072, m grad 0.0321, b grad -0.158\n",
            "Epoch 330, Cost 0.0717, m grad 0.032, b grad -0.157\n",
            "Epoch 331, Cost 0.0715, m grad 0.0318, b grad -0.156\n",
            "Epoch 332, Cost 0.0712, m grad 0.0316, b grad -0.155\n",
            "Epoch 333, Cost 0.071, m grad 0.0314, b grad -0.154\n",
            "Epoch 334, Cost 0.0707, m grad 0.0312, b grad -0.154\n",
            "Epoch 335, Cost 0.0705, m grad 0.031, b grad -0.153\n",
            "Epoch 336, Cost 0.0702, m grad 0.0309, b grad -0.152\n",
            "Epoch 337, Cost 0.07, m grad 0.0307, b grad -0.151\n",
            "Epoch 338, Cost 0.0698, m grad 0.0305, b grad -0.15\n",
            "Epoch 339, Cost 0.0695, m grad 0.0303, b grad -0.149\n",
            "Epoch 340, Cost 0.0693, m grad 0.0302, b grad -0.148\n",
            "Epoch 341, Cost 0.0691, m grad 0.03, b grad -0.147\n",
            "Epoch 342, Cost 0.0688, m grad 0.0298, b grad -0.147\n",
            "Epoch 343, Cost 0.0686, m grad 0.0296, b grad -0.146\n",
            "Epoch 344, Cost 0.0684, m grad 0.0295, b grad -0.145\n",
            "Epoch 345, Cost 0.0682, m grad 0.0293, b grad -0.144\n",
            "Epoch 346, Cost 0.068, m grad 0.0291, b grad -0.143\n",
            "Epoch 347, Cost 0.0678, m grad 0.029, b grad -0.142\n",
            "Epoch 348, Cost 0.0675, m grad 0.0288, b grad -0.142\n",
            "Epoch 349, Cost 0.0673, m grad 0.0286, b grad -0.141\n",
            "Epoch 350, Cost 0.0671, m grad 0.0285, b grad -0.14\n",
            "Epoch 351, Cost 0.0669, m grad 0.0283, b grad -0.139\n",
            "Epoch 352, Cost 0.0667, m grad 0.0281, b grad -0.138\n",
            "Epoch 353, Cost 0.0665, m grad 0.028, b grad -0.138\n",
            "Epoch 354, Cost 0.0663, m grad 0.0278, b grad -0.137\n",
            "Epoch 355, Cost 0.0661, m grad 0.0277, b grad -0.136\n",
            "Epoch 356, Cost 0.0659, m grad 0.0275, b grad -0.135\n",
            "Epoch 357, Cost 0.0657, m grad 0.0273, b grad -0.134\n",
            "Epoch 358, Cost 0.0656, m grad 0.0272, b grad -0.134\n",
            "Epoch 359, Cost 0.0654, m grad 0.027, b grad -0.133\n",
            "Epoch 360, Cost 0.0652, m grad 0.0269, b grad -0.132\n",
            "Epoch 361, Cost 0.065, m grad 0.0267, b grad -0.131\n",
            "Epoch 362, Cost 0.0648, m grad 0.0266, b grad -0.131\n",
            "Epoch 363, Cost 0.0647, m grad 0.0264, b grad -0.13\n",
            "Epoch 364, Cost 0.0645, m grad 0.0263, b grad -0.129\n",
            "Epoch 365, Cost 0.0643, m grad 0.0261, b grad -0.128\n",
            "Epoch 366, Cost 0.0641, m grad 0.0259, b grad -0.128\n",
            "Epoch 367, Cost 0.064, m grad 0.0258, b grad -0.127\n",
            "Epoch 368, Cost 0.0638, m grad 0.0257, b grad -0.126\n",
            "Epoch 369, Cost 0.0636, m grad 0.0255, b grad -0.125\n",
            "Epoch 370, Cost 0.0635, m grad 0.0254, b grad -0.125\n",
            "Epoch 371, Cost 0.0633, m grad 0.0252, b grad -0.124\n",
            "Epoch 372, Cost 0.0632, m grad 0.0251, b grad -0.123\n",
            "Epoch 373, Cost 0.063, m grad 0.0249, b grad -0.123\n",
            "Epoch 374, Cost 0.0628, m grad 0.0248, b grad -0.122\n",
            "Epoch 375, Cost 0.0627, m grad 0.0246, b grad -0.121\n",
            "Epoch 376, Cost 0.0625, m grad 0.0245, b grad -0.12\n",
            "Epoch 377, Cost 0.0624, m grad 0.0243, b grad -0.12\n",
            "Epoch 378, Cost 0.0622, m grad 0.0242, b grad -0.119\n",
            "Epoch 379, Cost 0.0621, m grad 0.0241, b grad -0.118\n",
            "Epoch 380, Cost 0.0619, m grad 0.0239, b grad -0.118\n",
            "Epoch 381, Cost 0.0618, m grad 0.0238, b grad -0.117\n",
            "Epoch 382, Cost 0.0617, m grad 0.0237, b grad -0.116\n",
            "Epoch 383, Cost 0.0615, m grad 0.0235, b grad -0.116\n",
            "Epoch 384, Cost 0.0614, m grad 0.0234, b grad -0.115\n",
            "Epoch 385, Cost 0.0612, m grad 0.0233, b grad -0.114\n",
            "Epoch 386, Cost 0.0611, m grad 0.0231, b grad -0.114\n",
            "Epoch 387, Cost 0.061, m grad 0.023, b grad -0.113\n",
            "Epoch 388, Cost 0.0608, m grad 0.0229, b grad -0.112\n",
            "Epoch 389, Cost 0.0607, m grad 0.0227, b grad -0.112\n",
            "Epoch 390, Cost 0.0606, m grad 0.0226, b grad -0.111\n",
            "Epoch 391, Cost 0.0604, m grad 0.0225, b grad -0.11\n",
            "Epoch 392, Cost 0.0603, m grad 0.0223, b grad -0.11\n",
            "Epoch 393, Cost 0.0602, m grad 0.0222, b grad -0.109\n",
            "Epoch 394, Cost 0.0601, m grad 0.0221, b grad -0.109\n",
            "Epoch 395, Cost 0.0599, m grad 0.0219, b grad -0.108\n",
            "Epoch 396, Cost 0.0598, m grad 0.0218, b grad -0.107\n",
            "Epoch 397, Cost 0.0597, m grad 0.0217, b grad -0.107\n",
            "Epoch 398, Cost 0.0596, m grad 0.0216, b grad -0.106\n",
            "Epoch 399, Cost 0.0595, m grad 0.0214, b grad -0.105\n",
            "Epoch 400, Cost 0.0594, m grad 0.0213, b grad -0.105\n",
            "Epoch 401, Cost 0.0592, m grad 0.0212, b grad -0.104\n",
            "Epoch 402, Cost 0.0591, m grad 0.0211, b grad -0.104\n",
            "Epoch 403, Cost 0.059, m grad 0.021, b grad -0.103\n",
            "Epoch 404, Cost 0.0589, m grad 0.0208, b grad -0.102\n",
            "Epoch 405, Cost 0.0588, m grad 0.0207, b grad -0.102\n",
            "Epoch 406, Cost 0.0587, m grad 0.0206, b grad -0.101\n",
            "Epoch 407, Cost 0.0586, m grad 0.0205, b grad -0.101\n",
            "Epoch 408, Cost 0.0585, m grad 0.0204, b grad -0.1\n",
            "Epoch 409, Cost 0.0584, m grad 0.0202, b grad -0.0995\n",
            "Epoch 410, Cost 0.0583, m grad 0.0201, b grad -0.0989\n",
            "Epoch 411, Cost 0.0582, m grad 0.02, b grad -0.0984\n",
            "Epoch 412, Cost 0.0581, m grad 0.0199, b grad -0.0978\n",
            "Epoch 413, Cost 0.058, m grad 0.0198, b grad -0.0972\n",
            "Epoch 414, Cost 0.0579, m grad 0.0197, b grad -0.0967\n",
            "Epoch 415, Cost 0.0578, m grad 0.0195, b grad -0.0961\n",
            "Epoch 416, Cost 0.0577, m grad 0.0194, b grad -0.0956\n",
            "Epoch 417, Cost 0.0576, m grad 0.0193, b grad -0.095\n",
            "Epoch 418, Cost 0.0575, m grad 0.0192, b grad -0.0945\n",
            "Epoch 419, Cost 0.0574, m grad 0.0191, b grad -0.0939\n",
            "Epoch 420, Cost 0.0573, m grad 0.019, b grad -0.0934\n",
            "Epoch 421, Cost 0.0572, m grad 0.0189, b grad -0.0928\n",
            "Epoch 422, Cost 0.0571, m grad 0.0188, b grad -0.0923\n",
            "Epoch 423, Cost 0.057, m grad 0.0187, b grad -0.0918\n",
            "Epoch 424, Cost 0.0569, m grad 0.0186, b grad -0.0913\n",
            "Epoch 425, Cost 0.0569, m grad 0.0184, b grad -0.0907\n",
            "Epoch 426, Cost 0.0568, m grad 0.0183, b grad -0.0902\n",
            "Epoch 427, Cost 0.0567, m grad 0.0182, b grad -0.0897\n",
            "Epoch 428, Cost 0.0566, m grad 0.0181, b grad -0.0892\n",
            "Epoch 429, Cost 0.0565, m grad 0.018, b grad -0.0887\n",
            "Epoch 430, Cost 0.0564, m grad 0.0179, b grad -0.0881\n",
            "Epoch 431, Cost 0.0564, m grad 0.0178, b grad -0.0876\n",
            "Epoch 432, Cost 0.0563, m grad 0.0177, b grad -0.0871\n",
            "Epoch 433, Cost 0.0562, m grad 0.0176, b grad -0.0866\n",
            "Epoch 434, Cost 0.0561, m grad 0.0175, b grad -0.0861\n",
            "Epoch 435, Cost 0.0561, m grad 0.0174, b grad -0.0856\n",
            "Epoch 436, Cost 0.056, m grad 0.0173, b grad -0.0851\n",
            "Epoch 437, Cost 0.0559, m grad 0.0172, b grad -0.0846\n",
            "Epoch 438, Cost 0.0558, m grad 0.0171, b grad -0.0842\n",
            "Epoch 439, Cost 0.0558, m grad 0.017, b grad -0.0837\n",
            "Epoch 440, Cost 0.0557, m grad 0.0169, b grad -0.0832\n",
            "Epoch 441, Cost 0.0556, m grad 0.0168, b grad -0.0827\n",
            "Epoch 442, Cost 0.0555, m grad 0.0167, b grad -0.0822\n",
            "Epoch 443, Cost 0.0555, m grad 0.0166, b grad -0.0818\n",
            "Epoch 444, Cost 0.0554, m grad 0.0165, b grad -0.0813\n",
            "Epoch 445, Cost 0.0553, m grad 0.0164, b grad -0.0808\n",
            "Epoch 446, Cost 0.0553, m grad 0.0163, b grad -0.0804\n",
            "Epoch 447, Cost 0.0552, m grad 0.0162, b grad -0.0799\n",
            "Epoch 448, Cost 0.0551, m grad 0.0162, b grad -0.0794\n",
            "Epoch 449, Cost 0.0551, m grad 0.0161, b grad -0.079\n",
            "Epoch 450, Cost 0.055, m grad 0.016, b grad -0.0785\n",
            "Epoch 451, Cost 0.0549, m grad 0.0159, b grad -0.0781\n",
            "Epoch 452, Cost 0.0549, m grad 0.0158, b grad -0.0776\n",
            "Epoch 453, Cost 0.0548, m grad 0.0157, b grad -0.0772\n",
            "Epoch 454, Cost 0.0547, m grad 0.0156, b grad -0.0767\n",
            "Epoch 455, Cost 0.0547, m grad 0.0155, b grad -0.0763\n",
            "Epoch 456, Cost 0.0546, m grad 0.0154, b grad -0.0758\n",
            "Epoch 457, Cost 0.0546, m grad 0.0153, b grad -0.0754\n",
            "Epoch 458, Cost 0.0545, m grad 0.0152, b grad -0.075\n",
            "Epoch 459, Cost 0.0544, m grad 0.0152, b grad -0.0745\n",
            "Epoch 460, Cost 0.0544, m grad 0.0151, b grad -0.0741\n",
            "Epoch 461, Cost 0.0543, m grad 0.015, b grad -0.0737\n",
            "Epoch 462, Cost 0.0543, m grad 0.0149, b grad -0.0733\n",
            "Epoch 463, Cost 0.0542, m grad 0.0148, b grad -0.0728\n",
            "Epoch 464, Cost 0.0542, m grad 0.0147, b grad -0.0724\n",
            "Epoch 465, Cost 0.0541, m grad 0.0146, b grad -0.072\n",
            "Epoch 466, Cost 0.0541, m grad 0.0146, b grad -0.0716\n",
            "Epoch 467, Cost 0.054, m grad 0.0145, b grad -0.0712\n",
            "Epoch 468, Cost 0.054, m grad 0.0144, b grad -0.0708\n",
            "Epoch 469, Cost 0.0539, m grad 0.0143, b grad -0.0703\n",
            "Epoch 470, Cost 0.0538, m grad 0.0142, b grad -0.0699\n",
            "Epoch 471, Cost 0.0538, m grad 0.0141, b grad -0.0695\n",
            "Epoch 472, Cost 0.0537, m grad 0.0141, b grad -0.0691\n",
            "Epoch 473, Cost 0.0537, m grad 0.014, b grad -0.0687\n",
            "Epoch 474, Cost 0.0536, m grad 0.0139, b grad -0.0683\n",
            "Epoch 475, Cost 0.0536, m grad 0.0138, b grad -0.0679\n",
            "Epoch 476, Cost 0.0536, m grad 0.0137, b grad -0.0676\n",
            "Epoch 477, Cost 0.0535, m grad 0.0137, b grad -0.0672\n",
            "Epoch 478, Cost 0.0535, m grad 0.0136, b grad -0.0668\n",
            "Epoch 479, Cost 0.0534, m grad 0.0135, b grad -0.0664\n",
            "Epoch 480, Cost 0.0534, m grad 0.0134, b grad -0.066\n",
            "Epoch 481, Cost 0.0533, m grad 0.0133, b grad -0.0656\n",
            "Epoch 482, Cost 0.0533, m grad 0.0133, b grad -0.0653\n",
            "Epoch 483, Cost 0.0532, m grad 0.0132, b grad -0.0649\n",
            "Epoch 484, Cost 0.0532, m grad 0.0131, b grad -0.0645\n",
            "Epoch 485, Cost 0.0531, m grad 0.013, b grad -0.0641\n",
            "Epoch 486, Cost 0.0531, m grad 0.013, b grad -0.0638\n",
            "Epoch 487, Cost 0.0531, m grad 0.0129, b grad -0.0634\n",
            "Epoch 488, Cost 0.053, m grad 0.0128, b grad -0.063\n",
            "Epoch 489, Cost 0.053, m grad 0.0127, b grad -0.0627\n",
            "Epoch 490, Cost 0.0529, m grad 0.0127, b grad -0.0623\n",
            "Epoch 491, Cost 0.0529, m grad 0.0126, b grad -0.0619\n",
            "Epoch 492, Cost 0.0529, m grad 0.0125, b grad -0.0616\n",
            "Epoch 493, Cost 0.0528, m grad 0.0125, b grad -0.0612\n",
            "Epoch 494, Cost 0.0528, m grad 0.0124, b grad -0.0609\n",
            "Epoch 495, Cost 0.0527, m grad 0.0123, b grad -0.0605\n",
            "Epoch 496, Cost 0.0527, m grad 0.0122, b grad -0.0602\n",
            "Epoch 497, Cost 0.0527, m grad 0.0122, b grad -0.0598\n",
            "Epoch 498, Cost 0.0526, m grad 0.0121, b grad -0.0595\n",
            "Epoch 499, Cost 0.0526, m grad 0.012, b grad -0.0591\n",
            "Epoch 500, Cost 0.0526, m grad 0.012, b grad -0.0588\n",
            "Epoch 501, Cost 0.0525, m grad 0.0119, b grad -0.0585\n",
            "Epoch 502, Cost 0.0525, m grad 0.0118, b grad -0.0581\n",
            "Epoch 503, Cost 0.0524, m grad 0.0118, b grad -0.0578\n",
            "Epoch 504, Cost 0.0524, m grad 0.0117, b grad -0.0575\n",
            "Epoch 505, Cost 0.0524, m grad 0.0116, b grad -0.0571\n",
            "Epoch 506, Cost 0.0523, m grad 0.0116, b grad -0.0568\n",
            "Epoch 507, Cost 0.0523, m grad 0.0115, b grad -0.0565\n",
            "Epoch 508, Cost 0.0523, m grad 0.0114, b grad -0.0561\n",
            "Epoch 509, Cost 0.0522, m grad 0.0114, b grad -0.0558\n",
            "Epoch 510, Cost 0.0522, m grad 0.0113, b grad -0.0555\n",
            "Epoch 511, Cost 0.0522, m grad 0.0112, b grad -0.0552\n",
            "Epoch 512, Cost 0.0521, m grad 0.0112, b grad -0.0549\n",
            "Epoch 513, Cost 0.0521, m grad 0.0111, b grad -0.0545\n",
            "Epoch 514, Cost 0.0521, m grad 0.011, b grad -0.0542\n",
            "Epoch 515, Cost 0.0521, m grad 0.011, b grad -0.0539\n",
            "Epoch 516, Cost 0.052, m grad 0.0109, b grad -0.0536\n",
            "Epoch 517, Cost 0.052, m grad 0.0108, b grad -0.0533\n",
            "Epoch 518, Cost 0.052, m grad 0.0108, b grad -0.053\n",
            "Epoch 519, Cost 0.0519, m grad 0.0107, b grad -0.0527\n",
            "Epoch 520, Cost 0.0519, m grad 0.0107, b grad -0.0524\n",
            "Epoch 521, Cost 0.0519, m grad 0.0106, b grad -0.0521\n",
            "Epoch 522, Cost 0.0519, m grad 0.0105, b grad -0.0518\n",
            "Epoch 523, Cost 0.0518, m grad 0.0105, b grad -0.0515\n",
            "Epoch 524, Cost 0.0518, m grad 0.0104, b grad -0.0512\n",
            "Epoch 525, Cost 0.0518, m grad 0.0103, b grad -0.0509\n",
            "Epoch 526, Cost 0.0517, m grad 0.0103, b grad -0.0506\n",
            "Epoch 527, Cost 0.0517, m grad 0.0102, b grad -0.0503\n",
            "Epoch 528, Cost 0.0517, m grad 0.0102, b grad -0.05\n",
            "Epoch 529, Cost 0.0517, m grad 0.0101, b grad -0.0497\n",
            "Epoch 530, Cost 0.0516, m grad 0.0101, b grad -0.0494\n",
            "Epoch 531, Cost 0.0516, m grad 0.00999, b grad -0.0492\n",
            "Epoch 532, Cost 0.0516, m grad 0.00994, b grad -0.0489\n",
            "Epoch 533, Cost 0.0516, m grad 0.00988, b grad -0.0486\n",
            "Epoch 534, Cost 0.0515, m grad 0.00982, b grad -0.0483\n",
            "Epoch 535, Cost 0.0515, m grad 0.00977, b grad -0.048\n",
            "Epoch 536, Cost 0.0515, m grad 0.00971, b grad -0.0478\n",
            "Epoch 537, Cost 0.0515, m grad 0.00965, b grad -0.0475\n",
            "Epoch 538, Cost 0.0514, m grad 0.0096, b grad -0.0472\n",
            "Epoch 539, Cost 0.0514, m grad 0.00954, b grad -0.0469\n",
            "Epoch 540, Cost 0.0514, m grad 0.00949, b grad -0.0467\n",
            "Epoch 541, Cost 0.0514, m grad 0.00943, b grad -0.0464\n",
            "Epoch 542, Cost 0.0514, m grad 0.00938, b grad -0.0461\n",
            "Epoch 543, Cost 0.0513, m grad 0.00932, b grad -0.0459\n",
            "Epoch 544, Cost 0.0513, m grad 0.00927, b grad -0.0456\n",
            "Epoch 545, Cost 0.0513, m grad 0.00922, b grad -0.0453\n",
            "Epoch 546, Cost 0.0513, m grad 0.00917, b grad -0.0451\n",
            "Epoch 547, Cost 0.0512, m grad 0.00911, b grad -0.0448\n",
            "Epoch 548, Cost 0.0512, m grad 0.00906, b grad -0.0446\n",
            "Epoch 549, Cost 0.0512, m grad 0.00901, b grad -0.0443\n",
            "Epoch 550, Cost 0.0512, m grad 0.00896, b grad -0.044\n",
            "Epoch 551, Cost 0.0512, m grad 0.0089, b grad -0.0438\n",
            "Epoch 552, Cost 0.0511, m grad 0.00885, b grad -0.0435\n",
            "Epoch 553, Cost 0.0511, m grad 0.0088, b grad -0.0433\n",
            "Epoch 554, Cost 0.0511, m grad 0.00875, b grad -0.043\n",
            "Epoch 555, Cost 0.0511, m grad 0.0087, b grad -0.0428\n",
            "Epoch 556, Cost 0.0511, m grad 0.00865, b grad -0.0425\n",
            "Epoch 557, Cost 0.051, m grad 0.0086, b grad -0.0423\n",
            "Epoch 558, Cost 0.051, m grad 0.00855, b grad -0.042\n",
            "Epoch 559, Cost 0.051, m grad 0.0085, b grad -0.0418\n",
            "Epoch 560, Cost 0.051, m grad 0.00845, b grad -0.0416\n",
            "Epoch 561, Cost 0.051, m grad 0.0084, b grad -0.0413\n",
            "Epoch 562, Cost 0.051, m grad 0.00836, b grad -0.0411\n",
            "Epoch 563, Cost 0.0509, m grad 0.00831, b grad -0.0408\n",
            "Epoch 564, Cost 0.0509, m grad 0.00826, b grad -0.0406\n",
            "Epoch 565, Cost 0.0509, m grad 0.00821, b grad -0.0404\n",
            "Epoch 566, Cost 0.0509, m grad 0.00816, b grad -0.0401\n",
            "Epoch 567, Cost 0.0509, m grad 0.00812, b grad -0.0399\n",
            "Epoch 568, Cost 0.0509, m grad 0.00807, b grad -0.0397\n",
            "Epoch 569, Cost 0.0508, m grad 0.00802, b grad -0.0395\n",
            "Epoch 570, Cost 0.0508, m grad 0.00798, b grad -0.0392\n",
            "Epoch 571, Cost 0.0508, m grad 0.00793, b grad -0.039\n",
            "Epoch 572, Cost 0.0508, m grad 0.00788, b grad -0.0388\n",
            "Epoch 573, Cost 0.0508, m grad 0.00784, b grad -0.0386\n",
            "Epoch 574, Cost 0.0508, m grad 0.00779, b grad -0.0383\n",
            "Epoch 575, Cost 0.0507, m grad 0.00775, b grad -0.0381\n",
            "Epoch 576, Cost 0.0507, m grad 0.00771, b grad -0.0379\n",
            "Epoch 577, Cost 0.0507, m grad 0.00766, b grad -0.0377\n",
            "Epoch 578, Cost 0.0507, m grad 0.00762, b grad -0.0375\n",
            "Epoch 579, Cost 0.0507, m grad 0.00757, b grad -0.0372\n",
            "Epoch 580, Cost 0.0507, m grad 0.00753, b grad -0.037\n",
            "Epoch 581, Cost 0.0507, m grad 0.00749, b grad -0.0368\n",
            "Epoch 582, Cost 0.0506, m grad 0.00744, b grad -0.0366\n",
            "Epoch 583, Cost 0.0506, m grad 0.0074, b grad -0.0364\n",
            "Epoch 584, Cost 0.0506, m grad 0.00736, b grad -0.0362\n",
            "Epoch 585, Cost 0.0506, m grad 0.00732, b grad -0.036\n",
            "Epoch 586, Cost 0.0506, m grad 0.00727, b grad -0.0358\n",
            "Epoch 587, Cost 0.0506, m grad 0.00723, b grad -0.0356\n",
            "Epoch 588, Cost 0.0506, m grad 0.00719, b grad -0.0354\n",
            "Epoch 589, Cost 0.0505, m grad 0.00715, b grad -0.0351\n",
            "Epoch 590, Cost 0.0505, m grad 0.00711, b grad -0.0349\n",
            "Epoch 591, Cost 0.0505, m grad 0.00707, b grad -0.0347\n",
            "Epoch 592, Cost 0.0505, m grad 0.00702, b grad -0.0345\n",
            "Epoch 593, Cost 0.0505, m grad 0.00698, b grad -0.0343\n",
            "Epoch 594, Cost 0.0505, m grad 0.00694, b grad -0.0341\n",
            "Epoch 595, Cost 0.0505, m grad 0.0069, b grad -0.0339\n",
            "Epoch 596, Cost 0.0505, m grad 0.00686, b grad -0.0338\n",
            "Epoch 597, Cost 0.0504, m grad 0.00682, b grad -0.0336\n",
            "Epoch 598, Cost 0.0504, m grad 0.00678, b grad -0.0334\n",
            "Epoch 599, Cost 0.0504, m grad 0.00675, b grad -0.0332\n",
            "Epoch 600, Cost 0.0504, m grad 0.00671, b grad -0.033\n",
            "Epoch 601, Cost 0.0504, m grad 0.00667, b grad -0.0328\n",
            "Epoch 602, Cost 0.0504, m grad 0.00663, b grad -0.0326\n",
            "Epoch 603, Cost 0.0504, m grad 0.00659, b grad -0.0324\n",
            "Epoch 604, Cost 0.0504, m grad 0.00655, b grad -0.0322\n",
            "Epoch 605, Cost 0.0504, m grad 0.00652, b grad -0.032\n",
            "Epoch 606, Cost 0.0503, m grad 0.00648, b grad -0.0319\n",
            "Epoch 607, Cost 0.0503, m grad 0.00644, b grad -0.0317\n",
            "Epoch 608, Cost 0.0503, m grad 0.0064, b grad -0.0315\n",
            "Epoch 609, Cost 0.0503, m grad 0.00637, b grad -0.0313\n",
            "Epoch 610, Cost 0.0503, m grad 0.00633, b grad -0.0311\n",
            "Epoch 611, Cost 0.0503, m grad 0.00629, b grad -0.0309\n",
            "Epoch 612, Cost 0.0503, m grad 0.00626, b grad -0.0308\n",
            "Epoch 613, Cost 0.0503, m grad 0.00622, b grad -0.0306\n",
            "Epoch 614, Cost 0.0503, m grad 0.00618, b grad -0.0304\n",
            "Epoch 615, Cost 0.0503, m grad 0.00615, b grad -0.0302\n",
            "Epoch 616, Cost 0.0502, m grad 0.00611, b grad -0.0301\n",
            "Epoch 617, Cost 0.0502, m grad 0.00608, b grad -0.0299\n",
            "Epoch 618, Cost 0.0502, m grad 0.00604, b grad -0.0297\n",
            "Epoch 619, Cost 0.0502, m grad 0.00601, b grad -0.0296\n",
            "Epoch 620, Cost 0.0502, m grad 0.00597, b grad -0.0294\n",
            "Epoch 621, Cost 0.0502, m grad 0.00594, b grad -0.0292\n",
            "Epoch 622, Cost 0.0502, m grad 0.00591, b grad -0.029\n",
            "Epoch 623, Cost 0.0502, m grad 0.00587, b grad -0.0289\n",
            "Epoch 624, Cost 0.0502, m grad 0.00584, b grad -0.0287\n",
            "Epoch 625, Cost 0.0502, m grad 0.0058, b grad -0.0285\n",
            "Epoch 626, Cost 0.0502, m grad 0.00577, b grad -0.0284\n",
            "Epoch 627, Cost 0.0501, m grad 0.00574, b grad -0.0282\n",
            "Epoch 628, Cost 0.0501, m grad 0.0057, b grad -0.0281\n",
            "Epoch 629, Cost 0.0501, m grad 0.00567, b grad -0.0279\n",
            "Epoch 630, Cost 0.0501, m grad 0.00564, b grad -0.0277\n",
            "Epoch 631, Cost 0.0501, m grad 0.00561, b grad -0.0276\n",
            "Epoch 632, Cost 0.0501, m grad 0.00557, b grad -0.0274\n",
            "Epoch 633, Cost 0.0501, m grad 0.00554, b grad -0.0273\n",
            "Epoch 634, Cost 0.0501, m grad 0.00551, b grad -0.0271\n",
            "Epoch 635, Cost 0.0501, m grad 0.00548, b grad -0.0269\n",
            "Epoch 636, Cost 0.0501, m grad 0.00545, b grad -0.0268\n",
            "Epoch 637, Cost 0.0501, m grad 0.00542, b grad -0.0266\n",
            "Epoch 638, Cost 0.0501, m grad 0.00538, b grad -0.0265\n",
            "Epoch 639, Cost 0.0501, m grad 0.00535, b grad -0.0263\n",
            "Epoch 640, Cost 0.05, m grad 0.00532, b grad -0.0262\n",
            "Epoch 641, Cost 0.05, m grad 0.00529, b grad -0.026\n",
            "Epoch 642, Cost 0.05, m grad 0.00526, b grad -0.0259\n",
            "Epoch 643, Cost 0.05, m grad 0.00523, b grad -0.0257\n",
            "Epoch 644, Cost 0.05, m grad 0.0052, b grad -0.0256\n",
            "Epoch 645, Cost 0.05, m grad 0.00517, b grad -0.0254\n",
            "Epoch 646, Cost 0.05, m grad 0.00514, b grad -0.0253\n",
            "Epoch 647, Cost 0.05, m grad 0.00511, b grad -0.0251\n",
            "Epoch 648, Cost 0.05, m grad 0.00508, b grad -0.025\n",
            "Epoch 649, Cost 0.05, m grad 0.00505, b grad -0.0248\n",
            "Epoch 650, Cost 0.05, m grad 0.00502, b grad -0.0247\n",
            "Epoch 651, Cost 0.05, m grad 0.00499, b grad -0.0246\n",
            "Epoch 652, Cost 0.05, m grad 0.00496, b grad -0.0244\n",
            "Epoch 653, Cost 0.05, m grad 0.00494, b grad -0.0243\n",
            "Epoch 654, Cost 0.05, m grad 0.00491, b grad -0.0241\n",
            "Epoch 655, Cost 0.0499, m grad 0.00488, b grad -0.024\n",
            "Epoch 656, Cost 0.0499, m grad 0.00485, b grad -0.0239\n",
            "Epoch 657, Cost 0.0499, m grad 0.00482, b grad -0.0237\n",
            "Epoch 658, Cost 0.0499, m grad 0.0048, b grad -0.0236\n",
            "Epoch 659, Cost 0.0499, m grad 0.00477, b grad -0.0234\n",
            "Epoch 660, Cost 0.0499, m grad 0.00474, b grad -0.0233\n",
            "Epoch 661, Cost 0.0499, m grad 0.00471, b grad -0.0232\n",
            "Epoch 662, Cost 0.0499, m grad 0.00469, b grad -0.023\n",
            "Epoch 663, Cost 0.0499, m grad 0.00466, b grad -0.0229\n",
            "Epoch 664, Cost 0.0499, m grad 0.00463, b grad -0.0228\n",
            "Epoch 665, Cost 0.0499, m grad 0.00461, b grad -0.0226\n",
            "Epoch 666, Cost 0.0499, m grad 0.00458, b grad -0.0225\n",
            "Epoch 667, Cost 0.0499, m grad 0.00455, b grad -0.0224\n",
            "Epoch 668, Cost 0.0499, m grad 0.00453, b grad -0.0223\n",
            "Epoch 669, Cost 0.0499, m grad 0.0045, b grad -0.0221\n",
            "Epoch 670, Cost 0.0499, m grad 0.00447, b grad -0.022\n",
            "Epoch 671, Cost 0.0499, m grad 0.00445, b grad -0.0219\n",
            "Epoch 672, Cost 0.0499, m grad 0.00442, b grad -0.0218\n",
            "Epoch 673, Cost 0.0499, m grad 0.0044, b grad -0.0216\n",
            "Epoch 674, Cost 0.0498, m grad 0.00437, b grad -0.0215\n",
            "Epoch 675, Cost 0.0498, m grad 0.00435, b grad -0.0214\n",
            "Epoch 676, Cost 0.0498, m grad 0.00432, b grad -0.0213\n",
            "Epoch 677, Cost 0.0498, m grad 0.0043, b grad -0.0211\n",
            "Epoch 678, Cost 0.0498, m grad 0.00427, b grad -0.021\n",
            "Epoch 679, Cost 0.0498, m grad 0.00425, b grad -0.0209\n",
            "Epoch 680, Cost 0.0498, m grad 0.00422, b grad -0.0208\n",
            "Epoch 681, Cost 0.0498, m grad 0.0042, b grad -0.0206\n",
            "Epoch 682, Cost 0.0498, m grad 0.00418, b grad -0.0205\n",
            "Epoch 683, Cost 0.0498, m grad 0.00415, b grad -0.0204\n",
            "Epoch 684, Cost 0.0498, m grad 0.00413, b grad -0.0203\n",
            "Epoch 685, Cost 0.0498, m grad 0.0041, b grad -0.0202\n",
            "Epoch 686, Cost 0.0498, m grad 0.00408, b grad -0.0201\n",
            "Epoch 687, Cost 0.0498, m grad 0.00406, b grad -0.0199\n",
            "Epoch 688, Cost 0.0498, m grad 0.00403, b grad -0.0198\n",
            "Epoch 689, Cost 0.0498, m grad 0.00401, b grad -0.0197\n",
            "Epoch 690, Cost 0.0498, m grad 0.00399, b grad -0.0196\n",
            "Epoch 691, Cost 0.0498, m grad 0.00396, b grad -0.0195\n",
            "Epoch 692, Cost 0.0498, m grad 0.00394, b grad -0.0194\n",
            "Epoch 693, Cost 0.0498, m grad 0.00392, b grad -0.0193\n",
            "Epoch 694, Cost 0.0498, m grad 0.00389, b grad -0.0192\n",
            "Epoch 695, Cost 0.0498, m grad 0.00387, b grad -0.019\n",
            "Epoch 696, Cost 0.0498, m grad 0.00385, b grad -0.0189\n",
            "Epoch 697, Cost 0.0497, m grad 0.00383, b grad -0.0188\n",
            "Epoch 698, Cost 0.0497, m grad 0.00381, b grad -0.0187\n",
            "Epoch 699, Cost 0.0497, m grad 0.00379, b grad -0.0186\n",
            "Epoch 700, Cost 0.0497, m grad 0.00376, b grad -0.0185\n",
            "Epoch 701, Cost 0.0497, m grad 0.00374, b grad -0.0184\n",
            "Epoch 702, Cost 0.0497, m grad 0.00372, b grad -0.0183\n",
            "Epoch 703, Cost 0.0497, m grad 0.0037, b grad -0.0182\n",
            "Epoch 704, Cost 0.0497, m grad 0.00368, b grad -0.0181\n",
            "Epoch 705, Cost 0.0497, m grad 0.00365, b grad -0.018\n",
            "Epoch 706, Cost 0.0497, m grad 0.00363, b grad -0.0179\n",
            "Epoch 707, Cost 0.0497, m grad 0.00361, b grad -0.0178\n",
            "Epoch 708, Cost 0.0497, m grad 0.00359, b grad -0.0177\n",
            "Epoch 709, Cost 0.0497, m grad 0.00357, b grad -0.0176\n",
            "Epoch 710, Cost 0.0497, m grad 0.00355, b grad -0.0175\n",
            "Epoch 711, Cost 0.0497, m grad 0.00353, b grad -0.0174\n",
            "Epoch 712, Cost 0.0497, m grad 0.00351, b grad -0.0173\n",
            "Epoch 713, Cost 0.0497, m grad 0.00349, b grad -0.0172\n",
            "Epoch 714, Cost 0.0497, m grad 0.00347, b grad -0.0171\n",
            "Epoch 715, Cost 0.0497, m grad 0.00345, b grad -0.017\n",
            "Epoch 716, Cost 0.0497, m grad 0.00343, b grad -0.0169\n",
            "Epoch 717, Cost 0.0497, m grad 0.00341, b grad -0.0168\n",
            "Epoch 718, Cost 0.0497, m grad 0.00339, b grad -0.0167\n",
            "Epoch 719, Cost 0.0497, m grad 0.00337, b grad -0.0166\n",
            "Epoch 720, Cost 0.0497, m grad 0.00335, b grad -0.0165\n",
            "Epoch 721, Cost 0.0497, m grad 0.00333, b grad -0.0164\n",
            "Epoch 722, Cost 0.0497, m grad 0.00331, b grad -0.0163\n",
            "Epoch 723, Cost 0.0497, m grad 0.00329, b grad -0.0162\n",
            "Epoch 724, Cost 0.0497, m grad 0.00327, b grad -0.0161\n",
            "Epoch 725, Cost 0.0497, m grad 0.00325, b grad -0.016\n",
            "Epoch 726, Cost 0.0497, m grad 0.00324, b grad -0.0159\n",
            "Epoch 727, Cost 0.0497, m grad 0.00322, b grad -0.0158\n",
            "Epoch 728, Cost 0.0497, m grad 0.0032, b grad -0.0157\n",
            "Epoch 729, Cost 0.0497, m grad 0.00318, b grad -0.0156\n",
            "Epoch 730, Cost 0.0496, m grad 0.00316, b grad -0.0156\n",
            "Epoch 731, Cost 0.0496, m grad 0.00314, b grad -0.0155\n",
            "Epoch 732, Cost 0.0496, m grad 0.00313, b grad -0.0154\n",
            "Epoch 733, Cost 0.0496, m grad 0.00311, b grad -0.0153\n",
            "Epoch 734, Cost 0.0496, m grad 0.00309, b grad -0.0152\n",
            "Epoch 735, Cost 0.0496, m grad 0.00307, b grad -0.0151\n",
            "Epoch 736, Cost 0.0496, m grad 0.00306, b grad -0.015\n",
            "Epoch 737, Cost 0.0496, m grad 0.00304, b grad -0.0149\n",
            "Epoch 738, Cost 0.0496, m grad 0.00302, b grad -0.0149\n",
            "Epoch 739, Cost 0.0496, m grad 0.003, b grad -0.0148\n",
            "Epoch 740, Cost 0.0496, m grad 0.00298, b grad -0.0147\n",
            "Epoch 741, Cost 0.0496, m grad 0.00297, b grad -0.0146\n",
            "Epoch 742, Cost 0.0496, m grad 0.00295, b grad -0.0145\n",
            "Epoch 743, Cost 0.0496, m grad 0.00293, b grad -0.0144\n",
            "Epoch 744, Cost 0.0496, m grad 0.00292, b grad -0.0143\n",
            "Epoch 745, Cost 0.0496, m grad 0.0029, b grad -0.0143\n",
            "Epoch 746, Cost 0.0496, m grad 0.00288, b grad -0.0142\n",
            "Epoch 747, Cost 0.0496, m grad 0.00287, b grad -0.0141\n",
            "Epoch 748, Cost 0.0496, m grad 0.00285, b grad -0.014\n",
            "Epoch 749, Cost 0.0496, m grad 0.00283, b grad -0.0139\n",
            "Epoch 750, Cost 0.0496, m grad 0.00282, b grad -0.0139\n",
            "Epoch 751, Cost 0.0496, m grad 0.0028, b grad -0.0138\n",
            "Epoch 752, Cost 0.0496, m grad 0.00279, b grad -0.0137\n",
            "Epoch 753, Cost 0.0496, m grad 0.00277, b grad -0.0136\n",
            "Epoch 754, Cost 0.0496, m grad 0.00275, b grad -0.0135\n",
            "Epoch 755, Cost 0.0496, m grad 0.00274, b grad -0.0135\n",
            "Epoch 756, Cost 0.0496, m grad 0.00272, b grad -0.0134\n",
            "Epoch 757, Cost 0.0496, m grad 0.0027, b grad -0.0133\n",
            "Epoch 758, Cost 0.0496, m grad 0.00269, b grad -0.0132\n",
            "Epoch 759, Cost 0.0496, m grad 0.00267, b grad -0.0132\n",
            "Epoch 760, Cost 0.0496, m grad 0.00266, b grad -0.0131\n",
            "Epoch 761, Cost 0.0496, m grad 0.00264, b grad -0.013\n",
            "Epoch 762, Cost 0.0496, m grad 0.00263, b grad -0.0129\n",
            "Epoch 763, Cost 0.0496, m grad 0.00261, b grad -0.0129\n",
            "Epoch 764, Cost 0.0496, m grad 0.0026, b grad -0.0128\n",
            "Epoch 765, Cost 0.0496, m grad 0.00258, b grad -0.0127\n",
            "Epoch 766, Cost 0.0496, m grad 0.00257, b grad -0.0126\n",
            "Epoch 767, Cost 0.0496, m grad 0.00256, b grad -0.0126\n",
            "Epoch 768, Cost 0.0496, m grad 0.00254, b grad -0.0125\n",
            "Epoch 769, Cost 0.0496, m grad 0.00253, b grad -0.0124\n",
            "Epoch 770, Cost 0.0496, m grad 0.00251, b grad -0.0123\n",
            "Epoch 771, Cost 0.0496, m grad 0.0025, b grad -0.0123\n",
            "Epoch 772, Cost 0.0496, m grad 0.00248, b grad -0.0122\n",
            "Epoch 773, Cost 0.0496, m grad 0.00247, b grad -0.0121\n",
            "Epoch 774, Cost 0.0496, m grad 0.00245, b grad -0.0121\n",
            "Epoch 775, Cost 0.0496, m grad 0.00244, b grad -0.012\n",
            "Epoch 776, Cost 0.0496, m grad 0.00243, b grad -0.0119\n",
            "Epoch 777, Cost 0.0496, m grad 0.00241, b grad -0.0119\n",
            "Epoch 778, Cost 0.0496, m grad 0.0024, b grad -0.0118\n",
            "Epoch 779, Cost 0.0496, m grad 0.00238, b grad -0.0117\n",
            "Epoch 780, Cost 0.0496, m grad 0.00237, b grad -0.0116\n",
            "Epoch 781, Cost 0.0496, m grad 0.00235, b grad -0.0116\n",
            "Epoch 782, Cost 0.0495, m grad 0.00234, b grad -0.0115\n",
            "Epoch 783, Cost 0.0495, m grad 0.00233, b grad -0.0114\n",
            "Epoch 784, Cost 0.0495, m grad 0.00231, b grad -0.0114\n",
            "Epoch 785, Cost 0.0495, m grad 0.0023, b grad -0.0113\n",
            "Epoch 786, Cost 0.0495, m grad 0.00229, b grad -0.0113\n",
            "Epoch 787, Cost 0.0495, m grad 0.00227, b grad -0.0112\n",
            "Epoch 788, Cost 0.0495, m grad 0.00226, b grad -0.0111\n",
            "Epoch 789, Cost 0.0495, m grad 0.00225, b grad -0.0111\n",
            "Epoch 790, Cost 0.0495, m grad 0.00224, b grad -0.011\n",
            "Epoch 791, Cost 0.0495, m grad 0.00222, b grad -0.0109\n",
            "Epoch 792, Cost 0.0495, m grad 0.00221, b grad -0.0109\n",
            "Epoch 793, Cost 0.0495, m grad 0.0022, b grad -0.0108\n",
            "Epoch 794, Cost 0.0495, m grad 0.00218, b grad -0.0107\n",
            "Epoch 795, Cost 0.0495, m grad 0.00217, b grad -0.0107\n",
            "Epoch 796, Cost 0.0495, m grad 0.00216, b grad -0.0106\n",
            "Epoch 797, Cost 0.0495, m grad 0.00215, b grad -0.0106\n",
            "Epoch 798, Cost 0.0495, m grad 0.00213, b grad -0.0105\n",
            "Epoch 799, Cost 0.0495, m grad 0.00212, b grad -0.0104\n",
            "Epoch 800, Cost 0.0495, m grad 0.00211, b grad -0.0104\n",
            "Epoch 801, Cost 0.0495, m grad 0.0021, b grad -0.0103\n",
            "Epoch 802, Cost 0.0495, m grad 0.00209, b grad -0.0103\n",
            "Epoch 803, Cost 0.0495, m grad 0.00207, b grad -0.0102\n",
            "Epoch 804, Cost 0.0495, m grad 0.00206, b grad -0.0101\n",
            "Epoch 805, Cost 0.0495, m grad 0.00205, b grad -0.0101\n",
            "Epoch 806, Cost 0.0495, m grad 0.00204, b grad -0.01\n",
            "Epoch 807, Cost 0.0495, m grad 0.00203, b grad -0.00997\n",
            "Epoch 808, Cost 0.0495, m grad 0.00201, b grad -0.00991\n",
            "Epoch 809, Cost 0.0495, m grad 0.002, b grad -0.00985\n",
            "Epoch 810, Cost 0.0495, m grad 0.00199, b grad -0.00979\n",
            "Epoch 811, Cost 0.0495, m grad 0.00198, b grad -0.00974\n",
            "Epoch 812, Cost 0.0495, m grad 0.00197, b grad -0.00968\n",
            "Epoch 813, Cost 0.0495, m grad 0.00196, b grad -0.00962\n",
            "Epoch 814, Cost 0.0495, m grad 0.00195, b grad -0.00957\n",
            "Epoch 815, Cost 0.0495, m grad 0.00193, b grad -0.00951\n",
            "Epoch 816, Cost 0.0495, m grad 0.00192, b grad -0.00946\n",
            "Epoch 817, Cost 0.0495, m grad 0.00191, b grad -0.00941\n",
            "Epoch 818, Cost 0.0495, m grad 0.0019, b grad -0.00935\n",
            "Epoch 819, Cost 0.0495, m grad 0.00189, b grad -0.0093\n",
            "Epoch 820, Cost 0.0495, m grad 0.00188, b grad -0.00924\n",
            "Epoch 821, Cost 0.0495, m grad 0.00187, b grad -0.00919\n",
            "Epoch 822, Cost 0.0495, m grad 0.00186, b grad -0.00914\n",
            "Epoch 823, Cost 0.0495, m grad 0.00185, b grad -0.00908\n",
            "Epoch 824, Cost 0.0495, m grad 0.00183, b grad -0.00903\n",
            "Epoch 825, Cost 0.0495, m grad 0.00182, b grad -0.00898\n",
            "Epoch 826, Cost 0.0495, m grad 0.00182, b grad -0.00893\n",
            "Epoch 827, Cost 0.0495, m grad 0.0018, b grad -0.00888\n",
            "Epoch 828, Cost 0.0495, m grad 0.00179, b grad -0.00883\n",
            "Epoch 829, Cost 0.0495, m grad 0.00178, b grad -0.00878\n",
            "Epoch 830, Cost 0.0495, m grad 0.00177, b grad -0.00872\n",
            "Epoch 831, Cost 0.0495, m grad 0.00176, b grad -0.00867\n",
            "Epoch 832, Cost 0.0495, m grad 0.00175, b grad -0.00862\n",
            "Epoch 833, Cost 0.0495, m grad 0.00174, b grad -0.00857\n",
            "Epoch 834, Cost 0.0495, m grad 0.00173, b grad -0.00852\n",
            "Epoch 835, Cost 0.0495, m grad 0.00172, b grad -0.00848\n",
            "Epoch 836, Cost 0.0495, m grad 0.00171, b grad -0.00843\n",
            "Epoch 837, Cost 0.0495, m grad 0.0017, b grad -0.00838\n",
            "Epoch 838, Cost 0.0495, m grad 0.00169, b grad -0.00833\n",
            "Epoch 839, Cost 0.0495, m grad 0.00168, b grad -0.00828\n",
            "Epoch 840, Cost 0.0495, m grad 0.00167, b grad -0.00823\n",
            "Epoch 841, Cost 0.0495, m grad 0.00166, b grad -0.00819\n",
            "Epoch 842, Cost 0.0495, m grad 0.00165, b grad -0.00814\n",
            "Epoch 843, Cost 0.0495, m grad 0.00164, b grad -0.00809\n",
            "Epoch 844, Cost 0.0495, m grad 0.00163, b grad -0.00805\n",
            "Epoch 845, Cost 0.0495, m grad 0.00163, b grad -0.008\n",
            "Epoch 846, Cost 0.0495, m grad 0.00162, b grad -0.00795\n",
            "Epoch 847, Cost 0.0495, m grad 0.00161, b grad -0.00791\n",
            "Epoch 848, Cost 0.0495, m grad 0.0016, b grad -0.00786\n",
            "Epoch 849, Cost 0.0495, m grad 0.00159, b grad -0.00782\n",
            "Epoch 850, Cost 0.0495, m grad 0.00158, b grad -0.00777\n",
            "Epoch 851, Cost 0.0495, m grad 0.00157, b grad -0.00773\n",
            "Epoch 852, Cost 0.0495, m grad 0.00156, b grad -0.00768\n",
            "Epoch 853, Cost 0.0495, m grad 0.00155, b grad -0.00764\n",
            "Epoch 854, Cost 0.0495, m grad 0.00154, b grad -0.00759\n",
            "Epoch 855, Cost 0.0495, m grad 0.00154, b grad -0.00755\n",
            "Epoch 856, Cost 0.0495, m grad 0.00153, b grad -0.00751\n",
            "Epoch 857, Cost 0.0495, m grad 0.00152, b grad -0.00746\n",
            "Epoch 858, Cost 0.0495, m grad 0.00151, b grad -0.00742\n",
            "Epoch 859, Cost 0.0495, m grad 0.0015, b grad -0.00738\n",
            "Epoch 860, Cost 0.0495, m grad 0.00149, b grad -0.00734\n",
            "Epoch 861, Cost 0.0495, m grad 0.00148, b grad -0.00729\n",
            "Epoch 862, Cost 0.0495, m grad 0.00147, b grad -0.00725\n",
            "Epoch 863, Cost 0.0495, m grad 0.00147, b grad -0.00721\n",
            "Epoch 864, Cost 0.0495, m grad 0.00146, b grad -0.00717\n",
            "Epoch 865, Cost 0.0495, m grad 0.00145, b grad -0.00713\n",
            "Epoch 866, Cost 0.0495, m grad 0.00144, b grad -0.00708\n",
            "Epoch 867, Cost 0.0495, m grad 0.00143, b grad -0.00704\n",
            "Epoch 868, Cost 0.0495, m grad 0.00142, b grad -0.007\n",
            "Epoch 869, Cost 0.0495, m grad 0.00142, b grad -0.00696\n",
            "Epoch 870, Cost 0.0495, m grad 0.00141, b grad -0.00692\n",
            "Epoch 871, Cost 0.0495, m grad 0.0014, b grad -0.00688\n",
            "Epoch 872, Cost 0.0495, m grad 0.00139, b grad -0.00684\n",
            "Epoch 873, Cost 0.0495, m grad 0.00138, b grad -0.0068\n",
            "Epoch 874, Cost 0.0495, m grad 0.00138, b grad -0.00676\n",
            "Epoch 875, Cost 0.0495, m grad 0.00137, b grad -0.00673\n",
            "Epoch 876, Cost 0.0495, m grad 0.00136, b grad -0.00669\n",
            "Epoch 877, Cost 0.0495, m grad 0.00135, b grad -0.00665\n",
            "Epoch 878, Cost 0.0495, m grad 0.00134, b grad -0.00661\n",
            "Epoch 879, Cost 0.0495, m grad 0.00134, b grad -0.00657\n",
            "Epoch 880, Cost 0.0495, m grad 0.00133, b grad -0.00653\n",
            "Epoch 881, Cost 0.0495, m grad 0.00132, b grad -0.0065\n",
            "Epoch 882, Cost 0.0495, m grad 0.00131, b grad -0.00646\n",
            "Epoch 883, Cost 0.0495, m grad 0.00131, b grad -0.00642\n",
            "Epoch 884, Cost 0.0495, m grad 0.0013, b grad -0.00638\n",
            "Epoch 885, Cost 0.0495, m grad 0.00129, b grad -0.00635\n",
            "Epoch 886, Cost 0.0495, m grad 0.00128, b grad -0.00631\n",
            "Epoch 887, Cost 0.0495, m grad 0.00128, b grad -0.00627\n",
            "Epoch 888, Cost 0.0495, m grad 0.00127, b grad -0.00624\n",
            "Epoch 889, Cost 0.0495, m grad 0.00126, b grad -0.0062\n",
            "Epoch 890, Cost 0.0495, m grad 0.00125, b grad -0.00617\n",
            "Epoch 891, Cost 0.0495, m grad 0.00125, b grad -0.00613\n",
            "Epoch 892, Cost 0.0495, m grad 0.00124, b grad -0.0061\n",
            "Epoch 893, Cost 0.0495, m grad 0.00123, b grad -0.00606\n",
            "Epoch 894, Cost 0.0495, m grad 0.00123, b grad -0.00603\n",
            "Epoch 895, Cost 0.0495, m grad 0.00122, b grad -0.00599\n",
            "Epoch 896, Cost 0.0495, m grad 0.00121, b grad -0.00596\n",
            "Epoch 897, Cost 0.0495, m grad 0.00121, b grad -0.00592\n",
            "Epoch 898, Cost 0.0495, m grad 0.0012, b grad -0.00589\n",
            "Epoch 899, Cost 0.0495, m grad 0.00119, b grad -0.00585\n",
            "Epoch 900, Cost 0.0495, m grad 0.00118, b grad -0.00582\n",
            "Epoch 901, Cost 0.0495, m grad 0.00118, b grad -0.00579\n",
            "Epoch 902, Cost 0.0495, m grad 0.00117, b grad -0.00575\n",
            "Epoch 903, Cost 0.0495, m grad 0.00116, b grad -0.00572\n",
            "Epoch 904, Cost 0.0495, m grad 0.00116, b grad -0.00569\n",
            "Epoch 905, Cost 0.0495, m grad 0.00115, b grad -0.00565\n",
            "Epoch 906, Cost 0.0495, m grad 0.00115, b grad -0.00562\n",
            "Epoch 907, Cost 0.0495, m grad 0.00114, b grad -0.00559\n",
            "Epoch 908, Cost 0.0495, m grad 0.00113, b grad -0.00556\n",
            "Epoch 909, Cost 0.0495, m grad 0.00112, b grad -0.00553\n",
            "Epoch 910, Cost 0.0495, m grad 0.00112, b grad -0.00549\n",
            "Epoch 911, Cost 0.0495, m grad 0.00111, b grad -0.00546\n",
            "Epoch 912, Cost 0.0495, m grad 0.0011, b grad -0.00543\n",
            "Epoch 913, Cost 0.0495, m grad 0.0011, b grad -0.0054\n",
            "Epoch 914, Cost 0.0495, m grad 0.00109, b grad -0.00537\n",
            "Epoch 915, Cost 0.0495, m grad 0.00109, b grad -0.00534\n",
            "Epoch 916, Cost 0.0495, m grad 0.00108, b grad -0.00531\n",
            "Epoch 917, Cost 0.0495, m grad 0.00107, b grad -0.00528\n",
            "Epoch 918, Cost 0.0495, m grad 0.00107, b grad -0.00524\n",
            "Epoch 919, Cost 0.0495, m grad 0.00106, b grad -0.00521\n",
            "Epoch 920, Cost 0.0495, m grad 0.00106, b grad -0.00518\n",
            "Epoch 921, Cost 0.0495, m grad 0.00105, b grad -0.00515\n",
            "Epoch 922, Cost 0.0495, m grad 0.00104, b grad -0.00513\n",
            "Epoch 923, Cost 0.0495, m grad 0.00104, b grad -0.0051\n",
            "Epoch 924, Cost 0.0495, m grad 0.00103, b grad -0.00507\n",
            "Epoch 925, Cost 0.0495, m grad 0.00102, b grad -0.00504\n",
            "Epoch 926, Cost 0.0495, m grad 0.00102, b grad -0.00501\n",
            "Epoch 927, Cost 0.0495, m grad 0.00101, b grad -0.00498\n",
            "Epoch 928, Cost 0.0495, m grad 0.00101, b grad -0.00495\n",
            "Epoch 929, Cost 0.0495, m grad 0.001, b grad -0.00492\n",
            "Epoch 930, Cost 0.0495, m grad 0.000993, b grad -0.00489\n",
            "Epoch 931, Cost 0.0495, m grad 0.000987, b grad -0.00487\n",
            "Epoch 932, Cost 0.0495, m grad 0.000981, b grad -0.00484\n",
            "Epoch 933, Cost 0.0495, m grad 0.000975, b grad -0.00481\n",
            "Epoch 934, Cost 0.0495, m grad 0.00097, b grad -0.00478\n",
            "Epoch 935, Cost 0.0495, m grad 0.000966, b grad -0.00475\n",
            "Epoch 936, Cost 0.0494, m grad 0.00096, b grad -0.00473\n",
            "Epoch 937, Cost 0.0494, m grad 0.000955, b grad -0.0047\n",
            "Epoch 938, Cost 0.0494, m grad 0.00095, b grad -0.00467\n",
            "Epoch 939, Cost 0.0494, m grad 0.000945, b grad -0.00465\n",
            "Epoch 940, Cost 0.0494, m grad 0.000939, b grad -0.00462\n",
            "Epoch 941, Cost 0.0494, m grad 0.000935, b grad -0.00459\n",
            "Epoch 942, Cost 0.0494, m grad 0.00093, b grad -0.00457\n",
            "Epoch 943, Cost 0.0494, m grad 0.000923, b grad -0.00454\n",
            "Epoch 944, Cost 0.0494, m grad 0.000917, b grad -0.00451\n",
            "Epoch 945, Cost 0.0494, m grad 0.000911, b grad -0.00449\n",
            "Epoch 946, Cost 0.0494, m grad 0.000905, b grad -0.00446\n",
            "Epoch 947, Cost 0.0494, m grad 0.0009, b grad -0.00444\n",
            "Epoch 948, Cost 0.0494, m grad 0.000896, b grad -0.00441\n",
            "Epoch 949, Cost 0.0494, m grad 0.000892, b grad -0.00438\n",
            "Epoch 950, Cost 0.0494, m grad 0.000886, b grad -0.00436\n",
            "Epoch 951, Cost 0.0494, m grad 0.00088, b grad -0.00433\n",
            "Epoch 952, Cost 0.0494, m grad 0.000875, b grad -0.00431\n",
            "Epoch 953, Cost 0.0494, m grad 0.000871, b grad -0.00428\n",
            "Epoch 954, Cost 0.0494, m grad 0.000867, b grad -0.00426\n",
            "Epoch 955, Cost 0.0494, m grad 0.000863, b grad -0.00423\n",
            "Epoch 956, Cost 0.0494, m grad 0.000857, b grad -0.00421\n",
            "Epoch 957, Cost 0.0494, m grad 0.000852, b grad -0.00419\n",
            "Epoch 958, Cost 0.0494, m grad 0.000848, b grad -0.00416\n",
            "Epoch 959, Cost 0.0494, m grad 0.000843, b grad -0.00414\n",
            "Epoch 960, Cost 0.0494, m grad 0.00084, b grad -0.00411\n",
            "Epoch 961, Cost 0.0494, m grad 0.000835, b grad -0.00409\n",
            "Epoch 962, Cost 0.0494, m grad 0.00083, b grad -0.00407\n",
            "Epoch 963, Cost 0.0494, m grad 0.000825, b grad -0.00404\n",
            "Epoch 964, Cost 0.0494, m grad 0.000821, b grad -0.00402\n",
            "Epoch 965, Cost 0.0494, m grad 0.000815, b grad -0.004\n",
            "Epoch 966, Cost 0.0494, m grad 0.00081, b grad -0.00397\n",
            "Epoch 967, Cost 0.0494, m grad 0.000805, b grad -0.00395\n",
            "Epoch 968, Cost 0.0494, m grad 0.0008, b grad -0.00393\n",
            "Epoch 969, Cost 0.0494, m grad 0.000796, b grad -0.0039\n",
            "Epoch 970, Cost 0.0494, m grad 0.000792, b grad -0.00388\n",
            "Epoch 971, Cost 0.0494, m grad 0.000786, b grad -0.00386\n",
            "Epoch 972, Cost 0.0494, m grad 0.000782, b grad -0.00384\n",
            "Epoch 973, Cost 0.0494, m grad 0.000777, b grad -0.00382\n",
            "Epoch 974, Cost 0.0494, m grad 0.000773, b grad -0.00379\n",
            "Epoch 975, Cost 0.0494, m grad 0.000767, b grad -0.00377\n",
            "Epoch 976, Cost 0.0494, m grad 0.000762, b grad -0.00375\n",
            "Epoch 977, Cost 0.0494, m grad 0.000757, b grad -0.00373\n",
            "Epoch 978, Cost 0.0494, m grad 0.000752, b grad -0.00371\n",
            "Epoch 979, Cost 0.0494, m grad 0.000748, b grad -0.00369\n",
            "Epoch 980, Cost 0.0494, m grad 0.000746, b grad -0.00366\n",
            "Epoch 981, Cost 0.0494, m grad 0.000742, b grad -0.00364\n",
            "Epoch 982, Cost 0.0494, m grad 0.000738, b grad -0.00362\n",
            "Epoch 983, Cost 0.0494, m grad 0.000733, b grad -0.0036\n",
            "Epoch 984, Cost 0.0494, m grad 0.000729, b grad -0.00358\n",
            "Epoch 985, Cost 0.0494, m grad 0.000725, b grad -0.00356\n",
            "Epoch 986, Cost 0.0494, m grad 0.000719, b grad -0.00354\n",
            "Epoch 987, Cost 0.0494, m grad 0.000713, b grad -0.00352\n",
            "Epoch 988, Cost 0.0494, m grad 0.00071, b grad -0.0035\n",
            "Epoch 989, Cost 0.0494, m grad 0.000707, b grad -0.00348\n",
            "Epoch 990, Cost 0.0494, m grad 0.000703, b grad -0.00346\n",
            "Epoch 991, Cost 0.0494, m grad 0.000698, b grad -0.00344\n",
            "Epoch 992, Cost 0.0494, m grad 0.000695, b grad -0.00342\n",
            "Epoch 993, Cost 0.0494, m grad 0.00069, b grad -0.0034\n",
            "Epoch 994, Cost 0.0494, m grad 0.000686, b grad -0.00338\n",
            "Epoch 995, Cost 0.0494, m grad 0.000683, b grad -0.00336\n",
            "Epoch 996, Cost 0.0494, m grad 0.000678, b grad -0.00334\n",
            "Epoch 997, Cost 0.0494, m grad 0.000674, b grad -0.00332\n",
            "Epoch 998, Cost 0.0494, m grad 0.00067, b grad -0.0033\n",
            "Epoch 999, Cost 0.0494, m grad 0.000669, b grad -0.00328\n"
          ],
          "name": "stdout"
        }
      ]
    },
    {
      "cell_type": "code",
      "metadata": {
        "colab": {
          "base_uri": "https://localhost:8080/",
          "height": 265
        },
        "id": "pG7ARZBbUZl5",
        "outputId": "5beb6199-f298-4c46-bc0e-436dfc85a17f"
      },
      "source": [
        "regression_plot(x, y, m, b)"
      ],
      "execution_count": 26,
      "outputs": [
        {
          "output_type": "display_data",
          "data": {
            "image/png": "[encoded data removed]",
            "text/plain": [
              "<Figure size 432x288 with 1 Axes>"
            ]
          },
          "metadata": {
            "needs_background": "light"
          }
        }
      ]
    },
    {
      "cell_type": "code",
      "metadata": {
        "colab": {
          "base_uri": "https://localhost:8080/"
        },
        "id": "EG9WDlmaUrmg",
        "outputId": "80fa5792-5ab8-4b35-f83a-d5d8a32d5e4c"
      },
      "source": [
        "m.item()"
      ],
      "execution_count": 27,
      "outputs": [
        {
          "output_type": "execute_result",
          "data": {
            "text/plain": [
              "-0.5249834060668945"
            ]
          },
          "metadata": {},
          "execution_count": 27
        }
      ]
    },
    {
      "cell_type": "code",
      "metadata": {
        "colab": {
          "base_uri": "https://localhost:8080/"
        },
        "id": "a2HPQ8p8Utcf",
        "outputId": "f52979e3-2ae1-42e6-8ef8-599107bab1e1"
      },
      "source": [
        "b.item()"
      ],
      "execution_count": 28,
      "outputs": [
        {
          "output_type": "execute_result",
          "data": {
            "text/plain": [
              "2.028555154800415"
            ]
          },
          "metadata": {},
          "execution_count": 28
        }
      ]
    },
    {
      "cell_type": "markdown",
      "metadata": {
        "id": "nvsaScsrU35_"
      },
      "source": [
        "### Note\n",
        "\n",
        "The model doesn't perfectly approximate the slope (-0.5) and $y$-intercept (2.0) used to simulate the outcomes $y$ at the top of this notebook. This reflects the imperfectness of the sample of eight data points due to adding random noise during the simulation step. In the real world, the best solution would be to sample additional data points: The more data we sample, the more accurate our estimates of the true underlying parameters will be."
      ]
    },
    {
      "cell_type": "code",
      "metadata": {
        "id": "S-1ZUoQdp_Zl"
      },
      "source": [
        ""
      ],
      "execution_count": 28,
      "outputs": []
    }
  ]
}