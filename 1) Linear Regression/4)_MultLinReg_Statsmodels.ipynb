{
  "nbformat": 4,
  "nbformat_minor": 0,
  "metadata": {
    "colab": {
      "name": "4) MultLinReg Statsmodels.ipynb",
      "provenance": [],
      "collapsed_sections": []
    },
    "kernelspec": {
      "name": "python3",
      "display_name": "Python 3"
    },
    "language_info": {
      "name": "python"
    }
  },
  "cells": [
    {
      "cell_type": "markdown",
      "metadata": {
        "id": "Fgsb_P4jhFBL"
      },
      "source": [
        "# Multiple Linear Regression: Statsmodels\n",
        "\n",
        "(Note: checking model assumptions and preprocessing excluded)"
      ]
    },
    {
      "cell_type": "markdown",
      "metadata": {
        "id": "g-yzZNAGhSl9"
      },
      "source": [
        "## Import libraries"
      ]
    },
    {
      "cell_type": "code",
      "metadata": {
        "colab": {
          "base_uri": "https://localhost:8080/"
        },
        "id": "pW5rnvkFhQSP",
        "outputId": "698ce5de-6e5e-4dbb-aa02-ca0e3f9f4d83"
      },
      "source": [
        "import numpy as np\n",
        "import pandas as pd\n",
        "import matplotlib.pyplot as plt\n",
        "import statsmodels.api as sm\n",
        "plt.style.use(\"seaborn-whitegrid\")"
      ],
      "execution_count": 1,
      "outputs": [
        {
          "output_type": "stream",
          "text": [
            "/usr/local/lib/python3.7/dist-packages/statsmodels/tools/_testing.py:19: FutureWarning: pandas.util.testing is deprecated. Use the functions in the public API at pandas.testing instead.\n",
            "  import pandas.util.testing as tm\n"
          ],
          "name": "stderr"
        }
      ]
    },
    {
      "cell_type": "markdown",
      "metadata": {
        "id": "2ywKYRy8hUQG"
      },
      "source": [
        "## Load data"
      ]
    },
    {
      "cell_type": "code",
      "metadata": {
        "colab": {
          "base_uri": "https://localhost:8080/",
          "height": 204
        },
        "id": "CTfQ1Nuwgcrp",
        "outputId": "3ede55ad-58ae-4a16-f13a-b000fc46d7fe"
      },
      "source": [
        "url = \"https://raw.githubusercontent.com/lucaskienast/Regression/main/1)%20Linear%20Regression/real_estate_price_size_year.csv\"\n",
        "df = pd.read_csv(url)\n",
        "df.head()"
      ],
      "execution_count": 2,
      "outputs": [
        {
          "output_type": "execute_result",
          "data": {
            "text/html": [
              "<div>\n",
              "<style scoped>\n",
              "    .dataframe tbody tr th:only-of-type {\n",
              "        vertical-align: middle;\n",
              "    }\n",
              "\n",
              "    .dataframe tbody tr th {\n",
              "        vertical-align: top;\n",
              "    }\n",
              "\n",
              "    .dataframe thead th {\n",
              "        text-align: right;\n",
              "    }\n",
              "</style>\n",
              "<table border=\"1\" class=\"dataframe\">\n",
              "  <thead>\n",
              "    <tr style=\"text-align: right;\">\n",
              "      <th></th>\n",
              "      <th>price</th>\n",
              "      <th>size</th>\n",
              "      <th>year</th>\n",
              "    </tr>\n",
              "  </thead>\n",
              "  <tbody>\n",
              "    <tr>\n",
              "      <th>0</th>\n",
              "      <td>234314.144</td>\n",
              "      <td>643.09</td>\n",
              "      <td>2015</td>\n",
              "    </tr>\n",
              "    <tr>\n",
              "      <th>1</th>\n",
              "      <td>228581.528</td>\n",
              "      <td>656.22</td>\n",
              "      <td>2009</td>\n",
              "    </tr>\n",
              "    <tr>\n",
              "      <th>2</th>\n",
              "      <td>281626.336</td>\n",
              "      <td>487.29</td>\n",
              "      <td>2018</td>\n",
              "    </tr>\n",
              "    <tr>\n",
              "      <th>3</th>\n",
              "      <td>401255.608</td>\n",
              "      <td>1504.75</td>\n",
              "      <td>2015</td>\n",
              "    </tr>\n",
              "    <tr>\n",
              "      <th>4</th>\n",
              "      <td>458674.256</td>\n",
              "      <td>1275.46</td>\n",
              "      <td>2009</td>\n",
              "    </tr>\n",
              "  </tbody>\n",
              "</table>\n",
              "</div>"
            ],
            "text/plain": [
              "        price     size  year\n",
              "0  234314.144   643.09  2015\n",
              "1  228581.528   656.22  2009\n",
              "2  281626.336   487.29  2018\n",
              "3  401255.608  1504.75  2015\n",
              "4  458674.256  1275.46  2009"
            ]
          },
          "metadata": {},
          "execution_count": 2
        }
      ]
    },
    {
      "cell_type": "code",
      "metadata": {
        "colab": {
          "base_uri": "https://localhost:8080/",
          "height": 297
        },
        "id": "6OPgbZsThNGj",
        "outputId": "16056006-0d43-49dc-d17d-2004d112f70c"
      },
      "source": [
        "df.describe()"
      ],
      "execution_count": 3,
      "outputs": [
        {
          "output_type": "execute_result",
          "data": {
            "text/html": [
              "<div>\n",
              "<style scoped>\n",
              "    .dataframe tbody tr th:only-of-type {\n",
              "        vertical-align: middle;\n",
              "    }\n",
              "\n",
              "    .dataframe tbody tr th {\n",
              "        vertical-align: top;\n",
              "    }\n",
              "\n",
              "    .dataframe thead th {\n",
              "        text-align: right;\n",
              "    }\n",
              "</style>\n",
              "<table border=\"1\" class=\"dataframe\">\n",
              "  <thead>\n",
              "    <tr style=\"text-align: right;\">\n",
              "      <th></th>\n",
              "      <th>price</th>\n",
              "      <th>size</th>\n",
              "      <th>year</th>\n",
              "    </tr>\n",
              "  </thead>\n",
              "  <tbody>\n",
              "    <tr>\n",
              "      <th>count</th>\n",
              "      <td>100.000000</td>\n",
              "      <td>100.000000</td>\n",
              "      <td>100.000000</td>\n",
              "    </tr>\n",
              "    <tr>\n",
              "      <th>mean</th>\n",
              "      <td>292289.470160</td>\n",
              "      <td>853.024200</td>\n",
              "      <td>2012.600000</td>\n",
              "    </tr>\n",
              "    <tr>\n",
              "      <th>std</th>\n",
              "      <td>77051.727525</td>\n",
              "      <td>297.941951</td>\n",
              "      <td>4.729021</td>\n",
              "    </tr>\n",
              "    <tr>\n",
              "      <th>min</th>\n",
              "      <td>154282.128000</td>\n",
              "      <td>479.750000</td>\n",
              "      <td>2006.000000</td>\n",
              "    </tr>\n",
              "    <tr>\n",
              "      <th>25%</th>\n",
              "      <td>234280.148000</td>\n",
              "      <td>643.330000</td>\n",
              "      <td>2009.000000</td>\n",
              "    </tr>\n",
              "    <tr>\n",
              "      <th>50%</th>\n",
              "      <td>280590.716000</td>\n",
              "      <td>696.405000</td>\n",
              "      <td>2015.000000</td>\n",
              "    </tr>\n",
              "    <tr>\n",
              "      <th>75%</th>\n",
              "      <td>335723.696000</td>\n",
              "      <td>1029.322500</td>\n",
              "      <td>2018.000000</td>\n",
              "    </tr>\n",
              "    <tr>\n",
              "      <th>max</th>\n",
              "      <td>500681.128000</td>\n",
              "      <td>1842.510000</td>\n",
              "      <td>2018.000000</td>\n",
              "    </tr>\n",
              "  </tbody>\n",
              "</table>\n",
              "</div>"
            ],
            "text/plain": [
              "               price         size         year\n",
              "count     100.000000   100.000000   100.000000\n",
              "mean   292289.470160   853.024200  2012.600000\n",
              "std     77051.727525   297.941951     4.729021\n",
              "min    154282.128000   479.750000  2006.000000\n",
              "25%    234280.148000   643.330000  2009.000000\n",
              "50%    280590.716000   696.405000  2015.000000\n",
              "75%    335723.696000  1029.322500  2018.000000\n",
              "max    500681.128000  1842.510000  2018.000000"
            ]
          },
          "metadata": {},
          "execution_count": 3
        }
      ]
    },
    {
      "cell_type": "markdown",
      "metadata": {
        "id": "EbS8O27lhkXB"
      },
      "source": [
        "## Build Multiple Linear Regression Model"
      ]
    },
    {
      "cell_type": "code",
      "metadata": {
        "id": "Hx1I1uWShbWR"
      },
      "source": [
        "# declare targets and features\n",
        "y = df[\"price\"]\n",
        "X1 = df[[\"size\", \"year\"]]"
      ],
      "execution_count": 4,
      "outputs": []
    },
    {
      "cell_type": "code",
      "metadata": {
        "colab": {
          "base_uri": "https://localhost:8080/"
        },
        "id": "-KyCt9_ghyBy",
        "outputId": "6b32f42f-4cfc-47b5-8a94-438a0f2ea013"
      },
      "source": [
        "# build model\n",
        "X = sm.add_constant(X1) # y-intercept\n",
        "model = sm.OLS(y, X)\n",
        "results = model.fit()\n",
        "print(results.summary())"
      ],
      "execution_count": 5,
      "outputs": [
        {
          "output_type": "stream",
          "text": [
            "                            OLS Regression Results                            \n",
            "==============================================================================\n",
            "Dep. Variable:                  price   R-squared:                       0.776\n",
            "Model:                            OLS   Adj. R-squared:                  0.772\n",
            "Method:                 Least Squares   F-statistic:                     168.5\n",
            "Date:                Tue, 24 Aug 2021   Prob (F-statistic):           2.77e-32\n",
            "Time:                        14:23:54   Log-Likelihood:                -1191.7\n",
            "No. Observations:                 100   AIC:                             2389.\n",
            "Df Residuals:                      97   BIC:                             2397.\n",
            "Df Model:                           2                                         \n",
            "Covariance Type:            nonrobust                                         \n",
            "==============================================================================\n",
            "                 coef    std err          t      P>|t|      [0.025      0.975]\n",
            "------------------------------------------------------------------------------\n",
            "const      -5.772e+06   1.58e+06     -3.647      0.000   -8.91e+06   -2.63e+06\n",
            "size         227.7009     12.474     18.254      0.000     202.943     252.458\n",
            "year        2916.7853    785.896      3.711      0.000    1357.000    4476.571\n",
            "==============================================================================\n",
            "Omnibus:                       10.083   Durbin-Watson:                   2.250\n",
            "Prob(Omnibus):                  0.006   Jarque-Bera (JB):                3.678\n",
            "Skew:                           0.095   Prob(JB):                        0.159\n",
            "Kurtosis:                       2.080   Cond. No.                     9.41e+05\n",
            "==============================================================================\n",
            "\n",
            "Warnings:\n",
            "[1] Standard Errors assume that the covariance matrix of the errors is correctly specified.\n",
            "[2] The condition number is large, 9.41e+05. This might indicate that there are\n",
            "strong multicollinearity or other numerical problems.\n"
          ],
          "name": "stdout"
        }
      ]
    },
    {
      "cell_type": "code",
      "metadata": {
        "id": "ZmpaAiAYiUFR"
      },
      "source": [
        "# get model parameters\n",
        "alpha = results.params[0]\n",
        "beta_size = results.params[1]\n",
        "beta_year = results.params[2]"
      ],
      "execution_count": 6,
      "outputs": []
    },
    {
      "cell_type": "markdown",
      "metadata": {
        "id": "yzwXvRlgiJQz"
      },
      "source": [
        "## Make Prediction"
      ]
    },
    {
      "cell_type": "code",
      "metadata": {
        "colab": {
          "base_uri": "https://localhost:8080/"
        },
        "id": "NuxWTG-bh9qr",
        "outputId": "f66ba39b-f9d9-401e-becb-a3a6227bc8e7"
      },
      "source": [
        "# plug in values for feature variables and predict target\n",
        "size = 500\n",
        "year = 2009\n",
        "yhat = alpha + beta_size*size + beta_year*year\n",
        "yhat"
      ],
      "execution_count": 7,
      "outputs": [
        {
          "output_type": "execute_result",
          "data": {
            "text/plain": [
              "201405.13115807343"
            ]
          },
          "metadata": {},
          "execution_count": 7
        }
      ]
    },
    {
      "cell_type": "code",
      "metadata": {
        "id": "2IvG8SPQiy1t"
      },
      "source": [
        ""
      ],
      "execution_count": 7,
      "outputs": []
    }
  ]
}